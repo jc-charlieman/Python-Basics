{
 "cells": [
  {
   "cell_type": "markdown",
   "id": "dfe67c30",
   "metadata": {},
   "source": [
    "## Functions:"
   ]
  },
  {
   "cell_type": "code",
   "execution_count": null,
   "id": "f4bf7548",
   "metadata": {},
   "outputs": [],
   "source": [
    "def greeting():\n",
    "    \"\"\"Function displaying a greeting\"\"\"\n",
    "    print('Hello!')\n",
    "\n",
    "greeting()"
   ]
  },
  {
   "cell_type": "code",
   "execution_count": null,
   "id": "c4e3ec25",
   "metadata": {},
   "outputs": [],
   "source": [
    "help(greeting)"
   ]
  },
  {
   "cell_type": "code",
   "execution_count": null,
   "id": "c86e9b49",
   "metadata": {},
   "outputs": [],
   "source": [
    "#Repetición de código\n",
    "print('We are learning to Code')\n",
    "print('We are learning Python language')\n",
    "print('We are learning Functional programming\\n')\n",
    "\n",
    "print('We are learning to Code')\n",
    "print('We are learning Python language')\n",
    "print('We are learning Functional programming\\n')\n",
    "\n",
    "print('We are learning to Code')\n",
    "print('We are learning Python language')\n",
    "print('We are learning Functional programming\\n')\n",
    "\n",
    "print('We are learning to Code')\n",
    "print('We are learning Python language')\n",
    "print('We are learning Functional programming\\n')"
   ]
  },
  {
   "cell_type": "code",
   "execution_count": null,
   "id": "26d8e805",
   "metadata": {},
   "outputs": [],
   "source": [
    "# Functions avoid code repetition\n",
    "def msg():\n",
    "    print('We are learning to code')\n",
    "    print('We are learning Python language')\n",
    "    print('We are learning Functional Programming\\n')\n",
    "\n",
    "msg()\n",
    "msg()\n",
    "msg()\n",
    "msg()\n",
    "\n",
    "# for i in range(4):\n",
    "#     msg()"
   ]
  },
  {
   "cell_type": "code",
   "execution_count": null,
   "id": "4724d805",
   "metadata": {},
   "outputs": [],
   "source": [
    "# Function containing 2 parameters as input data\n",
    "def full_name(name, ln):\n",
    "    \"\"\"Displays user's full name\"\"\"\n",
    "    # joining text with +\n",
    "    print(name.title() + ' ' + ln.title())\n",
    "\n",
    "full_name('Joaquín','Capilla')\n",
    "full_name('Vasconcelos','Jose') # Positional Arguments\n",
    "full_name(ln = 'Vasconcelos', name ='Jose') # Keyword Arguments"
   ]
  },
  {
   "cell_type": "code",
   "execution_count": null,
   "id": "2b632775",
   "metadata": {},
   "outputs": [],
   "source": [
    "help(full_name)"
   ]
  },
  {
   "cell_type": "code",
   "execution_count": null,
   "id": "f234bf4a",
   "metadata": {},
   "outputs": [],
   "source": [
    "# Basic Function to display a message\n",
    "def FN(name, last_name = 'Pérez'): # Default value for a parameter\n",
    "    \"\"\"Displays user's full name\"\"\"\n",
    "    # Joining text with +\n",
    "    message = name.title() + ' ' + last_name.title()\n",
    "    print(message)\n",
    "\n",
    "FN('Sergio') #Using the default value parameter\n",
    "FN(name = 'Sergio', last_name = 'Rodriguez') # Changing the default parameter value\n",
    "FN('Max','Verstappen') # Another way to change the default parameter value\n",
    "#NC() #Error missing 1 required positional argument: 'nombre'\n",
    "#NC('Sergio','Perez','Rodríguez') # Error 3 positional arguments"
   ]
  },
  {
   "cell_type": "code",
   "execution_count": null,
   "id": "809bf731",
   "metadata": {},
   "outputs": [],
   "source": [
    "#Function computing a value\n",
    "def f1(x,y):\n",
    "    \"\"\"Function returning the sum of 2 numbers\"\"\"\n",
    "    y = x + y\n",
    "    return y\n",
    "\n",
    "print(f1(2,3))\n",
    "print(f1(7,8))"
   ]
  },
  {
   "cell_type": "code",
   "execution_count": null,
   "id": "2eb79baa",
   "metadata": {},
   "outputs": [],
   "source": [
    "# Funtion to convert MMCFD to M3/D\n",
    "def convert(V):\n",
    "    return (1e6*V*0.3048**3)/24\n",
    "\n",
    "print(convert(1))\n",
    "print(convert(5))"
   ]
  },
  {
   "cell_type": "code",
   "execution_count": null,
   "id": "ba560a75",
   "metadata": {},
   "outputs": [],
   "source": [
    "#Distance between two points\n",
    "import math\n",
    "\n",
    "def dist(x1,y1,x2,y2):\n",
    "    \"\"\"Computes the distance between 2 points\"\"\"\n",
    "    d = math.sqrt((y2-y1)**2 + (x2-x1)**2)\n",
    "    return round(d,4)\n",
    "\n",
    "print(dist(3,4,5,7))\n",
    "print(dist(1,2,8,9))"
   ]
  },
  {
   "cell_type": "code",
   "execution_count": null,
   "id": "6fc9c20e",
   "metadata": {},
   "outputs": [],
   "source": [
    "# Basic Calculator\n",
    "def calc(a,b,oper):\n",
    "    \"\"\"Function to compute basic arithmetic operations\"\"\"\n",
    "    if oper == 'add':\n",
    "        res = a + b\n",
    "    elif oper == 'sub':\n",
    "        res = a - b\n",
    "    elif oper == 'mul':\n",
    "        res = a*b\n",
    "    elif oper == 'div':\n",
    "        res = a/b\n",
    "    elif oper == 'pow':\n",
    "        res = a**b\n",
    "    else:\n",
    "        res = ('Error: Unidentified operation.')\n",
    "    return res\n",
    "\n",
    "print(calc(5.7846,6.4578,'pow'))\n",
    "print(calc(5.7846,6.4578,'add'))"
   ]
  },
  {
   "cell_type": "code",
   "execution_count": null,
   "id": "970641ca",
   "metadata": {},
   "outputs": [],
   "source": [
    "#Function to create a dictionary\n",
    "def emp_data(name, last, age, sen):\n",
    "    \"\"\"Fill a dictionary with employee data\"\"\"\n",
    "    Employee = {'Name':name.title(), 'Last name':last.title(),'Age':age, 'Seniority':sen}\n",
    "    return Employee\n",
    "\n",
    "print(emp_data('Matt','Harrison',35,12))\n",
    "print(emp_data('Ritchie','Vink',38,15))"
   ]
  },
  {
   "cell_type": "code",
   "execution_count": null,
   "id": "58b1ae0a",
   "metadata": {},
   "outputs": [],
   "source": [
    "# Using a list \"[]\" as a function input parameter\n",
    "def x_cubic(List):\n",
    "    \"\"\"Raise the elements of the list to power 3\"\"\"\n",
    "    L = []\n",
    "    for element in List:\n",
    "        element **= 3 # element = element ** 3\n",
    "        L.append(element)\n",
    "    print(L)\n",
    "      \n",
    "A = [2,4,6,8,10,15]    \n",
    "x_cubic(A)"
   ]
  },
  {
   "cell_type": "code",
   "execution_count": 31,
   "id": "67db75a5",
   "metadata": {},
   "outputs": [],
   "source": [
    "# Same function using a list comprehension\n"
   ]
  },
  {
   "cell_type": "code",
   "execution_count": null,
   "id": "fd4ee98c",
   "metadata": {},
   "outputs": [],
   "source": [
    "#Function with unknown parameters\n",
    "def sandwich(*ingredients):\n",
    "    \"\"\"Displays the list of ingredients\"\"\"\n",
    "    print(\"You've chosen a sandwich with the following ingredients:\\n\")\n",
    "    for i in ingredients:\n",
    "        print('- ' + i.title())\n",
    "\n",
    "sandwich('ham','cheese','lettuce')\n",
    "sandwich('ham','cheese','lettuce','tomato','avocado')"
   ]
  },
  {
   "cell_type": "code",
   "execution_count": null,
   "id": "ce8b2eec",
   "metadata": {},
   "outputs": [],
   "source": [
    "# Function to compute tubing or casing or annulus volume (m3)\n",
    "def cap(de,di,long):\n",
    "    vol = 0.5067*abs((de**2-di**2))*long*1/1000\n",
    "    return vol\n",
    "\n",
    "vol_int = cap(0,8.535,1660)\n",
    "vol_EA = cap(8.535,3.2962,1548.16)\n",
    "print(vol_int)\n",
    "print(vol_EA)"
   ]
  },
  {
   "cell_type": "code",
   "execution_count": null,
   "id": "b891b868",
   "metadata": {},
   "outputs": [],
   "source": [
    "# Wellbore-42 volumes example\n",
    "V1 = cap(6.276,1.75,76.92)\n",
    "V2 = cap(4.892,1.75,3854.22-76.92)\n",
    "V3 = cap(3.958,1.75,4770-3854.22)\n",
    "V4 = cap(4.67,1.75,5006-4770.7)\n",
    "V5 = cap(1.5,0,5006)\n",
    "V6 = cap(4.67,0,5048.78-4858.78)\n",
    "total = V1 + V2 + V3 + V4 + V5 +V6\n",
    "print('V1:',V1,'V2:',V2,'V3:',V3,'V4:',V4,'V5:',V5,'V6:',V6,sep='\\n')\n",
    "print('total=',total)"
   ]
  },
  {
   "cell_type": "code",
   "execution_count": null,
   "id": "2f4ef629",
   "metadata": {},
   "outputs": [],
   "source": [
    "# 1.- Convert °API degrees to density (GE = (141.5)/(131.5 + °API))\n",
    "# 2.- Compute fluid column height (Ph = dh/10)\n",
    "# 3.- Calcular la diferencia de alturas (NF = h - PR)\n",
    "\n",
    "# Computing fluid level in wellbore\n",
    "def FL(API,P,PR):\n",
    "    d = 141.5/(131.5 + API)\n",
    "    h = P*10/d\n",
    "    fl = PR - h\n",
    "    return fl\n",
    "\n",
    "level_B_63 = FL(28.21,211,4500)\n",
    "print('Fluid level:',round(level_B_63,3), 'm')"
   ]
  },
  {
   "cell_type": "code",
   "execution_count": null,
   "id": "fb502a87",
   "metadata": {},
   "outputs": [],
   "source": [
    "# Computing cementing volumes Well-53, Casing 20\", 129.33#, DRILL-QUIP, X-52\n",
    "def cemen(De,di,L,E,Rend,Req):\n",
    "    vol_exc = 0.5067*abs((De**2-di**2))*L*(1+(E/100))*6.2898/1000\n",
    "    s = (vol_exc / Rend)*(1000/6.2898)\n",
    "    cem = (s*50)/1000\n",
    "    vol_agua = (s*Req)/1000\n",
    "    return vol_exc, s, cem, vol_agua\n",
    "\n",
    "v_ll, sac_ll, cem_ll, v_agua_ll = cemen(26,20,297,180,58.99,42.735)  \n",
    "print(v_ll, sac_ll, cem_ll, v_agua_ll, sep='   ')"
   ]
  },
  {
   "cell_type": "markdown",
   "id": "d4cfa14e",
   "metadata": {},
   "source": [
    "## Recursion"
   ]
  },
  {
   "cell_type": "code",
   "execution_count": null,
   "id": "7a27f5de",
   "metadata": {},
   "outputs": [],
   "source": [
    "# Count_Down\n",
    "def count_down(n):\n",
    "    print(n)\n",
    "    if n == 0:\n",
    "        return\n",
    "    else:\n",
    "        count_down(n-1)\n",
    "\n",
    "count_down(5)"
   ]
  },
  {
   "cell_type": "code",
   "execution_count": null,
   "id": "01303486",
   "metadata": {},
   "outputs": [],
   "source": [
    "# Factorial of a number\n",
    "def fact(n):\n",
    "    if n == 0 or n == 1:\n",
    "        return 1\n",
    "    else:\n",
    "        return n * fact(n-1)\n",
    "\n",
    "fact(5)"
   ]
  },
  {
   "cell_type": "code",
   "execution_count": null,
   "id": "f63a98b2",
   "metadata": {},
   "outputs": [],
   "source": [
    "# Factorial of a number (one-liner)\n",
    "def factorial(n):\n",
    "    return 1 if n <= 1 else n * factorial(n-1)\n",
    "\n",
    "factorial(5)"
   ]
  },
  {
   "cell_type": "markdown",
   "id": "99d95c68",
   "metadata": {},
   "source": [
    "## Anonymous Functions or Lambda Expressions:"
   ]
  },
  {
   "cell_type": "code",
   "execution_count": null,
   "id": "6d93ba61",
   "metadata": {},
   "outputs": [],
   "source": [
    "# Area of a triangle\n",
    "Area = lambda b,h: b*h/2\n",
    "\n",
    "print(Area(2,5))\n",
    "print(Area(3,4))"
   ]
  },
  {
   "cell_type": "code",
   "execution_count": null,
   "id": "7195f5f8",
   "metadata": {},
   "outputs": [],
   "source": [
    "# Adding 3 numbers\n",
    "Suma = lambda x,y,z: x+y+z\n",
    "\n",
    "print(Suma(3,8,12))\n",
    "print(Suma(4,5,6))"
   ]
  },
  {
   "cell_type": "code",
   "execution_count": null,
   "id": "8ec606f0",
   "metadata": {},
   "outputs": [],
   "source": [
    "# Evens and odds\n",
    "def evens(L):\n",
    "    \"\"\"Get the evens from a list\"\"\"\n",
    "    list_evens = []\n",
    "    for i in L:\n",
    "        if i%2 == 0:\n",
    "            list_evens.append(i)\n",
    "    return list_evens\n",
    "\n",
    "def odds(lista):\n",
    "    \"\"\"Get the odds from a list\"\"\"\n",
    "    list_odds = []\n",
    "    for i in lista:\n",
    "        if i%2 != 0:\n",
    "            list_odds.append(i)\n",
    "    return list_odds\n",
    "\n",
    "L = [1,2,3,4,5,6,7,8,9,10]\n",
    "\n",
    "print(evens(L) )\n",
    "print(odds(L))"
   ]
  },
  {
   "cell_type": "code",
   "execution_count": null,
   "id": "a25eca9c",
   "metadata": {},
   "outputs": [],
   "source": [
    "# Lambda and Filter() functions \n",
    "L_evens_2 = filter(lambda x:x%2 == 0,L)\n",
    "L_odds_2 = filter(lambda x:x%2 != 0,L)\n",
    "print(list(L_evens_2))\n",
    "print(list(L_odds_2))"
   ]
  },
  {
   "cell_type": "code",
   "execution_count": null,
   "id": "99b4d5c2",
   "metadata": {},
   "outputs": [],
   "source": [
    "# Lambda and Map() functions \n",
    "N = [1,2,3,4,5,6,7,8,9,10]\n",
    "M = list(map(lambda x:x+x,N))\n",
    "\n",
    "print(M)"
   ]
  },
  {
   "cell_type": "code",
   "execution_count": 58,
   "id": "f177f082",
   "metadata": {},
   "outputs": [
    {
     "name": "stdout",
     "output_type": "stream",
     "text": [
      "10\n"
     ]
    }
   ],
   "source": [
    "# Lambda and reduce() functions\n",
    "from functools import reduce\n",
    "\n",
    "L = list(range(5)) # 0, 1, 2, 3, 4 = 10\n",
    "resultado = reduce(lambda x,y:x+y,L)\n",
    "print(resultado)"
   ]
  }
 ],
 "metadata": {
  "kernelspec": {
   "display_name": "Python 3",
   "language": "python",
   "name": "python3"
  },
  "language_info": {
   "codemirror_mode": {
    "name": "ipython",
    "version": 3
   },
   "file_extension": ".py",
   "mimetype": "text/x-python",
   "name": "python",
   "nbconvert_exporter": "python",
   "pygments_lexer": "ipython3",
   "version": "3.11.5"
  }
 },
 "nbformat": 4,
 "nbformat_minor": 5
}
