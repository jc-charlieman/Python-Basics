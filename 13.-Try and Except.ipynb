{
 "cells": [
  {
   "cell_type": "markdown",
   "id": "6de9f199",
   "metadata": {},
   "source": [
    "### Error-Handling"
   ]
  },
  {
   "cell_type": "code",
   "execution_count": null,
   "id": "a1c2a1e5",
   "metadata": {
    "scrolled": false
   },
   "outputs": [],
   "source": [
    "# ZeroDivisionError\n",
    "print(10/0)"
   ]
  },
  {
   "cell_type": "code",
   "execution_count": null,
   "id": "ac0f4c88",
   "metadata": {
    "scrolled": false
   },
   "outputs": [],
   "source": [
    "# SyntaxError\n",
    "print('Mexico)"
   ]
  },
  {
   "cell_type": "code",
   "execution_count": null,
   "id": "0b042032",
   "metadata": {
    "scrolled": true
   },
   "outputs": [],
   "source": [
    "# NameError\n",
    "A = np.array(range(11))\n",
    "print(A)"
   ]
  },
  {
   "cell_type": "code",
   "execution_count": null,
   "id": "6f5b7e4b",
   "metadata": {
    "scrolled": true
   },
   "outputs": [],
   "source": [
    "# ValueError\n",
    "import math\n",
    "root = math.sqrt(-2) \n",
    "print(root)"
   ]
  },
  {
   "cell_type": "code",
   "execution_count": null,
   "id": "c60c84b9",
   "metadata": {
    "scrolled": true
   },
   "outputs": [],
   "source": [
    "# TypeError\n",
    "Set = {1,2,3,4,5}\n",
    "Set[2] = 10\n",
    "print(Set)"
   ]
  },
  {
   "cell_type": "code",
   "execution_count": null,
   "id": "00e767e3",
   "metadata": {
    "scrolled": true
   },
   "outputs": [],
   "source": [
    "# IndexError\n",
    "T = (10,11,12,13,14,15)\n",
    "print(T[6])"
   ]
  },
  {
   "cell_type": "code",
   "execution_count": null,
   "id": "0ce9af5a",
   "metadata": {},
   "outputs": [],
   "source": [
    "# IndentationError\n",
    "name = 'Guido'\n",
    "if name == 'Guido':\n",
    "print('Welcome Guido!.')"
   ]
  },
  {
   "cell_type": "code",
   "execution_count": null,
   "id": "c356f6ac",
   "metadata": {
    "scrolled": true
   },
   "outputs": [],
   "source": [
    "# Try and Except: ZeroDivisionError \n",
    "n_1 = float(input('Type the dividend: '))\n",
    "n_2 = float(input('Type the divisor: '))\n",
    "try:\n",
    "    div = n_1/n_2\n",
    "    print('Division is equal to :',div)\n",
    "except ZeroDivisionError:\n",
    "    print('Invalid operation, zerodivision warning!.')"
   ]
  },
  {
   "cell_type": "code",
   "execution_count": null,
   "id": "eb4e784d",
   "metadata": {
    "scrolled": true
   },
   "outputs": [],
   "source": [
    "# Try and Except Example: ZeroDivisionError, ValueError & Nested While Loop\n",
    "while True:\n",
    "    try:\n",
    "        n_1 = float(input('Type the dividend: '))\n",
    "    except ValueError:\n",
    "        print('Invalid character.\\nTry again.')\n",
    "        continue\n",
    "    while 1:\n",
    "        try:    \n",
    "            n_2 = float(input('Type the divisor: '))\n",
    "            break\n",
    "        except ValueError:\n",
    "            print('Invalid character.\\nTry again!.')\n",
    "            continue\n",
    "    try:\n",
    "        div = n_1/n_2\n",
    "        print('Division is equal to :', div)\n",
    "        break\n",
    "    except ZeroDivisionError:\n",
    "        print('Invalid operation, zerodivision warning!.')\n",
    "        break"
   ]
  },
  {
   "cell_type": "code",
   "execution_count": null,
   "id": "3db6a00f",
   "metadata": {},
   "outputs": [],
   "source": [
    "# Try, Except, Else \n",
    "n_1 = float(input('Type the dividend: '))\n",
    "n_2 = float(input('Type the divisor: '))\n",
    "try:\n",
    "    div = n_1/n_2\n",
    "except ZeroDivisionError:\n",
    "    print('Invalid operation, zero_division warning!.')\n",
    "else:\n",
    "     print('Division is equal to :', div)\n",
    "finally:\n",
    "    print('Good bye!.')"
   ]
  }
 ],
 "metadata": {
  "kernelspec": {
   "display_name": "Python 3 (ipykernel)",
   "language": "python",
   "name": "python3"
  },
  "language_info": {
   "codemirror_mode": {
    "name": "ipython",
    "version": 3
   },
   "file_extension": ".py",
   "mimetype": "text/x-python",
   "name": "python",
   "nbconvert_exporter": "python",
   "pygments_lexer": "ipython3",
   "version": "3.11.5"
  }
 },
 "nbformat": 4,
 "nbformat_minor": 5
}
