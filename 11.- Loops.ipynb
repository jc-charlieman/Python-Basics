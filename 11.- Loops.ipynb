{
 "cells": [
  {
   "cell_type": "markdown",
   "id": "bf962046",
   "metadata": {},
   "source": [
    "#  for loop"
   ]
  },
  {
   "cell_type": "code",
   "execution_count": 29,
   "id": "6cf5e114",
   "metadata": {
    "scrolled": true
   },
   "outputs": [
    {
     "name": "stdout",
     "output_type": "stream",
     "text": [
      "1.-weekend\n",
      "2.-weekend\n",
      "3.-weekend\n",
      "4.-weekend\n",
      "5.-weekend\n",
      "6.-weekend\n",
      "7.-weekend\n",
      "8.-weekend\n"
     ]
    }
   ],
   "source": [
    "print('1.-weekend')\n",
    "print('2.-weekend')\n",
    "print('3.-weekend')\n",
    "print('4.-weekend')\n",
    "print('5.-weekend')\n",
    "print('6.-weekend')\n",
    "print('7.-weekend')\n",
    "print('8.-weekend')"
   ]
  },
  {
   "cell_type": "code",
   "execution_count": 30,
   "id": "e29dd5cf",
   "metadata": {
    "scrolled": true
   },
   "outputs": [
    {
     "name": "stdout",
     "output_type": "stream",
     "text": [
      "1.-weekend\n",
      "2.-weekend\n",
      "3.-weekend\n",
      "4.-weekend\n",
      "5.-weekend\n",
      "6.-weekend\n",
      "7.-weekend\n",
      "8.-weekend\n"
     ]
    }
   ],
   "source": [
    "# for loop & range function\n",
    "for i in range(1,9):\n",
    "    print(f'{i}.-weekend')"
   ]
  },
  {
   "cell_type": "code",
   "execution_count": 1,
   "id": "832258f1",
   "metadata": {},
   "outputs": [
    {
     "name": "stdout",
     "output_type": "stream",
     "text": [
      "10\n",
      "9\n",
      "8\n",
      "7\n",
      "6\n",
      "5\n",
      "4\n",
      "3\n",
      "2\n",
      "1\n"
     ]
    }
   ],
   "source": [
    "# for loop & reversed range function\n",
    "for x in range(10,0,-1):\n",
    "    print(x)"
   ]
  },
  {
   "cell_type": "code",
   "execution_count": 4,
   "id": "4b30ced1",
   "metadata": {
    "scrolled": true
   },
   "outputs": [
    {
     "name": "stdout",
     "output_type": "stream",
     "text": [
      "0\n",
      "2\n",
      "4\n",
      "6\n",
      "8\n"
     ]
    }
   ],
   "source": [
    "# for loop & 2-step range function\n",
    "for x in range(0,10,2):\n",
    "    print(x)"
   ]
  },
  {
   "cell_type": "code",
   "execution_count": 40,
   "id": "8e390f9a",
   "metadata": {},
   "outputs": [
    {
     "name": "stdout",
     "output_type": "stream",
     "text": [
      "0\n",
      "1\n",
      "2\n",
      "3\n",
      "4\n"
     ]
    }
   ],
   "source": [
    "# for loop & break statement\n",
    "for x in range(0,10):\n",
    "    if x == 5:\n",
    "        break\n",
    "    print(x)"
   ]
  },
  {
   "cell_type": "code",
   "execution_count": 41,
   "id": "e7283e2c",
   "metadata": {},
   "outputs": [
    {
     "name": "stdout",
     "output_type": "stream",
     "text": [
      "0\n",
      "1\n",
      "2\n",
      "3\n",
      "4\n",
      "6\n",
      "7\n",
      "8\n",
      "9\n"
     ]
    }
   ],
   "source": [
    "# Ciclo for con función range y sentencia continue\n",
    "# for loop & continue statement\n",
    "for x in range(0,10):\n",
    "    if x == 5:\n",
    "        continue\n",
    "    print(x)"
   ]
  },
  {
   "cell_type": "code",
   "execution_count": 5,
   "id": "ae44b820",
   "metadata": {},
   "outputs": [
    {
     "name": "stdout",
     "output_type": "stream",
     "text": [
      "iter: 1 value: 4\n",
      "iter: 2 value: 5\n",
      "iter: 3 value: 6\n",
      "iter: 4 value: 7\n",
      "iter: 5 value: 8\n"
     ]
    }
   ],
   "source": [
    "y = 3 # Assigning a variable\n",
    "for i in range(1,6):  # the code inside the for loop will be executed 6 times\n",
    "    y = y + 1        # y variable is updated adding the value of 1\n",
    "    print('iter:',i,'value:',y)  # Displaying the value of the variable"
   ]
  },
  {
   "cell_type": "code",
   "execution_count": 7,
   "id": "acbec2a7",
   "metadata": {},
   "outputs": [
    {
     "name": "stdout",
     "output_type": "stream",
     "text": [
      "weekend\n",
      "weekend\n",
      "weekend\n",
      "weekend\n",
      "weekend\n",
      "weekend\n",
      "weekend\n",
      "weekend\n"
     ]
    }
   ],
   "source": [
    "# iterations through a List\n",
    "List = [1,2,3,4,5,6,7,8]\n",
    "for element in List:\n",
    "    print('weekend')"
   ]
  },
  {
   "cell_type": "code",
   "execution_count": 8,
   "id": "264451a4",
   "metadata": {},
   "outputs": [
    {
     "name": "stdout",
     "output_type": "stream",
     "text": [
      "1\n",
      "2\n",
      "3\n",
      "4\n",
      "5\n",
      "6\n",
      "7\n",
      "8\n",
      "9\n"
     ]
    }
   ],
   "source": [
    "# iterations through a nested for-loop\n",
    "L = [[1,2,3],[4,5,6],[7,8,9]]\n",
    "for i in L:\n",
    "    for j in i:\n",
    "        print(j)"
   ]
  },
  {
   "cell_type": "code",
   "execution_count": 11,
   "id": "7481ab06",
   "metadata": {},
   "outputs": [
    {
     "name": "stdout",
     "output_type": "stream",
     "text": [
      "5050\n"
     ]
    }
   ],
   "source": [
    "# Gauss Sum (first 100 numbers)\n",
    "sum = 0\n",
    "for i in range(101):\n",
    "    sum += i\n",
    "print(sum)"
   ]
  },
  {
   "cell_type": "code",
   "execution_count": 13,
   "id": "77a6e8fc",
   "metadata": {},
   "outputs": [
    {
     "name": "stdout",
     "output_type": "stream",
     "text": [
      "0 1 1 2 3 5 8 13 21 34 "
     ]
    }
   ],
   "source": [
    "# Fibonacci series\n",
    "# 1,2,3,4,5,6,7,8,9,10,11,12...\n",
    "# 0,1,1,2,3,5,8,13,21,34,55,89...\n",
    "a = 0\n",
    "b = 1\n",
    "n = int(input('Type the number of elements: '))\n",
    "print(a,b, sep=' ', end=' ')\n",
    "for element in range(1,n-1):\n",
    "    c = a + b\n",
    "    print(c,end=' ')\n",
    "    a = b\n",
    "    b = c"
   ]
  },
  {
   "cell_type": "markdown",
   "id": "60ca28b2",
   "metadata": {},
   "source": [
    "## While loop"
   ]
  },
  {
   "cell_type": "code",
   "execution_count": 14,
   "id": "be13c4e6",
   "metadata": {
    "scrolled": true
   },
   "outputs": [
    {
     "name": "stdout",
     "output_type": "stream",
     "text": [
      "0\n",
      "1\n",
      "2\n",
      "3\n",
      "4\n",
      "5\n",
      "6\n"
     ]
    }
   ],
   "source": [
    "# simple while loop\n",
    "b = 0\n",
    "while b < 7:\n",
    "    print(b)\n",
    "    b = b + 1"
   ]
  },
  {
   "cell_type": "code",
   "execution_count": 16,
   "id": "7628cdf9",
   "metadata": {},
   "outputs": [
    {
     "name": "stdout",
     "output_type": "stream",
     "text": [
      "1\n",
      "2\n",
      "3\n",
      "5\n",
      "6\n",
      "7\n"
     ]
    }
   ],
   "source": [
    "# while loop & continue statement\n",
    "b = 0\n",
    "while b < 7:\n",
    "    b = b + 1\n",
    "    if b == 4:\n",
    "        continue\n",
    "    print(b)"
   ]
  },
  {
   "cell_type": "code",
   "execution_count": 17,
   "id": "5e8a06cb",
   "metadata": {},
   "outputs": [
    {
     "name": "stdout",
     "output_type": "stream",
     "text": [
      "1\n",
      "2\n",
      "3\n"
     ]
    }
   ],
   "source": [
    "# while loops & break statement\n",
    "b = 0\n",
    "while b < 7:\n",
    "    b += 1\n",
    "    if b == 4:\n",
    "        break\n",
    "    print(b)"
   ]
  },
  {
   "cell_type": "code",
   "execution_count": 18,
   "id": "da31eed2",
   "metadata": {
    "scrolled": true
   },
   "outputs": [
    {
     "name": "stdout",
     "output_type": "stream",
     "text": [
      "You've chosen: 10\n"
     ]
    }
   ],
   "source": [
    "var = 1\n",
    "while var == 1:\n",
    "    n = input('Type a number: ')\n",
    "    print(\"You've chosen: \" + n)\n",
    "    var = int(input('Would you like to repeat?  \\n Si(1) \\n No(2) \\n'))"
   ]
  },
  {
   "cell_type": "code",
   "execution_count": 6,
   "id": "3677619b",
   "metadata": {
    "scrolled": false
   },
   "outputs": [],
   "source": [
    "# infinite loop\n",
    "# while True:\n",
    "#     print(\"You're trapped on an infinite loop, press stop.\", :(.')"
   ]
  },
  {
   "cell_type": "code",
   "execution_count": 19,
   "id": "9b3277c0",
   "metadata": {},
   "outputs": [
    {
     "name": "stdout",
     "output_type": "stream",
     "text": [
      "This is an infinite loop.\n",
      "This is an infinite loop.\n",
      "This is an infinite loop.\n",
      "This is an infinite loop.\n",
      "This is an infinite loop.\n",
      "Adios!\n"
     ]
    }
   ],
   "source": [
    "# infinite loop\n",
    "while True:\n",
    "    print('This is an infinite loop.')\n",
    "    resp = input('Woul you like to exit?: Y/N \\n')\n",
    "    if resp == 'Y' or resp =='y':\n",
    "        print('Adios!')\n",
    "        break\n",
    "    else:\n",
    "        continue"
   ]
  },
  {
   "cell_type": "code",
   "execution_count": 20,
   "id": "d107d768",
   "metadata": {},
   "outputs": [
    {
     "name": "stdout",
     "output_type": "stream",
     "text": [
      "0 1 1 2 3 5 8 13 21 34 "
     ]
    }
   ],
   "source": [
    "# Fibonacci series:\n",
    "# 0,1,1,2,3,5,8,13,21,34...\n",
    "e = int(input('Number of elements: '))\n",
    "a = 0\n",
    "b = 1\n",
    "y = 0\n",
    "print(a,b,end=' ')\n",
    "while y < e-2:\n",
    "    c = a + b\n",
    "    print(c,end=' ')\n",
    "    a = b\n",
    "    b = c\n",
    "    y = y + 1"
   ]
  },
  {
   "cell_type": "code",
   "execution_count": 23,
   "id": "5a925b1d",
   "metadata": {
    "scrolled": false
   },
   "outputs": [
    {
     "name": "stdout",
     "output_type": "stream",
     "text": [
      "Welcome!.\n",
      "Try again.\n",
      "Try again.\n",
      "You're account has been blocked. \n",
      "Try again in 30 min.\n"
     ]
    }
   ],
   "source": [
    "# Accesing an user's account\n",
    "while True:\n",
    "    id = input('id_number: ')\n",
    "    if id == '304237':\n",
    "        print('Welcome!.')\n",
    "        break\n",
    "    else:\n",
    "        print('Wrong id.Try again.')\n",
    "        continue\n",
    "tries = 1\n",
    "while 1:\n",
    "    password = input('Password: ')\n",
    "    if password == 'IBM':\n",
    "        print(\"You're inside!.\")\n",
    "        break\n",
    "    elif password != 'IBM' and tries < 3: \n",
    "        print('Try again.')\n",
    "        tries += 1\n",
    "    elif password != 'IBM' and tries == 3:\n",
    "        print(\"You're account has been blocked. \\nTry again in 30 min.\")\n",
    "        break"
   ]
  }
 ],
 "metadata": {
  "kernelspec": {
   "display_name": "Python 3 (ipykernel)",
   "language": "python",
   "name": "python3"
  },
  "language_info": {
   "codemirror_mode": {
    "name": "ipython",
    "version": 3
   },
   "file_extension": ".py",
   "mimetype": "text/x-python",
   "name": "python",
   "nbconvert_exporter": "python",
   "pygments_lexer": "ipython3",
   "version": "3.11.5"
  }
 },
 "nbformat": 4,
 "nbformat_minor": 5
}
