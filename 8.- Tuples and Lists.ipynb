{
 "cells": [
  {
   "cell_type": "markdown",
   "id": "fd4f5fef",
   "metadata": {},
   "source": [
    "## Tuples"
   ]
  },
  {
   "cell_type": "code",
   "execution_count": 2,
   "id": "5758fff3",
   "metadata": {},
   "outputs": [
    {
     "name": "stdout",
     "output_type": "stream",
     "text": [
      "(1, 2, 3, 4, 5)\n",
      "<class 'tuple'>\n"
     ]
    }
   ],
   "source": [
    "# Declaring a tuple\n",
    "T = (1,2,3,4,5)\n",
    "print(T)\n",
    "tp = tuple('Coffee')\n",
    "print(type(tp))"
   ]
  },
  {
   "cell_type": "code",
   "execution_count": 3,
   "id": "d457f967",
   "metadata": {},
   "outputs": [
    {
     "ename": "TypeError",
     "evalue": "'tuple' object does not support item assignment",
     "output_type": "error",
     "traceback": [
      "\u001b[1;31m---------------------------------------------------------------------------\u001b[0m",
      "\u001b[1;31mTypeError\u001b[0m                                 Traceback (most recent call last)",
      "Cell \u001b[1;32mIn[3], line 3\u001b[0m\n\u001b[0;32m      1\u001b[0m \u001b[38;5;66;03m# tuples are immutable \u001b[39;00m\n\u001b[0;32m      2\u001b[0m T_0 \u001b[38;5;241m=\u001b[39m (\u001b[38;5;241m1\u001b[39m,\u001b[38;5;241m2\u001b[39m,\u001b[38;5;241m3\u001b[39m,\u001b[38;5;241m4\u001b[39m,\u001b[38;5;241m5\u001b[39m)\n\u001b[1;32m----> 3\u001b[0m \u001b[43mT_0\u001b[49m\u001b[43m[\u001b[49m\u001b[38;5;241;43m2\u001b[39;49m\u001b[43m]\u001b[49m \u001b[38;5;241m=\u001b[39m \u001b[38;5;241m6\u001b[39m\n\u001b[0;32m      4\u001b[0m \u001b[38;5;28mprint\u001b[39m(T_0)\n",
      "\u001b[1;31mTypeError\u001b[0m: 'tuple' object does not support item assignment"
     ]
    }
   ],
   "source": [
    "# tuples are immutable \n",
    "T_0 = (1,2,3,4,5)\n",
    "T_0[2] = 6\n",
    "print(T_0)"
   ]
  },
  {
   "cell_type": "markdown",
   "id": "5c73bb66",
   "metadata": {},
   "source": [
    "### Sequence operations\n",
    "#### (Concatenation, Repetition, Membership test, Indexing, Slicing)"
   ]
  },
  {
   "cell_type": "code",
   "execution_count": 5,
   "id": "6ad10e36",
   "metadata": {},
   "outputs": [
    {
     "name": "stdout",
     "output_type": "stream",
     "text": [
      "('Mexico', 'Colombia', 'Brasil', 'Venezuela', 'Argentina', 'Chile', 'Cuba')\n"
     ]
    }
   ],
   "source": [
    "# Concatenation\n",
    "T_1 = ('Mexico','Colombia','Brasil','Venezuela')\n",
    "T_2 = ('Argentina','Chile','Cuba')\n",
    "print(T_1 + T_2)"
   ]
  },
  {
   "cell_type": "code",
   "execution_count": 6,
   "id": "56e0c22c",
   "metadata": {},
   "outputs": [
    {
     "name": "stdout",
     "output_type": "stream",
     "text": [
      "AlaskaAlaskaAlaskaAlaskaAlaskaAlaskaAlaskaAlaskaAlaskaAlaska\n"
     ]
    }
   ],
   "source": [
    "# Repetition\n",
    "T_3 = ('Alaska')*10\n",
    "print(T_3)"
   ]
  },
  {
   "cell_type": "code",
   "execution_count": 7,
   "id": "16e2ced0",
   "metadata": {},
   "outputs": [
    {
     "name": "stdout",
     "output_type": "stream",
     "text": [
      "False\n",
      "True\n"
     ]
    }
   ],
   "source": [
    "# Membership test\n",
    "T_1 = ('Mexico','Colombia','Brasil','Venezuela')\n",
    "T_2 = ('Argentina','Chile,','Cuba')\n",
    "print('Chile' in T_2)\n",
    "print('Colombia' not in T_2)"
   ]
  },
  {
   "cell_type": "markdown",
   "id": "6314a307",
   "metadata": {},
   "source": [
    "### Indexing"
   ]
  },
  {
   "cell_type": "code",
   "execution_count": 8,
   "id": "c3b3863a",
   "metadata": {},
   "outputs": [
    {
     "name": "stdout",
     "output_type": "stream",
     "text": [
      "Venezuela\n"
     ]
    }
   ],
   "source": [
    "# Indexing\n",
    "T_4 = ('México','Colombia','Brasil','Venezuela','Argentina','Chile','Cuba') \n",
    "print(T_4[3])"
   ]
  },
  {
   "cell_type": "code",
   "execution_count": 9,
   "id": "321e8a86",
   "metadata": {},
   "outputs": [
    {
     "name": "stdout",
     "output_type": "stream",
     "text": [
      "México\n"
     ]
    }
   ],
   "source": [
    "# last element\n",
    "print(T_4[-7])"
   ]
  },
  {
   "cell_type": "code",
   "execution_count": 9,
   "id": "05d76766",
   "metadata": {
    "scrolled": true
   },
   "outputs": [
    {
     "name": "stdout",
     "output_type": "stream",
     "text": [
      "Argentina\n"
     ]
    }
   ],
   "source": [
    "# third element from right to left\n",
    "print(T_4[-3])"
   ]
  },
  {
   "cell_type": "markdown",
   "id": "67eac542",
   "metadata": {},
   "source": [
    "### Slicing"
   ]
  },
  {
   "cell_type": "code",
   "execution_count": 10,
   "id": "797eabb3",
   "metadata": {},
   "outputs": [
    {
     "name": "stdout",
     "output_type": "stream",
     "text": [
      "('México', 'Colombia', 'Brasil', 'Venezuela', 'Argentina', 'Chile', 'Cuba')\n"
     ]
    }
   ],
   "source": [
    "# all the tuple with steps of 2\n",
    "print(T_4[::])"
   ]
  },
  {
   "cell_type": "code",
   "execution_count": 11,
   "metadata": {},
   "outputs": [
    {
     "name": "stdout",
     "output_type": "stream",
     "text": [
      "('México', 'Colombia', 'Brasil', 'Venezuela', 'Argentina', 'Chile', 'Cuba')\n"
     ]
    }
   ],
   "source": [
    "print(T_4)"
   ]
  },
  {
   "cell_type": "code",
   "execution_count": 12,
   "id": "71091060",
   "metadata": {},
   "outputs": [
    {
     "name": "stdout",
     "output_type": "stream",
     "text": [
      "('Cuba', 'Chile', 'Argentina', 'Venezuela', 'Brasil', 'Colombia', 'México')\n"
     ]
    }
   ],
   "source": [
    "# Reversing the tuple\n",
    "print(T_4[::-1])"
   ]
  },
  {
   "cell_type": "code",
   "execution_count": 16,
   "id": "474d919d",
   "metadata": {
    "scrolled": true
   },
   "outputs": [
    {
     "name": "stdout",
     "output_type": "stream",
     "text": [
      "('Brasil', 'Venezuela', 'Argentina', 'Chile', 'Cuba')\n"
     ]
    }
   ],
   "source": [
    "# all the tuple beggining at element 2\n",
    "print(T_4[2:])"
   ]
  },
  {
   "cell_type": "code",
   "execution_count": 13,
   "id": "64fb4e63",
   "metadata": {},
   "outputs": [
    {
     "name": "stdout",
     "output_type": "stream",
     "text": [
      "('México', 'Colombia', 'Brasil')\n"
     ]
    }
   ],
   "source": [
    "# first 3 elements of the tuple (0,1,2)\n",
    "print(T_4[:3])"
   ]
  },
  {
   "cell_type": "markdown",
   "id": "fa9d6712",
   "metadata": {},
   "source": [
    "### Tuple functions"
   ]
  },
  {
   "cell_type": "code",
   "execution_count": 15,
   "id": "5614dea5",
   "metadata": {},
   "outputs": [
    {
     "name": "stdout",
     "output_type": "stream",
     "text": [
      "(0, 1, 2, 3, 4, 5, 6, 7, 8, 9, 10)\n"
     ]
    }
   ],
   "source": [
    "# converting a range of numbers into a tuple\n",
    "T_5 = tuple(range(11))\n",
    "print(T_5)"
   ]
  },
  {
   "cell_type": "code",
   "execution_count": 16,
   "id": "a5b8a405",
   "metadata": {},
   "outputs": [
    {
     "name": "stdout",
     "output_type": "stream",
     "text": [
      "11\n"
     ]
    }
   ],
   "source": [
    "# len() returns the total elements of a tuple\n",
    "print(len(T_5))"
   ]
  },
  {
   "cell_type": "code",
   "execution_count": 21,
   "id": "ade0e24c",
   "metadata": {},
   "outputs": [
    {
     "name": "stdout",
     "output_type": "stream",
     "text": [
      "10\n"
     ]
    }
   ],
   "source": [
    "# Maximum value\n",
    "print(max(T_5))"
   ]
  },
  {
   "cell_type": "code",
   "execution_count": 22,
   "id": "aecc0436",
   "metadata": {},
   "outputs": [
    {
     "name": "stdout",
     "output_type": "stream",
     "text": [
      "0\n"
     ]
    }
   ],
   "source": [
    "# Minimum value\n",
    "print(min(T_5))"
   ]
  },
  {
   "cell_type": "code",
   "execution_count": 17,
   "id": "7c467e38",
   "metadata": {},
   "outputs": [
    {
     "name": "stdout",
     "output_type": "stream",
     "text": [
      "5.0\n"
     ]
    }
   ],
   "source": [
    "# computing the average using sum() and len() methods\n",
    "print(sum(T_5)/len(T_5))"
   ]
  },
  {
   "cell_type": "code",
   "execution_count": 24,
   "id": "ce20bba4",
   "metadata": {
    "scrolled": true
   },
   "outputs": [
    {
     "data": {
      "text/plain": [
       "['__add__',\n",
       " '__class__',\n",
       " '__class_getitem__',\n",
       " '__contains__',\n",
       " '__delattr__',\n",
       " '__dir__',\n",
       " '__doc__',\n",
       " '__eq__',\n",
       " '__format__',\n",
       " '__ge__',\n",
       " '__getattribute__',\n",
       " '__getitem__',\n",
       " '__getnewargs__',\n",
       " '__getstate__',\n",
       " '__gt__',\n",
       " '__hash__',\n",
       " '__init__',\n",
       " '__init_subclass__',\n",
       " '__iter__',\n",
       " '__le__',\n",
       " '__len__',\n",
       " '__lt__',\n",
       " '__mul__',\n",
       " '__ne__',\n",
       " '__new__',\n",
       " '__reduce__',\n",
       " '__reduce_ex__',\n",
       " '__repr__',\n",
       " '__rmul__',\n",
       " '__setattr__',\n",
       " '__sizeof__',\n",
       " '__str__',\n",
       " '__subclasshook__',\n",
       " 'count',\n",
       " 'index']"
      ]
     },
     "execution_count": 24,
     "metadata": {},
     "output_type": "execute_result"
    }
   ],
   "source": [
    "# dir() method displays functions available for tuples\n",
    "dir(tuple)"
   ]
  },
  {
   "cell_type": "code",
   "execution_count": 18,
   "id": "02db0249",
   "metadata": {
    "scrolled": false
   },
   "outputs": [
    {
     "name": "stdout",
     "output_type": "stream",
     "text": [
      "Help on class tuple in module builtins:\n",
      "\n",
      "class tuple(object)\n",
      " |  tuple(iterable=(), /)\n",
      " |  \n",
      " |  Built-in immutable sequence.\n",
      " |  \n",
      " |  If no argument is given, the constructor returns an empty tuple.\n",
      " |  If iterable is specified the tuple is initialized from iterable's items.\n",
      " |  \n",
      " |  If the argument is a tuple, the return value is the same object.\n",
      " |  \n",
      " |  Built-in subclasses:\n",
      " |      asyncgen_hooks\n",
      " |      UnraisableHookArgs\n",
      " |  \n",
      " |  Methods defined here:\n",
      " |  \n",
      " |  __add__(self, value, /)\n",
      " |      Return self+value.\n",
      " |  \n",
      " |  __contains__(self, key, /)\n",
      " |      Return key in self.\n",
      " |  \n",
      " |  __eq__(self, value, /)\n",
      " |      Return self==value.\n",
      " |  \n",
      " |  __ge__(self, value, /)\n",
      " |      Return self>=value.\n",
      " |  \n",
      " |  __getattribute__(self, name, /)\n",
      " |      Return getattr(self, name).\n",
      " |  \n",
      " |  __getitem__(self, key, /)\n",
      " |      Return self[key].\n",
      " |  \n",
      " |  __getnewargs__(self, /)\n",
      " |  \n",
      " |  __gt__(self, value, /)\n",
      " |      Return self>value.\n",
      " |  \n",
      " |  __hash__(self, /)\n",
      " |      Return hash(self).\n",
      " |  \n",
      " |  __iter__(self, /)\n",
      " |      Implement iter(self).\n",
      " |  \n",
      " |  __le__(self, value, /)\n",
      " |      Return self<=value.\n",
      " |  \n",
      " |  __len__(self, /)\n",
      " |      Return len(self).\n",
      " |  \n",
      " |  __lt__(self, value, /)\n",
      " |      Return self<value.\n",
      " |  \n",
      " |  __mul__(self, value, /)\n",
      " |      Return self*value.\n",
      " |  \n",
      " |  __ne__(self, value, /)\n",
      " |      Return self!=value.\n",
      " |  \n",
      " |  __repr__(self, /)\n",
      " |      Return repr(self).\n",
      " |  \n",
      " |  __rmul__(self, value, /)\n",
      " |      Return value*self.\n",
      " |  \n",
      " |  count(self, value, /)\n",
      " |      Return number of occurrences of value.\n",
      " |  \n",
      " |  index(self, value, start=0, stop=9223372036854775807, /)\n",
      " |      Return first index of value.\n",
      " |      \n",
      " |      Raises ValueError if the value is not present.\n",
      " |  \n",
      " |  ----------------------------------------------------------------------\n",
      " |  Class methods defined here:\n",
      " |  \n",
      " |  __class_getitem__(...) from builtins.type\n",
      " |      See PEP 585\n",
      " |  \n",
      " |  ----------------------------------------------------------------------\n",
      " |  Static methods defined here:\n",
      " |  \n",
      " |  __new__(*args, **kwargs) from builtins.type\n",
      " |      Create and return a new object.  See help(type) for accurate signature.\n",
      "\n"
     ]
    }
   ],
   "source": [
    "# Returning a description of the tuple object\n",
    "help(tuple)"
   ]
  },
  {
   "cell_type": "code",
   "execution_count": 19,
   "id": "3fba1a26",
   "metadata": {
    "scrolled": false
   },
   "outputs": [
    {
     "name": "stdout",
     "output_type": "stream",
     "text": [
      "Help on method_descriptor:\n",
      "\n",
      "index(self, value, start=0, stop=9223372036854775807, /)\n",
      "    Return first index of value.\n",
      "    \n",
      "    Raises ValueError if the value is not present.\n",
      "\n"
     ]
    }
   ],
   "source": [
    "# Returns a description of the tuple.index method\n",
    "help(tuple.index)"
   ]
  },
  {
   "cell_type": "markdown",
   "id": "d3f49604",
   "metadata": {},
   "source": [
    "## Lists"
   ]
  },
  {
   "cell_type": "code",
   "execution_count": 32,
   "id": "cfbfd27a",
   "metadata": {},
   "outputs": [
    {
     "name": "stdout",
     "output_type": "stream",
     "text": [
      "[0, 1, 2, 3, 4, 5]\n",
      "[0, 1, 2, 3, 4, 5]\n"
     ]
    }
   ],
   "source": [
    "# Declaring a litst\n",
    "L = [0,1,2,3,4,5]\n",
    "print(L)\n",
    "l = [value for value in range(6)]\n",
    "print(l)"
   ]
  },
  {
   "cell_type": "code",
   "execution_count": 30,
   "id": "78b9e094",
   "metadata": {},
   "outputs": [
    {
     "name": "stdout",
     "output_type": "stream",
     "text": [
      "[1, 2, 3, 4, 5]\n",
      "[1, 2, 6, 4, 5]\n"
     ]
    }
   ],
   "source": [
    "# Lists are mutable \n",
    "L_0 = [1,2,3,4,5]\n",
    "print(L_0)\n",
    "L_0[2] = 6\n",
    "print(L_0)"
   ]
  },
  {
   "cell_type": "markdown",
   "id": "c2bdb8e4",
   "metadata": {},
   "source": [
    "### Sequence operations - list\n",
    "#### Concatenation, Repetition, Membership test, Indexing, Slicing"
   ]
  },
  {
   "cell_type": "code",
   "execution_count": 21,
   "id": "d7223b70",
   "metadata": {},
   "outputs": [
    {
     "name": "stdout",
     "output_type": "stream",
     "text": [
      "[1, 2, 3, 4, 5, 6, 7, 8, 9, 10]\n"
     ]
    }
   ],
   "source": [
    "# Concatenation\n",
    "L_1 = [1,2,3,4,5]\n",
    "L_2 = [6,7,8,9,10]\n",
    "L_3 = L_1 + L_2\n",
    "print(L_3)"
   ]
  },
  {
   "cell_type": "code",
   "execution_count": 23,
   "id": "fdd7aee5",
   "metadata": {},
   "outputs": [
    {
     "name": "stdout",
     "output_type": "stream",
     "text": [
      "[1, 1, 1, 1, 1, 1, 1, 1, 1, 1, 1, 1, 1, 1, 1, 1, 1, 1, 1, 1, 1, 1, 1, 1, 1, 1, 1, 1, 1, 1, 1, 1, 1, 1, 1, 1, 1, 1, 1, 1, 1, 1, 1, 1, 1, 1, 1, 1, 1, 1, 1, 1, 1, 1, 1, 1, 1, 1, 1, 1, 1, 1, 1, 1, 1, 1, 1, 1, 1, 1, 1, 1, 1, 1, 1, 1, 1, 1, 1, 1, 1, 1, 1, 1]\n"
     ]
    }
   ],
   "source": [
    "# Repetition\n",
    "L_4 = [1]*84\n",
    "print(L_4)"
   ]
  },
  {
   "cell_type": "code",
   "execution_count": 38,
   "id": "4e1ef3aa",
   "metadata": {
    "scrolled": true
   },
   "outputs": [
    {
     "name": "stdout",
     "output_type": "stream",
     "text": [
      "True\n",
      "False\n"
     ]
    }
   ],
   "source": [
    "# Membership test\n",
    "L_5 = ('Pythonista', 365, 4+2j, (1,2), [3,4])\n",
    "print([3,4] in L_5)\n",
    "print( 365 not in L_5)"
   ]
  },
  {
   "cell_type": "markdown",
   "id": "4c1e875d",
   "metadata": {},
   "source": [
    "### Indexing"
   ]
  },
  {
   "cell_type": "code",
   "execution_count": 37,
   "id": "3265622d",
   "metadata": {},
   "outputs": [
    {
     "name": "stdout",
     "output_type": "stream",
     "text": [
      "2\n"
     ]
    }
   ],
   "source": [
    "# Getting the second element of the tuple (1,2)\n",
    "L_5 = ['Pythonista', 365, 4+2j, (1,2), [3.45,4.79]]\n",
    "print(L_5[3][1])"
   ]
  },
  {
   "cell_type": "code",
   "execution_count": 27,
   "id": "de907352",
   "metadata": {},
   "outputs": [
    {
     "name": "stdout",
     "output_type": "stream",
     "text": [
      "365\n",
      "365\n"
     ]
    }
   ],
   "source": [
    "# Two ways to get the second element\n",
    "print(L_5[-4])\n",
    "print(L_5[1])"
   ]
  },
  {
   "cell_type": "markdown",
   "id": "4029af54",
   "metadata": {},
   "source": [
    "### Slicing"
   ]
  },
  {
   "cell_type": "code",
   "execution_count": 36,
   "id": "00c294e4",
   "metadata": {},
   "outputs": [
    {
     "name": "stdout",
     "output_type": "stream",
     "text": [
      "[[3, 4], (1, 2), (4+2j), 365, 'Pythonista']\n"
     ]
    }
   ],
   "source": [
    "# Reversing a list\n",
    "L_5 = ['Pythonista', 365, 4+2j, (1,2), [3,4]]\n",
    "print(L_5[::-1])"
   ]
  },
  {
   "cell_type": "code",
   "execution_count": 54,
   "id": "e317f4ea",
   "metadata": {},
   "outputs": [
    {
     "name": "stdout",
     "output_type": "stream",
     "text": [
      "[(4+2j), (1, 2), [3, 4]]\n"
     ]
    }
   ],
   "source": [
    "# slicing a list\n",
    "print(L_5[2:])"
   ]
  },
  {
   "cell_type": "markdown",
   "id": "2c15097e",
   "metadata": {},
   "source": [
    "### List functions"
   ]
  },
  {
   "cell_type": "code",
   "execution_count": 55,
   "id": "874a3d92",
   "metadata": {
    "scrolled": true
   },
   "outputs": [
    {
     "name": "stdout",
     "output_type": "stream",
     "text": [
      "[0, 1, 2, 3, 4, 5, 6, 7, 8, 9, 10]\n",
      "11\n"
     ]
    }
   ],
   "source": [
    "# len() returns the number of elements\n",
    "L_6 = list(range(11))\n",
    "print(L_6)\n",
    "print(len(L_6))"
   ]
  },
  {
   "cell_type": "code",
   "execution_count": 56,
   "id": "d39b82af",
   "metadata": {},
   "outputs": [
    {
     "name": "stdout",
     "output_type": "stream",
     "text": [
      "10\n"
     ]
    }
   ],
   "source": [
    "# Getting the maximum value\n",
    "print(max(L_6))"
   ]
  },
  {
   "cell_type": "code",
   "execution_count": 57,
   "id": "04c642b8",
   "metadata": {
    "scrolled": true
   },
   "outputs": [
    {
     "name": "stdout",
     "output_type": "stream",
     "text": [
      "0\n"
     ]
    }
   ],
   "source": [
    "# Getting the minimum value\n",
    "print(min(L_6))"
   ]
  },
  {
   "cell_type": "code",
   "execution_count": 58,
   "id": "5fa650de",
   "metadata": {},
   "outputs": [
    {
     "name": "stdout",
     "output_type": "stream",
     "text": [
      "[0, 1, 2, 3, 4, 5, 6, 7, 8, 9, 10, 11]\n"
     ]
    }
   ],
   "source": [
    "# Add an element at the end of a list\n",
    "L_6.append(11)\n",
    "print(L_6)"
   ]
  },
  {
   "cell_type": "code",
   "execution_count": 29,
   "id": "22a218b7",
   "metadata": {},
   "outputs": [
    {
     "name": "stdout",
     "output_type": "stream",
     "text": [
      "[]\n",
      "[0]\n",
      "[0, 1]\n",
      "[0, 1, 2]\n",
      "[0, 1, 2, 3]\n",
      "[0, 1, 2, 3, 4]\n",
      "[0, 1, 2, 3, 4, 5]\n",
      "[0, 1, 2, 3, 4, 5, 6]\n",
      "[0, 1, 2, 3, 4, 5, 6, 7]\n",
      "[0, 1, 2, 3, 4, 5, 6, 7, 8]\n",
      "[0, 1, 2, 3, 4, 5, 6, 7, 8, 9]\n",
      "[0, 1, 2, 3, 4, 5, 6, 7, 8, 9, 10]\n"
     ]
    }
   ],
   "source": [
    "# append() function it is used inside a for loop\n",
    "A = []\n",
    "print(A)\n",
    "for k in range(11):\n",
    "    A.append(k)\n",
    "    print(A)"
   ]
  },
  {
   "cell_type": "code",
   "execution_count": 39,
   "id": "99610901",
   "metadata": {},
   "outputs": [
    {
     "name": "stdout",
     "output_type": "stream",
     "text": [
      "[0, 1, 2, 3, 4, 5, 6, 7, 8, 9, 10]\n"
     ]
    }
   ],
   "source": [
    "# append() function and while loop\n",
    "B = []\n",
    "counter = 0\n",
    "while counter < 11:\n",
    "    B.append(counter)\n",
    "    # counter = counter + 1\n",
    "    counter += 1\n",
    "print(B)"
   ]
  },
  {
   "cell_type": "code",
   "execution_count": 40,
   "id": "66baafbb",
   "metadata": {},
   "outputs": [
    {
     "name": "stdout",
     "output_type": "stream",
     "text": [
      "['Iphone', 'Samsung', 'Huawei', 'Xiaomi', 'LG']\n"
     ]
    }
   ],
   "source": [
    "# insert() methos to add an element at the ith position\n",
    "cell_phones = ['Iphone', 'Samsung', 'Xiaomi', 'LG']\n",
    "cell_phones.insert(2,'Huawei')\n",
    "print(cell_phones)"
   ]
  },
  {
   "cell_type": "code",
   "execution_count": 69,
   "id": "3cb05f0a",
   "metadata": {},
   "outputs": [
    {
     "name": "stdout",
     "output_type": "stream",
     "text": [
      "[0, 1, 2, 3, 4, 5, 6, 7, 8, 9, 10, 11, 20, 21, 22, 23]\n"
     ]
    }
   ],
   "source": [
    "# extend() adds a sequence to a list\n",
    "L_7 = [20,21,22,23]\n",
    "L_6.extend(L_7)\n",
    "print(L_6)"
   ]
  },
  {
   "cell_type": "code",
   "execution_count": 43,
   "id": "2f2d671d",
   "metadata": {},
   "outputs": [
    {
     "name": "stdout",
     "output_type": "stream",
     "text": [
      "LG\n",
      "['Iphone', 'Samsung', 'Xiaomi']\n"
     ]
    }
   ],
   "source": [
    "# pop() method deletes the last item on a list\n",
    "mb = ['Iphone', 'Samsung', 'Xiaomi', 'LG']\n",
    "print(mb.pop())\n",
    "print(mb)"
   ]
  },
  {
   "cell_type": "code",
   "execution_count": 71,
   "id": "891dfac7",
   "metadata": {},
   "outputs": [
    {
     "name": "stdout",
     "output_type": "stream",
     "text": [
      "['Iphone', 'Samsung', 'LG']\n"
     ]
    }
   ],
   "source": [
    "# Removing an element\n",
    "cell = ['Iphone', 'Samsung', 'Xiaomi', 'LG']\n",
    "cell.remove('Xiaomi')\n",
    "print(cell)"
   ]
  },
  {
   "cell_type": "code",
   "execution_count": 44,
   "id": "b3c9ae94",
   "metadata": {},
   "outputs": [
    {
     "name": "stdout",
     "output_type": "stream",
     "text": [
      "4\n",
      "3\n"
     ]
    }
   ],
   "source": [
    "# count() returns the number of elements with the specified value\n",
    "L_8 = [1,0,1,1,0,0,1,2,4,3,6,4,5]\n",
    "print(L_8.count(1))\n",
    "print(L_8.count(0))"
   ]
  },
  {
   "cell_type": "code",
   "execution_count": 45,
   "id": "5122cf67",
   "metadata": {},
   "outputs": [
    {
     "name": "stdout",
     "output_type": "stream",
     "text": [
      "[1, 2, 3, 7, 5, 6, 7, 8, 9, 10]\n"
     ]
    }
   ],
   "source": [
    "# reverse() reverses the elements of the list.\n",
    "L_9 = [10,9,8,7,6,5,7,3,2,1]\n",
    "L_9.reverse()\n",
    "print(L_9)"
   ]
  },
  {
   "cell_type": "code",
   "execution_count": 46,
   "id": "031bb63f",
   "metadata": {},
   "outputs": [
    {
     "name": "stdout",
     "output_type": "stream",
     "text": [
      "[10, 3, 5, 7, 9, 15, 6, 4]\n",
      "[3, 4, 5, 6, 7, 9, 10, 15]\n"
     ]
    }
   ],
   "source": [
    "# sort() method : sorts the list ascending by default\n",
    "L_10 = [10,3,5,7,9,15,6,4]\n",
    "print(L_10)\n",
    "L_10.sort()\n",
    "print(L_10)"
   ]
  },
  {
   "cell_type": "code",
   "execution_count": 48,
   "id": "b52741b2",
   "metadata": {},
   "outputs": [
    {
     "name": "stdout",
     "output_type": "stream",
     "text": [
      "[3, 4, 5, 6, 7, 9, 10, 15]\n"
     ]
    }
   ],
   "source": [
    "# sorted() function returns a sorted list of the specified iterable object\n",
    "L_10 = [10,3,5,7,9,15,6,4]\n",
    "L_11 = sorted(L_10)\n",
    "print(L_11)"
   ]
  },
  {
   "cell_type": "code",
   "execution_count": 49,
   "id": "7987db85",
   "metadata": {},
   "outputs": [
    {
     "name": "stdout",
     "output_type": "stream",
     "text": [
      "[1, 3, 5, 7, 9, 11, 13]\n",
      "[1, 3, 5, 7, 9, 11, 13, 15]\n"
     ]
    }
   ],
   "source": [
    "# The copy() method returns a copy of the specified list\n",
    "L_12 = [1,3,5,7,9,11,13]\n",
    "L_13 = L_12.copy()\n",
    "L_13.append(15)\n",
    "print(L_12)\n",
    "print(L_13)"
   ]
  },
  {
   "cell_type": "code",
   "execution_count": 51,
   "id": "882b343f",
   "metadata": {},
   "outputs": [
    {
     "name": "stdout",
     "output_type": "stream",
     "text": [
      "['PSG', 'Barcelona FC', 'Real Madrid', 'Atletico Español']\n",
      "[]\n"
     ]
    }
   ],
   "source": [
    "# Removes all the elements from the list.\n",
    "L_14 = ['PSG','Barcelona FC','Real Madrid','Atletico Español']\n",
    "print(L_14)\n",
    "L_14.clear()\n",
    "print(L_14)"
   ]
  },
  {
   "cell_type": "code",
   "execution_count": 52,
   "id": "d876645a",
   "metadata": {},
   "outputs": [
    {
     "name": "stdout",
     "output_type": "stream",
     "text": [
      "[24, 5, 30, 55, 88, 88, 89, 18, 43, 97, 38, 16, 80, 31, 9, 67, 57, 38, 32, 38, 81, 64, 98, 6, 26, 100, 33, 66, 40, 42, 24, 13, 71, 83, 28, 41, 69, 50, 41, 88, 78, 40, 99, 9, 64, 90, 4, 9, 87, 53, 82, 85, 94, 97, 35, 17, 48, 91, 23, 96, 40, 1, 30, 2, 80, 57, 99, 65, 94, 87, 85, 86, 81, 24, 45, 87, 12, 38, 94, 19, 81, 49, 81, 97, 28, 62, 38, 94, 3, 73, 75, 57, 34, 61, 59, 53, 35, 54, 49, 89]\n",
      "Elementos = 100\n"
     ]
    }
   ],
   "source": [
    "# Filling a list with random numbers\n",
    "import random\n",
    "L_15 = []\n",
    "cont = 1\n",
    "while cont < 101:\n",
    "    aleatorio = random.randint(1,101)\n",
    "    L_15.append(aleatorio)\n",
    "    cont = cont + 1 \n",
    "print(L_15)\n",
    "print('Elementos =',len(L_15))"
   ]
  },
  {
   "cell_type": "markdown",
   "id": "38b43358",
   "metadata": {},
   "source": [
    "### List Comprehension (for loops and list)    "
   ]
  },
  {
   "cell_type": "code",
   "execution_count": 53,
   "id": "e07cb34c",
   "metadata": {},
   "outputs": [
    {
     "name": "stdout",
     "output_type": "stream",
     "text": [
      "['X', 'o', 'c', 'h', 'i', 'm', 'i', 'l', 'c', 'o']\n"
     ]
    }
   ],
   "source": [
    "# Filling a list with the letters from a word\n",
    "palabra = 'Xochimilco'\n",
    "x = []\n",
    "for letra in palabra:\n",
    "    x.append(letra)\n",
    "print(x)"
   ]
  },
  {
   "cell_type": "code",
   "execution_count": 54,
   "id": "52d783ef",
   "metadata": {},
   "outputs": [
    {
     "name": "stdout",
     "output_type": "stream",
     "text": [
      "['X', 'o', 'c', 'h', 'i', 'm', 'i', 'l', 'c', 'o']\n"
     ]
    }
   ],
   "source": [
    "# Simplifying the code with list comprehension\n",
    "palabra = 'Xochimilco'\n",
    "x = [letra for letra in palabra]\n",
    "print(x)"
   ]
  },
  {
   "cell_type": "code",
   "execution_count": 55,
   "id": "162108fc",
   "metadata": {},
   "outputs": [
    {
     "name": "stdout",
     "output_type": "stream",
     "text": [
      "[1, 3, 5, 7, 9]\n"
     ]
    }
   ],
   "source": [
    "# if & list Comprehension\n",
    "numeros = list(range(11))\n",
    "imp = [n for n in numeros if n%2!=0]\n",
    "print(imp)"
   ]
  },
  {
   "cell_type": "code",
   "execution_count": 81,
   "id": "e411a94d",
   "metadata": {},
   "outputs": [
    {
     "name": "stdout",
     "output_type": "stream",
     "text": [
      "[0, 2, 4, 6, 8, 10]\n"
     ]
    }
   ],
   "source": [
    "# if & list Comprehension\n",
    "par = [n for n in numeros if n%2==0]\n",
    "print(par)"
   ]
  },
  {
   "cell_type": "code",
   "execution_count": 56,
   "id": "aa24c3f2",
   "metadata": {},
   "outputs": [
    {
     "name": "stdout",
     "output_type": "stream",
     "text": [
      "['par', 'impar', 'par', 'impar', 'par', 'impar', 'par', 'impar', 'par', 'impar', 'par']\n"
     ]
    }
   ],
   "source": [
    "# if-else & list Comprehension\n",
    "res = ['par' if i%2==0 else \"impar\" for i in numeros]\n",
    "print(res)"
   ]
  },
  {
   "cell_type": "code",
   "execution_count": 58,
   "id": "a04c60b5",
   "metadata": {},
   "outputs": [
    {
     "name": "stdout",
     "output_type": "stream",
     "text": [
      "1 2 <class 'str'> <class 'str'> <class 'str'>\n"
     ]
    }
   ],
   "source": [
    "# reading more than 1 variable as input\n",
    "x,y,z = input('Ingresa 3 numeros: ').split(',')\n",
    "print(x,y,type(x),type(y),type(z))"
   ]
  },
  {
   "cell_type": "code",
   "execution_count": 63,
   "id": "112b1002",
   "metadata": {},
   "outputs": [
    {
     "name": "stdout",
     "output_type": "stream",
     "text": [
      "1.0 <class 'float'>\n",
      "2.0 <class 'float'>\n",
      "3.0 <class 'float'>\n"
     ]
    }
   ],
   "source": [
    "# asking the user to input() more than 1 value\n",
    "x,y,z = [float(k) for k in input('Ingresa 3 numeros: ').split()]\n",
    "print(x,type(x))\n",
    "print(y,type(y))\n",
    "print(z,type(z))"
   ]
  },
  {
   "cell_type": "code",
   "execution_count": 96,
   "id": "e88cdf74",
   "metadata": {},
   "outputs": [
    {
     "name": "stdout",
     "output_type": "stream",
     "text": [
      "[1, 2, 3, 4, 5]\n",
      "<class 'list'>\n"
     ]
    }
   ],
   "source": [
    "# asking the user to input() more than 1 value\n",
    "A = [int(j) for j in input('Ingrese n cantidad de numeros enteros: ').split(',')]\n",
    "print(A)\n",
    "print(type(A))"
   ]
  },
  {
   "cell_type": "code",
   "execution_count": 97,
   "id": "118f519c",
   "metadata": {
    "scrolled": false
   },
   "outputs": [
    {
     "data": {
      "text/plain": [
       "['__add__',\n",
       " '__class__',\n",
       " '__class_getitem__',\n",
       " '__contains__',\n",
       " '__delattr__',\n",
       " '__delitem__',\n",
       " '__dir__',\n",
       " '__doc__',\n",
       " '__eq__',\n",
       " '__format__',\n",
       " '__ge__',\n",
       " '__getattribute__',\n",
       " '__getitem__',\n",
       " '__getstate__',\n",
       " '__gt__',\n",
       " '__hash__',\n",
       " '__iadd__',\n",
       " '__imul__',\n",
       " '__init__',\n",
       " '__init_subclass__',\n",
       " '__iter__',\n",
       " '__le__',\n",
       " '__len__',\n",
       " '__lt__',\n",
       " '__mul__',\n",
       " '__ne__',\n",
       " '__new__',\n",
       " '__reduce__',\n",
       " '__reduce_ex__',\n",
       " '__repr__',\n",
       " '__reversed__',\n",
       " '__rmul__',\n",
       " '__setattr__',\n",
       " '__setitem__',\n",
       " '__sizeof__',\n",
       " '__str__',\n",
       " '__subclasshook__',\n",
       " 'append',\n",
       " 'clear',\n",
       " 'copy',\n",
       " 'count',\n",
       " 'extend',\n",
       " 'index',\n",
       " 'insert',\n",
       " 'pop',\n",
       " 'remove',\n",
       " 'reverse',\n",
       " 'sort']"
      ]
     },
     "execution_count": 97,
     "metadata": {},
     "output_type": "execute_result"
    }
   ],
   "source": [
    "dir(list)"
   ]
  },
  {
   "cell_type": "code",
   "execution_count": 98,
   "id": "22aafb1b",
   "metadata": {
    "scrolled": false
   },
   "outputs": [
    {
     "name": "stdout",
     "output_type": "stream",
     "text": [
      "Help on class list in module builtins:\n",
      "\n",
      "class list(object)\n",
      " |  list(iterable=(), /)\n",
      " |  \n",
      " |  Built-in mutable sequence.\n",
      " |  \n",
      " |  If no argument is given, the constructor creates a new empty list.\n",
      " |  The argument must be an iterable if specified.\n",
      " |  \n",
      " |  Methods defined here:\n",
      " |  \n",
      " |  __add__(self, value, /)\n",
      " |      Return self+value.\n",
      " |  \n",
      " |  __contains__(self, key, /)\n",
      " |      Return key in self.\n",
      " |  \n",
      " |  __delitem__(self, key, /)\n",
      " |      Delete self[key].\n",
      " |  \n",
      " |  __eq__(self, value, /)\n",
      " |      Return self==value.\n",
      " |  \n",
      " |  __ge__(self, value, /)\n",
      " |      Return self>=value.\n",
      " |  \n",
      " |  __getattribute__(self, name, /)\n",
      " |      Return getattr(self, name).\n",
      " |  \n",
      " |  __getitem__(...)\n",
      " |      x.__getitem__(y) <==> x[y]\n",
      " |  \n",
      " |  __gt__(self, value, /)\n",
      " |      Return self>value.\n",
      " |  \n",
      " |  __iadd__(self, value, /)\n",
      " |      Implement self+=value.\n",
      " |  \n",
      " |  __imul__(self, value, /)\n",
      " |      Implement self*=value.\n",
      " |  \n",
      " |  __init__(self, /, *args, **kwargs)\n",
      " |      Initialize self.  See help(type(self)) for accurate signature.\n",
      " |  \n",
      " |  __iter__(self, /)\n",
      " |      Implement iter(self).\n",
      " |  \n",
      " |  __le__(self, value, /)\n",
      " |      Return self<=value.\n",
      " |  \n",
      " |  __len__(self, /)\n",
      " |      Return len(self).\n",
      " |  \n",
      " |  __lt__(self, value, /)\n",
      " |      Return self<value.\n",
      " |  \n",
      " |  __mul__(self, value, /)\n",
      " |      Return self*value.\n",
      " |  \n",
      " |  __ne__(self, value, /)\n",
      " |      Return self!=value.\n",
      " |  \n",
      " |  __repr__(self, /)\n",
      " |      Return repr(self).\n",
      " |  \n",
      " |  __reversed__(self, /)\n",
      " |      Return a reverse iterator over the list.\n",
      " |  \n",
      " |  __rmul__(self, value, /)\n",
      " |      Return value*self.\n",
      " |  \n",
      " |  __setitem__(self, key, value, /)\n",
      " |      Set self[key] to value.\n",
      " |  \n",
      " |  __sizeof__(self, /)\n",
      " |      Return the size of the list in memory, in bytes.\n",
      " |  \n",
      " |  append(self, object, /)\n",
      " |      Append object to the end of the list.\n",
      " |  \n",
      " |  clear(self, /)\n",
      " |      Remove all items from list.\n",
      " |  \n",
      " |  copy(self, /)\n",
      " |      Return a shallow copy of the list.\n",
      " |  \n",
      " |  count(self, value, /)\n",
      " |      Return number of occurrences of value.\n",
      " |  \n",
      " |  extend(self, iterable, /)\n",
      " |      Extend list by appending elements from the iterable.\n",
      " |  \n",
      " |  index(self, value, start=0, stop=9223372036854775807, /)\n",
      " |      Return first index of value.\n",
      " |      \n",
      " |      Raises ValueError if the value is not present.\n",
      " |  \n",
      " |  insert(self, index, object, /)\n",
      " |      Insert object before index.\n",
      " |  \n",
      " |  pop(self, index=-1, /)\n",
      " |      Remove and return item at index (default last).\n",
      " |      \n",
      " |      Raises IndexError if list is empty or index is out of range.\n",
      " |  \n",
      " |  remove(self, value, /)\n",
      " |      Remove first occurrence of value.\n",
      " |      \n",
      " |      Raises ValueError if the value is not present.\n",
      " |  \n",
      " |  reverse(self, /)\n",
      " |      Reverse *IN PLACE*.\n",
      " |  \n",
      " |  sort(self, /, *, key=None, reverse=False)\n",
      " |      Sort the list in ascending order and return None.\n",
      " |      \n",
      " |      The sort is in-place (i.e. the list itself is modified) and stable (i.e. the\n",
      " |      order of two equal elements is maintained).\n",
      " |      \n",
      " |      If a key function is given, apply it once to each list item and sort them,\n",
      " |      ascending or descending, according to their function values.\n",
      " |      \n",
      " |      The reverse flag can be set to sort in descending order.\n",
      " |  \n",
      " |  ----------------------------------------------------------------------\n",
      " |  Class methods defined here:\n",
      " |  \n",
      " |  __class_getitem__(...) from builtins.type\n",
      " |      See PEP 585\n",
      " |  \n",
      " |  ----------------------------------------------------------------------\n",
      " |  Static methods defined here:\n",
      " |  \n",
      " |  __new__(*args, **kwargs) from builtins.type\n",
      " |      Create and return a new object.  See help(type) for accurate signature.\n",
      " |  \n",
      " |  ----------------------------------------------------------------------\n",
      " |  Data and other attributes defined here:\n",
      " |  \n",
      " |  __hash__ = None\n",
      "\n"
     ]
    }
   ],
   "source": [
    "help(list)"
   ]
  },
  {
   "cell_type": "code",
   "execution_count": 100,
   "id": "d82920de",
   "metadata": {
    "scrolled": false
   },
   "outputs": [
    {
     "name": "stdout",
     "output_type": "stream",
     "text": [
      "Help on method_descriptor:\n",
      "\n",
      "insert(self, index, object, /)\n",
      "    Insert object before index.\n",
      "\n"
     ]
    }
   ],
   "source": [
    "help(list.insert)"
   ]
  }
 ],
 "metadata": {
  "kernelspec": {
   "display_name": "Python 3 (ipykernel)",
   "language": "python",
   "name": "python3"
  },
  "language_info": {
   "codemirror_mode": {
    "name": "ipython",
    "version": 3
   },
   "file_extension": ".py",
   "mimetype": "text/x-python",
   "name": "python",
   "nbconvert_exporter": "python",
   "pygments_lexer": "ipython3",
   "version": "3.11.5"
  }
 },
 "nbformat": 4,
 "nbformat_minor": 5
}
