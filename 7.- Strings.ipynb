{
 "cells": [
  {
   "cell_type": "markdown",
   "metadata": {
    "id": "30ZhdsUdlif-"
   },
   "source": [
    "## Strings"
   ]
  },
  {
   "cell_type": "code",
   "execution_count": 3,
   "metadata": {},
   "outputs": [
    {
     "name": "stdout",
     "output_type": "stream",
     "text": [
      "l\n"
     ]
    }
   ],
   "source": [
    "# 0 based indexing\n",
    "# B - 0\n",
    "# a - 1\n",
    "texto = 'Barrel'\n",
    "print(texto[5])"
   ]
  },
  {
   "cell_type": "code",
   "execution_count": 5,
   "metadata": {
    "id": "bkVw91mdeAEH"
   },
   "outputs": [
    {
     "name": "stdout",
     "output_type": "stream",
     "text": [
      "Simple quotation marks\n",
      "Double quotation marks\n",
      "Triple quotations marks\n"
     ]
    }
   ],
   "source": [
    "# Strings with several quotation marks\n",
    "print('Simple quotation marks')\n",
    "print(\"Double quotation marks\")\n",
    "print('''Triple quotations marks''')"
   ]
  },
  {
   "cell_type": "code",
   "execution_count": 6,
   "metadata": {
    "id": "oZeD9CiDeGrC"
   },
   "outputs": [
    {
     "name": "stdout",
     "output_type": "stream",
     "text": [
      "Carlito\"s way movie\n",
      "Carlito's way movie\n",
      "Carlito's way movie\n"
     ]
    }
   ],
   "source": [
    "# Quotation marks inside s string\n",
    "print('Carlito\"s way movie')\n",
    "print(\"Carlito's way movie\")\n",
    "print('Carlito\\'s way movie')"
   ]
  },
  {
   "cell_type": "code",
   "execution_count": 8,
   "metadata": {
    "colab": {
     "base_uri": "https://localhost:8080/"
    },
    "executionInfo": {
     "elapsed": 162,
     "status": "ok",
     "timestamp": 1639161841846,
     "user": {
      "displayName": "jose carlos reyes",
      "photoUrl": "https://lh3.googleusercontent.com/a-/AOh14GinYFAgFOqnT_3P-0GbMdfhhLK8hOYHTX6IrbPf=s64",
      "userId": "16346821946810432209"
     },
     "user_tz": 360
    },
    "id": "mRzydLpreImq",
    "outputId": "079680c2-3aaa-4173-8da5-878a0c7f2155"
   },
   "outputs": [
    {
     "name": "stdout",
     "output_type": "stream",
     "text": [
      "G\n",
      "a\n"
     ]
    }
   ],
   "source": [
    "# String indexing\n",
    "text = 'Georgia'\n",
    "print(text[0])\n",
    "print(text[-1])"
   ]
  },
  {
   "cell_type": "code",
   "execution_count": 9,
   "metadata": {
    "id": "lcel5bD3qCgh"
   },
   "outputs": [
    {
     "name": "stdout",
     "output_type": "stream",
     "text": [
      "revolution\n",
      "revolution\n",
      "evol\n",
      "revol\n",
      "revolutio\n",
      "rvlto\n"
     ]
    }
   ],
   "source": [
    "# Indexing and Slicing\n",
    "texto = 'revolution'\n",
    "print(texto[:])\n",
    "print(texto[0:10])\n",
    "print(texto[1:5])\n",
    "print(texto[:5])\n",
    "print(texto[:-1])\n",
    "print(texto[::2])"
   ]
  },
  {
   "cell_type": "code",
   "execution_count": 10,
   "metadata": {
    "id": "LrKCj7oMzKsj"
   },
   "outputs": [
    {
     "ename": "TypeError",
     "evalue": "'str' object does not support item assignment",
     "output_type": "error",
     "traceback": [
      "\u001b[1;31m---------------------------------------------------------------------------\u001b[0m",
      "\u001b[1;31mTypeError\u001b[0m                                 Traceback (most recent call last)",
      "Cell \u001b[1;32mIn[10], line 3\u001b[0m\n\u001b[0;32m      1\u001b[0m \u001b[38;5;66;03m# Immutable objects\u001b[39;00m\n\u001b[0;32m      2\u001b[0m s \u001b[38;5;241m=\u001b[39m \u001b[38;5;124m'\u001b[39m\u001b[38;5;124mDubster\u001b[39m\u001b[38;5;124m'\u001b[39m\n\u001b[1;32m----> 3\u001b[0m \u001b[43ms\u001b[49m\u001b[43m[\u001b[49m\u001b[38;5;241;43m1\u001b[39;49m\u001b[43m]\u001b[49m \u001b[38;5;241m=\u001b[39m \u001b[38;5;124m'\u001b[39m\u001b[38;5;124ma\u001b[39m\u001b[38;5;124m'\u001b[39m\n\u001b[0;32m      4\u001b[0m \u001b[38;5;28mprint\u001b[39m(s)\n",
      "\u001b[1;31mTypeError\u001b[0m: 'str' object does not support item assignment"
     ]
    }
   ],
   "source": [
    "# Immutable objects\n",
    "s = 'Dubster'\n",
    "s[1] = 'a'\n",
    "print(s)"
   ]
  },
  {
   "cell_type": "code",
   "execution_count": 12,
   "metadata": {
    "colab": {
     "base_uri": "https://localhost:8080/"
    },
    "executionInfo": {
     "elapsed": 212,
     "status": "ok",
     "timestamp": 1639163488655,
     "user": {
      "displayName": "jose carlos reyes",
      "photoUrl": "https://lh3.googleusercontent.com/a-/AOh14GinYFAgFOqnT_3P-0GbMdfhhLK8hOYHTX6IrbPf=s64",
      "userId": "16346821946810432209"
     },
     "user_tz": 360
    },
    "id": "zAiH8I8KwKvT",
    "outputId": "be0fbb73-9b43-464e-c4bd-f70425cdc60d"
   },
   "outputs": [
    {
     "data": {
      "text/plain": [
       "15"
      ]
     },
     "execution_count": 12,
     "metadata": {},
     "output_type": "execute_result"
    }
   ],
   "source": [
    "# Polymorphism - integers\n",
    "var = 5*3\n",
    "var"
   ]
  },
  {
   "cell_type": "code",
   "execution_count": 13,
   "metadata": {
    "id": "7mHUiQMKv8WR"
   },
   "outputs": [
    {
     "data": {
      "text/plain": [
       "'--------------------------------------------------'"
      ]
     },
     "execution_count": 13,
     "metadata": {},
     "output_type": "execute_result"
    }
   ],
   "source": [
    "# Polymorphism - strings\n",
    "texto_2 = '-'\n",
    "texto_2*50"
   ]
  },
  {
   "cell_type": "markdown",
   "metadata": {},
   "source": [
    "## Scape Sequences\n",
    "### Are used in the following cases:\n",
    "#### - Special characters inside a string.\n",
    "#### - Apply tab. \n",
    "#### - To add a new line. "
   ]
  },
  {
   "cell_type": "code",
   "execution_count": 14,
   "metadata": {},
   "outputs": [
    {
     "name": "stdout",
     "output_type": "stream",
     "text": [
      "Carlito's way movie\n"
     ]
    }
   ],
   "source": [
    "# \\' - Simple quotation\n",
    "print('Carlito\\'s way movie')"
   ]
  },
  {
   "cell_type": "code",
   "execution_count": 16,
   "metadata": {
    "scrolled": true
   },
   "outputs": [
    {
     "name": "stdout",
     "output_type": "stream",
     "text": [
      "Hello\n",
      "World\n"
     ]
    }
   ],
   "source": [
    "# \\n - New line\n",
    "print('Hello\\nWorld')"
   ]
  },
  {
   "cell_type": "code",
   "execution_count": 18,
   "metadata": {},
   "outputs": [
    {
     "name": "stdout",
     "output_type": "stream",
     "text": [
      "Hello\tWorld\n"
     ]
    }
   ],
   "source": [
    "# \\t - Tab\n",
    "print('Hello\\tWorld')"
   ]
  },
  {
   "cell_type": "code",
   "execution_count": 19,
   "metadata": {
    "scrolled": true
   },
   "outputs": [
    {
     "name": "stdout",
     "output_type": "stream",
     "text": [
      "Hello\\World\n"
     ]
    }
   ],
   "source": [
    "# \\\\ - Backslash\n",
    "print('Hello\\\\World')"
   ]
  },
  {
   "cell_type": "markdown",
   "metadata": {},
   "source": [
    "Write a one-line program, to display the following message: \n",
    "My name is Francisco Mendoza.\n",
    "\n",
    "I'm 23 years old.\n",
    "\n",
    "I love \"running\"."
   ]
  },
  {
   "cell_type": "code",
   "execution_count": 20,
   "metadata": {},
   "outputs": [
    {
     "name": "stdout",
     "output_type": "stream",
     "text": [
      "My name is Francisco Mendoza.\n",
      "I'm 23 years old.\n",
      "I love \"Running.\"\n"
     ]
    }
   ],
   "source": [
    "# Option-1:\n",
    "print('My name is Francisco Mendoza.', end='\\n')\n",
    "print(\"I'm 23 years old.\")\n",
    "print('I love \"Running.\"')"
   ]
  },
  {
   "cell_type": "code",
   "execution_count": 21,
   "metadata": {
    "scrolled": true
   },
   "outputs": [
    {
     "name": "stdout",
     "output_type": "stream",
     "text": [
      "My name is Francisco Mendoza.\n",
      "I'm 23 years old.\n",
      "I love running.\n"
     ]
    }
   ],
   "source": [
    "# Option-2:\n",
    "print(\"My name is Francisco Mendoza.\\nI'm 23 years old.\\nI love running.\")"
   ]
  },
  {
   "cell_type": "markdown",
   "metadata": {
    "id": "IptXKuyNsv_v"
   },
   "source": [
    "## String Concatenation"
   ]
  },
  {
   "cell_type": "code",
   "execution_count": 23,
   "metadata": {
    "colab": {
     "base_uri": "https://localhost:8080/"
    },
    "executionInfo": {
     "elapsed": 208,
     "status": "ok",
     "timestamp": 1639162877938,
     "user": {
      "displayName": "jose carlos reyes",
      "photoUrl": "https://lh3.googleusercontent.com/a-/AOh14GinYFAgFOqnT_3P-0GbMdfhhLK8hOYHTX6IrbPf=s64",
      "userId": "16346821946810432209"
     },
     "user_tz": 360
    },
    "id": "0eJLW8xwsXdm",
    "outputId": "2aeb45fb-49f3-4e1f-b714-d35ce81f4e88"
   },
   "outputs": [
    {
     "name": "stdout",
     "output_type": "stream",
     "text": [
      "Hello Coder\n"
     ]
    }
   ],
   "source": [
    "#  Option-1: using (+) operator \n",
    "msg_1 = 'Hello '\n",
    "msg_2 = 'Coder'\n",
    "print(msg_1 + msg_2)"
   ]
  },
  {
   "cell_type": "code",
   "execution_count": 24,
   "metadata": {
    "colab": {
     "base_uri": "https://localhost:8080/"
    },
    "executionInfo": {
     "elapsed": 182,
     "status": "ok",
     "timestamp": 1639162958400,
     "user": {
      "displayName": "jose carlos reyes",
      "photoUrl": "https://lh3.googleusercontent.com/a-/AOh14GinYFAgFOqnT_3P-0GbMdfhhLK8hOYHTX6IrbPf=s64",
      "userId": "16346821946810432209"
     },
     "user_tz": 360
    },
    "id": "fv3Ca7Pjs6I-",
    "outputId": "912f8c2b-9600-434a-d76a-b91ee571921a"
   },
   "outputs": [
    {
     "name": "stdout",
     "output_type": "stream",
     "text": [
      "Hello_Coder\n"
     ]
    }
   ],
   "source": [
    "#  Option-2: print function\n",
    "msg_1 = 'Hello'\n",
    "msg_2 = 'Coder'\n",
    "print(msg_1,msg_2, sep='_')"
   ]
  },
  {
   "cell_type": "code",
   "execution_count": 26,
   "metadata": {
    "colab": {
     "base_uri": "https://localhost:8080/"
    },
    "executionInfo": {
     "elapsed": 202,
     "status": "ok",
     "timestamp": 1639163321662,
     "user": {
      "displayName": "jose carlos reyes",
      "photoUrl": "https://lh3.googleusercontent.com/a-/AOh14GinYFAgFOqnT_3P-0GbMdfhhLK8hOYHTX6IrbPf=s64",
      "userId": "16346821946810432209"
     },
     "user_tz": 360
    },
    "id": "zlt8wZqQumJN",
    "outputId": "9db35e64-4915-4e6e-c697-f005deb4465e"
   },
   "outputs": [
    {
     "name": "stdout",
     "output_type": "stream",
     "text": [
      "My name is Mario Martinez, I'm 26 years old.\n"
     ]
    }
   ],
   "source": [
    "# Option-3: Using f-string \n",
    "name = 'Mario'\n",
    "last_name = 'Martinez'\n",
    "age = 26\n",
    "print(f\"My name is {name} {last_name}, I'm {age} years old.\")"
   ]
  },
  {
   "cell_type": "code",
   "execution_count": 27,
   "metadata": {
    "colab": {
     "base_uri": "https://localhost:8080/"
    },
    "executionInfo": {
     "elapsed": 201,
     "status": "ok",
     "timestamp": 1639164653808,
     "user": {
      "displayName": "jose carlos reyes",
      "photoUrl": "https://lh3.googleusercontent.com/a-/AOh14GinYFAgFOqnT_3P-0GbMdfhhLK8hOYHTX6IrbPf=s64",
      "userId": "16346821946810432209"
     },
     "user_tz": 360
    },
    "id": "1vjkEjzSxcVe",
    "outputId": "d3d1af27-014d-4121-b5af-8d480347deb2"
   },
   "outputs": [
    {
     "name": "stdout",
     "output_type": "stream",
     "text": [
      "My names is Rodríguez Pablo and I'm 26 years old.\n"
     ]
    }
   ],
   "source": [
    "# Option-4: Using format method\n",
    "Name = 'Pablo'\n",
    "Last = 'Rodríguez'\n",
    "Age = 26\n",
    "print(\"My names is {} {} and I'm {} years old.\".format(Last, Name, Age))"
   ]
  },
  {
   "cell_type": "code",
   "execution_count": 32,
   "metadata": {
    "id": "lN_Vszbuv4Lc"
   },
   "outputs": [
    {
     "name": "stdout",
     "output_type": "stream",
     "text": [
      "My name is Pablo Rodríguez and I'm 26 años.\n"
     ]
    }
   ],
   "source": [
    "# Concatenating strings and numbers\n",
    "nm = 'Pablo'\n",
    "ln = 'Rodríguez'\n",
    "ag = 26\n",
    "print(\"My name is \"+ nm +\" \" + ln + \" and I'm \" + str(ag) + \" años.\")\n",
    "# print ('Mi nombre es '+ nombre + ' y tengo ' + str(edad) + ' años.')"
   ]
  },
  {
   "cell_type": "markdown",
   "metadata": {
    "id": "GvWHzNpVqUXI"
   },
   "source": [
    "## String Methods"
   ]
  },
  {
   "cell_type": "code",
   "execution_count": 33,
   "metadata": {
    "colab": {
     "base_uri": "https://localhost:8080/"
    },
    "executionInfo": {
     "elapsed": 268,
     "status": "ok",
     "timestamp": 1639181858031,
     "user": {
      "displayName": "jose carlos reyes",
      "photoUrl": "https://lh3.googleusercontent.com/a-/AOh14GinYFAgFOqnT_3P-0GbMdfhhLK8hOYHTX6IrbPf=s64",
      "userId": "16346821946810432209"
     },
     "user_tz": 360
    },
    "id": "Pw6E9dZzqUG6",
    "outputId": "2c3af846-5f9a-4b73-dcd3-92e7fc08e3b7"
   },
   "outputs": [
    {
     "name": "stdout",
     "output_type": "stream",
     "text": [
      "11\n",
      "12\n"
     ]
    }
   ],
   "source": [
    "# len() function: returns the number of characters in a string\n",
    "msg = 'onomatopeya'\n",
    "print(len(msg))\n",
    "msg_2 = 'onoma topeya'\n",
    "print(len(msg_2))"
   ]
  },
  {
   "cell_type": "code",
   "execution_count": 34,
   "metadata": {
    "colab": {
     "base_uri": "https://localhost:8080/"
    },
    "executionInfo": {
     "elapsed": 225,
     "status": "ok",
     "timestamp": 1639181850736,
     "user": {
      "displayName": "jose carlos reyes",
      "photoUrl": "https://lh3.googleusercontent.com/a-/AOh14GinYFAgFOqnT_3P-0GbMdfhhLK8hOYHTX6IrbPf=s64",
      "userId": "16346821946810432209"
     },
     "user_tz": 360
    },
    "id": "SRDHsmyGjwcc",
    "outputId": "2748821d-5983-401b-ffc4-6b53a0c570ef"
   },
   "outputs": [
    {
     "name": "stdout",
     "output_type": "stream",
     "text": [
      "ONOMATOPEYA\n"
     ]
    }
   ],
   "source": [
    "# upper() function: returns the uppercased string\n",
    "msg = 'onomatopeya'\n",
    "print(msg.upper())"
   ]
  },
  {
   "cell_type": "code",
   "execution_count": 35,
   "metadata": {
    "colab": {
     "base_uri": "https://localhost:8080/"
    },
    "executionInfo": {
     "elapsed": 207,
     "status": "ok",
     "timestamp": 1639181828977,
     "user": {
      "displayName": "jose carlos reyes",
      "photoUrl": "https://lh3.googleusercontent.com/a-/AOh14GinYFAgFOqnT_3P-0GbMdfhhLK8hOYHTX6IrbPf=s64",
      "userId": "16346821946810432209"
     },
     "user_tz": 360
    },
    "id": "IFOjSZedl3zs",
    "outputId": "f0df28f0-a40b-40c6-9eee-787358fb376f"
   },
   "outputs": [
    {
     "name": "stdout",
     "output_type": "stream",
     "text": [
      "hollow knight\n"
     ]
    }
   ],
   "source": [
    "# upper() function: returns the lowercased string\n",
    "msg = 'HOLLOW KNIGHT'\n",
    "print(msg.lower())"
   ]
  },
  {
   "cell_type": "code",
   "execution_count": 41,
   "metadata": {
    "colab": {
     "base_uri": "https://localhost:8080/"
    },
    "executionInfo": {
     "elapsed": 218,
     "status": "ok",
     "timestamp": 1639181268013,
     "user": {
      "displayName": "jose carlos reyes",
      "photoUrl": "https://lh3.googleusercontent.com/a-/AOh14GinYFAgFOqnT_3P-0GbMdfhhLK8hOYHTX6IrbPf=s64",
      "userId": "16346821946810432209"
     },
     "user_tz": 360
    },
    "id": "nukINGNymFPM",
    "outputId": "006ad2f9-c8cd-48bb-fe6c-255d4b6e5e9c"
   },
   "outputs": [
    {
     "name": "stdout",
     "output_type": "stream",
     "text": [
      "Mario martinez\n"
     ]
    }
   ],
   "source": [
    "\"\"\"capitalize() function:turns the first character of a string to an uppercase letter \n",
    "and lowercases any remaining characters\"\"\"\n",
    "\n",
    "msg = 'mario martinez'\n",
    "print(msg.capitalize())"
   ]
  },
  {
   "cell_type": "code",
   "execution_count": 44,
   "metadata": {
    "colab": {
     "base_uri": "https://localhost:8080/"
    },
    "executionInfo": {
     "elapsed": 222,
     "status": "ok",
     "timestamp": 1639181273602,
     "user": {
      "displayName": "jose carlos reyes",
      "photoUrl": "https://lh3.googleusercontent.com/a-/AOh14GinYFAgFOqnT_3P-0GbMdfhhLK8hOYHTX6IrbPf=s64",
      "userId": "16346821946810432209"
     },
     "user_tz": 360
    },
    "id": "JrV_LT6V0JsR",
    "outputId": "a06a9d63-8f02-4988-829a-490804a4cb24"
   },
   "outputs": [
    {
     "name": "stdout",
     "output_type": "stream",
     "text": [
      "Mario Martinez\n"
     ]
    }
   ],
   "source": [
    "# title() function: title-cased string\n",
    "msg = 'mario martinez'\n",
    "print(msg.title())"
   ]
  },
  {
   "cell_type": "code",
   "execution_count": 45,
   "metadata": {
    "colab": {
     "base_uri": "https://localhost:8080/"
    },
    "executionInfo": {
     "elapsed": 237,
     "status": "ok",
     "timestamp": 1639180679269,
     "user": {
      "displayName": "jose carlos reyes",
      "photoUrl": "https://lh3.googleusercontent.com/a-/AOh14GinYFAgFOqnT_3P-0GbMdfhhLK8hOYHTX6IrbPf=s64",
      "userId": "16346821946810432209"
     },
     "user_tz": 360
    },
    "id": "yabeexHnnmjY",
    "outputId": "37fb5bd1-5a74-4590-8a33-e06aaccfb576"
   },
   "outputs": [
    {
     "name": "stdout",
     "output_type": "stream",
     "text": [
      "4\n"
     ]
    }
   ],
   "source": [
    "# Función find (Identifica la posición del carácter indicado)\n",
    "# find() function: return the lowest index value of the first occurrence of the substring from the input string\n",
    "msg = 'Welcome'\n",
    "print(msg.find('o'))"
   ]
  },
  {
   "cell_type": "code",
   "execution_count": 47,
   "metadata": {
    "colab": {
     "base_uri": "https://localhost:8080/"
    },
    "executionInfo": {
     "elapsed": 188,
     "status": "ok",
     "timestamp": 1639182720203,
     "user": {
      "displayName": "jose carlos reyes",
      "photoUrl": "https://lh3.googleusercontent.com/a-/AOh14GinYFAgFOqnT_3P-0GbMdfhhLK8hOYHTX6IrbPf=s64",
      "userId": "16346821946810432209"
     },
     "user_tz": 360
    },
    "id": "K6022wb_yPZF",
    "outputId": "ed6827a6-6b80-4b11-b4ae-a5c995240f57"
   },
   "outputs": [
    {
     "name": "stdout",
     "output_type": "stream",
     "text": [
      "True\n"
     ]
    }
   ],
   "source": [
    "# isupper() function:checks whether all the characters of a given string are uppercase or not\n",
    "msg = 'NORWAY'\n",
    "print(msg.isupper())"
   ]
  },
  {
   "cell_type": "code",
   "execution_count": 49,
   "metadata": {
    "colab": {
     "base_uri": "https://localhost:8080/"
    },
    "executionInfo": {
     "elapsed": 238,
     "status": "ok",
     "timestamp": 1639182867330,
     "user": {
      "displayName": "jose carlos reyes",
      "photoUrl": "https://lh3.googleusercontent.com/a-/AOh14GinYFAgFOqnT_3P-0GbMdfhhLK8hOYHTX6IrbPf=s64",
      "userId": "16346821946810432209"
     },
     "user_tz": 360
    },
    "id": "BcvBWaFQ4-X-",
    "outputId": "cbe50066-563e-4f70-846b-09264d4d99e7"
   },
   "outputs": [
    {
     "name": "stdout",
     "output_type": "stream",
     "text": [
      "False\n"
     ]
    }
   ],
   "source": [
    "# islower() function:checks whether all the characters of a given string are lowercase or not\n",
    "msg = 'NORWAY'\n",
    "print(msg.islower())"
   ]
  },
  {
   "cell_type": "code",
   "execution_count": 50,
   "metadata": {
    "colab": {
     "base_uri": "https://localhost:8080/"
    },
    "executionInfo": {
     "elapsed": 218,
     "status": "ok",
     "timestamp": 1639183131208,
     "user": {
      "displayName": "jose carlos reyes",
      "photoUrl": "https://lh3.googleusercontent.com/a-/AOh14GinYFAgFOqnT_3P-0GbMdfhhLK8hOYHTX6IrbPf=s64",
      "userId": "16346821946810432209"
     },
     "user_tz": 360
    },
    "id": "Kwbidbmn55RV",
    "outputId": "8c7e92de-16bc-45a6-82e6-5ea1620e21eb"
   },
   "outputs": [
    {
     "name": "stdout",
     "output_type": "stream",
     "text": [
      "True\n",
      "False\n"
     ]
    }
   ],
   "source": [
    "# isdigit() function returns True if all the characters are digits, otherwise False\n",
    "msg_0 = '123456789'\n",
    "msg_1 = 'Hey'\n",
    "print(msg_0.isdigit())\n",
    "print(msg_1.isdigit())"
   ]
  },
  {
   "cell_type": "code",
   "execution_count": 51,
   "metadata": {
    "colab": {
     "base_uri": "https://localhost:8080/"
    },
    "executionInfo": {
     "elapsed": 209,
     "status": "ok",
     "timestamp": 1639183620411,
     "user": {
      "displayName": "jose carlos reyes",
      "photoUrl": "https://lh3.googleusercontent.com/a-/AOh14GinYFAgFOqnT_3P-0GbMdfhhLK8hOYHTX6IrbPf=s64",
      "userId": "16346821946810432209"
     },
     "user_tz": 360
    },
    "id": "JaFZ5i2k6wJN",
    "outputId": "29cb96ee-c611-440d-c575-bc35055cf109"
   },
   "outputs": [
    {
     "name": "stdout",
     "output_type": "stream",
     "text": [
      "Let's delete whitespaces\n"
     ]
    }
   ],
   "source": [
    "# Función strip (Elimina los espacios en blanco al inicio y fin del texto)\n",
    "# strip() function: used to remove extra whitespaces\n",
    "msg = \" Let's delete whitespaces  \"\n",
    "print(msg.strip())"
   ]
  },
  {
   "cell_type": "code",
   "execution_count": 54,
   "metadata": {},
   "outputs": [
    {
     "name": "stdout",
     "output_type": "stream",
     "text": [
      "Let's remove underscores.\n"
     ]
    }
   ],
   "source": [
    "# Remove \"_\" characters\n",
    "msg = \"_Let's remove underscores._\"\n",
    "print(msg.strip('_'))"
   ]
  },
  {
   "cell_type": "code",
   "execution_count": 112,
   "metadata": {
    "id": "7XZZw9yi6ydX",
    "scrolled": true
   },
   "outputs": [
    {
     "data": {
      "text/plain": [
       "['__add__',\n",
       " '__class__',\n",
       " '__contains__',\n",
       " '__delattr__',\n",
       " '__dir__',\n",
       " '__doc__',\n",
       " '__eq__',\n",
       " '__format__',\n",
       " '__ge__',\n",
       " '__getattribute__',\n",
       " '__getitem__',\n",
       " '__getnewargs__',\n",
       " '__getstate__',\n",
       " '__gt__',\n",
       " '__hash__',\n",
       " '__init__',\n",
       " '__init_subclass__',\n",
       " '__iter__',\n",
       " '__le__',\n",
       " '__len__',\n",
       " '__lt__',\n",
       " '__mod__',\n",
       " '__mul__',\n",
       " '__ne__',\n",
       " '__new__',\n",
       " '__reduce__',\n",
       " '__reduce_ex__',\n",
       " '__repr__',\n",
       " '__rmod__',\n",
       " '__rmul__',\n",
       " '__setattr__',\n",
       " '__sizeof__',\n",
       " '__str__',\n",
       " '__subclasshook__',\n",
       " 'capitalize',\n",
       " 'casefold',\n",
       " 'center',\n",
       " 'count',\n",
       " 'encode',\n",
       " 'endswith',\n",
       " 'expandtabs',\n",
       " 'find',\n",
       " 'format',\n",
       " 'format_map',\n",
       " 'index',\n",
       " 'isalnum',\n",
       " 'isalpha',\n",
       " 'isascii',\n",
       " 'isdecimal',\n",
       " 'isdigit',\n",
       " 'isidentifier',\n",
       " 'islower',\n",
       " 'isnumeric',\n",
       " 'isprintable',\n",
       " 'isspace',\n",
       " 'istitle',\n",
       " 'isupper',\n",
       " 'join',\n",
       " 'ljust',\n",
       " 'lower',\n",
       " 'lstrip',\n",
       " 'maketrans',\n",
       " 'partition',\n",
       " 'removeprefix',\n",
       " 'removesuffix',\n",
       " 'replace',\n",
       " 'rfind',\n",
       " 'rindex',\n",
       " 'rjust',\n",
       " 'rpartition',\n",
       " 'rsplit',\n",
       " 'rstrip',\n",
       " 'split',\n",
       " 'splitlines',\n",
       " 'startswith',\n",
       " 'strip',\n",
       " 'swapcase',\n",
       " 'title',\n",
       " 'translate',\n",
       " 'upper',\n",
       " 'zfill']"
      ]
     },
     "execution_count": 112,
     "metadata": {},
     "output_type": "execute_result"
    }
   ],
   "source": [
    "# dir() function: returns all properties and methods of the specified object.\n",
    "dir(str)"
   ]
  },
  {
   "cell_type": "code",
   "execution_count": 55,
   "metadata": {
    "colab": {
     "base_uri": "https://localhost:8080/"
    },
    "executionInfo": {
     "elapsed": 199,
     "status": "ok",
     "timestamp": 1639183670162,
     "user": {
      "displayName": "jose carlos reyes",
      "photoUrl": "https://lh3.googleusercontent.com/a-/AOh14GinYFAgFOqnT_3P-0GbMdfhhLK8hOYHTX6IrbPf=s64",
      "userId": "16346821946810432209"
     },
     "user_tz": 360
    },
    "id": "Pzvt24Qv60ge",
    "outputId": "ad49a84c-3978-4176-96e4-48775d339225",
    "scrolled": true
   },
   "outputs": [
    {
     "name": "stdout",
     "output_type": "stream",
     "text": [
      "Help on method_descriptor:\n",
      "\n",
      "title(self, /)\n",
      "    Return a version of the string where each word is titlecased.\n",
      "    \n",
      "    More specifically, words start with uppercased characters and all remaining\n",
      "    cased characters have lower case.\n",
      "\n"
     ]
    }
   ],
   "source": [
    "# Función help para mostrar la documentación del método\n",
    "# help() function: provides information about modules, classes, functions, and objects.\n",
    "help(str.title)"
   ]
  }
 ],
 "metadata": {
  "colab": {
   "authorship_tag": "ABX9TyNWFbk1IS2g/29uD/PjUKsq",
   "collapsed_sections": [],
   "name": "Strings.ipynb",
   "provenance": []
  },
  "kernelspec": {
   "display_name": "Python 3",
   "language": "python",
   "name": "python3"
  },
  "language_info": {
   "codemirror_mode": {
    "name": "ipython",
    "version": 3
   },
   "file_extension": ".py",
   "mimetype": "text/x-python",
   "name": "python",
   "nbconvert_exporter": "python",
   "pygments_lexer": "ipython3",
   "version": "3.11.5"
  }
 },
 "nbformat": 4,
 "nbformat_minor": 1
}
