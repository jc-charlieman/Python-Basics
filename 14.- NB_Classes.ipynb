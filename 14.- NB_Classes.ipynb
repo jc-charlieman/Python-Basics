{
 "cells": [
  {
   "cell_type": "markdown",
   "id": "e1e85ace",
   "metadata": {},
   "source": [
    "### Class to represent an employee"
   ]
  },
  {
   "cell_type": "code",
   "execution_count": 3,
   "id": "d6aeabca",
   "metadata": {},
   "outputs": [
    {
     "name": "stdout",
     "output_type": "stream",
     "text": [
      "<class '__main__.Employee'>\n"
     ]
    }
   ],
   "source": [
    "class Employee():                               # Defining a class\n",
    "    def __init__(self,name,number_id,role):    # init method or constructor\n",
    "        self.name = name                    \n",
    "        self.number_id = number_id\n",
    "        self.role = role\n",
    "    \n",
    "    # Defining the methods\n",
    "    def work(self):\n",
    "        return (f'The employee {self.name} is at work.')\n",
    "        \n",
    "    def wkd(self):\n",
    "        return (f'The employee {self.name} is working overtime.')\n",
    "        \n",
    "    def vac(self):\n",
    "        return (f'The employee {self.name} is on vacation.')\n",
    "\n",
    "# Calling the class\n",
    "print(Employee)"
   ]
  },
  {
   "cell_type": "code",
   "execution_count": 5,
   "id": "61520b2f",
   "metadata": {},
   "outputs": [
    {
     "name": "stdout",
     "output_type": "stream",
     "text": [
      "<class '__main__.Employee'>\n"
     ]
    }
   ],
   "source": [
    "# Instantiating an Employee class\n",
    "employee_0 = Employee('Pepe',302516,0)\n",
    "print(type(employee_0))"
   ]
  },
  {
   "cell_type": "code",
   "execution_count": 6,
   "id": "906837b2",
   "metadata": {},
   "outputs": [
    {
     "name": "stdout",
     "output_type": "stream",
     "text": [
      "Pepe\n",
      "302516\n",
      "0\n"
     ]
    }
   ],
   "source": [
    "# Calling the attributes\n",
    "print(employee_0.name)\n",
    "print(employee_0.number_id)\n",
    "print(employee_0.role)"
   ]
  },
  {
   "cell_type": "code",
   "execution_count": 7,
   "id": "cac1ed58",
   "metadata": {},
   "outputs": [
    {
     "name": "stdout",
     "output_type": "stream",
     "text": [
      "The employee Pepe is at work.\n",
      "The employee Pepe is working overtime.\n",
      "The employee Pepe is on vacation.\n"
     ]
    }
   ],
   "source": [
    "# Calling the methods\n",
    "print(employee_0.work())\n",
    "print(employee_0.wkd())\n",
    "print(employee_0.vac())"
   ]
  },
  {
   "cell_type": "markdown",
   "id": "1f244bbd",
   "metadata": {},
   "source": [
    "## Bookstore"
   ]
  },
  {
   "cell_type": "code",
   "execution_count": 3,
   "id": "c887f1fa",
   "metadata": {},
   "outputs": [
    {
     "name": "stdout",
     "output_type": "stream",
     "text": [
      "\"Shakespeare\" by Hamlet\n"
     ]
    }
   ],
   "source": [
    "# Definng the class book\n",
    "class bk():\n",
    "    def __init__(self,title,author):\n",
    "        self.title = title\n",
    "        self.author = author\n",
    "    def msg(self):\n",
    "        return f'\"{self.title}\" by {self.author}'\n",
    "\n",
    "# Instantiating a book\n",
    "book_0 = bk('Shakespeare','Hamlet')\n",
    "print(book_0.msg())"
   ]
  },
  {
   "cell_type": "code",
   "execution_count": 5,
   "id": "63d0d27d",
   "metadata": {},
   "outputs": [
    {
     "name": "stdout",
     "output_type": "stream",
     "text": [
      "\"Proust\" by In search of lost time\n",
      "1950\n"
     ]
    }
   ],
   "source": [
    "# Defining a subclass (e-book)\n",
    "class e_bk(bk):\n",
    "    def __init__(self,author,title,pub_year):\n",
    "        bk.__init__(self,author,title)\n",
    "        self.pub_year = pub_year\n",
    "\n",
    "# Instantiating an e-book\n",
    "ebook = e_bk('Proust','In search of lost time',1950)\n",
    "print(ebook.msg())\n",
    "print(ebook.pub_year)"
   ]
  },
  {
   "cell_type": "code",
   "execution_count": 8,
   "id": "c5cbb482",
   "metadata": {},
   "outputs": [
    {
     "name": "stdout",
     "output_type": "stream",
     "text": [
      "\"Dostoyevski\" by Crime and Punishment\n",
      "720\n"
     ]
    }
   ],
   "source": [
    "# Defining a subclass (paper-book)\n",
    "class paper_bk(bk):\n",
    "    def __init__(self,author,title,pages):\n",
    "        bk.__init__(self,author,title)\n",
    "        self.pages = pages\n",
    "\n",
    "# Instantiating a paper-book\n",
    "p_book = paper_bk('Dostoyevski','Crime and Punishment',720)\n",
    "print(p_book.msg())\n",
    "print(p_book.pages)"
   ]
  },
  {
   "cell_type": "code",
   "execution_count": 10,
   "id": "0dcc5750",
   "metadata": {},
   "outputs": [],
   "source": [
    "# Defining a Bookstore class\n",
    "class bkstore():\n",
    "    def __init__(self):\n",
    "        self.books = []\n",
    "    def addbook(self,title):\n",
    "        self.books.append(title)\n",
    "    def sum(self):\n",
    "        return 'total: ' + str(len(self.books))\n",
    "    def elem(self):\n",
    "        return self.books"
   ]
  },
  {
   "cell_type": "code",
   "execution_count": 16,
   "id": "82bbfa3f",
   "metadata": {},
   "outputs": [
    {
     "name": "stdout",
     "output_type": "stream",
     "text": [
      "total: 4\n",
      "['The Iliad', 'The Odyssey', 'Romeo and Juliet', 'The Great Gatsby']\n"
     ]
    }
   ],
   "source": [
    "# Instantiating a bookstore class\n",
    "book_store = bkstore()\n",
    "book_store.addbook('The Iliad')\n",
    "book_store.addbook('The Odyssey')\n",
    "book_store.addbook('Romeo and Juliet')\n",
    "book_store.addbook('The Great Gatsby')\n",
    "print(book_store.sum())\n",
    "print(book_store.elem())"
   ]
  }
 ],
 "metadata": {
  "kernelspec": {
   "display_name": "Python 3 (ipykernel)",
   "language": "python",
   "name": "python3"
  },
  "language_info": {
   "codemirror_mode": {
    "name": "ipython",
    "version": 3
   },
   "file_extension": ".py",
   "mimetype": "text/x-python",
   "name": "python",
   "nbconvert_exporter": "python",
   "pygments_lexer": "ipython3",
   "version": "3.11.5"
  }
 },
 "nbformat": 4,
 "nbformat_minor": 5
}
