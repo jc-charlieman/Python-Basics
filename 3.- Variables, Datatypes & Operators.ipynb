{
 "cells": [
  {
   "cell_type": "markdown",
   "id": "f44d55c7",
   "metadata": {},
   "source": [
    "# Variables y sus tipos:"
   ]
  },
  {
   "cell_type": "code",
   "execution_count": 57,
   "id": "c3cdc77f",
   "metadata": {},
   "outputs": [
    {
     "name": "stdout",
     "output_type": "stream",
     "text": [
      "Hola Mundo\n"
     ]
    }
   ],
   "source": [
    "variable = 'Hola Mundo'  # Cadena de texto con comilla simple \n",
    "print(variable)"
   ]
  },
  {
   "cell_type": "code",
   "execution_count": 59,
   "id": "e91414e1",
   "metadata": {},
   "outputs": [
    {
     "name": "stdout",
     "output_type": "stream",
     "text": [
      "Hola Mundo\n"
     ]
    }
   ],
   "source": [
    "mensaje = \"Hola Mundo\"   # Cadena de texto con doble comilla\n",
    "print(mensaje)"
   ]
  },
  {
   "cell_type": "code",
   "execution_count": 31,
   "id": "c1fb4a69",
   "metadata": {},
   "outputs": [
    {
     "name": "stdout",
     "output_type": "stream",
     "text": [
      "Peter´s Book\n"
     ]
    }
   ],
   "source": [
    "msg = \"Peter´s Book\"     # Cadena de texto con comillas simples y dobles\n",
    "print(msg)"
   ]
  },
  {
   "cell_type": "code",
   "execution_count": 30,
   "id": "47a88e26",
   "metadata": {},
   "outputs": [
    {
     "name": "stdout",
     "output_type": "stream",
     "text": [
      "Peter\"s Book\n"
     ]
    }
   ],
   "source": [
    "msg = 'Peter\"s Book'     # Cadena de texto con comillas simples y dobles\n",
    "print(msg)"
   ]
  },
  {
   "cell_type": "code",
   "execution_count": 32,
   "id": "51a5dac6",
   "metadata": {},
   "outputs": [
    {
     "name": "stdout",
     "output_type": "stream",
     "text": [
      "\"The Big Bang Theory\"\n"
     ]
    }
   ],
   "source": [
    "print('\"The Big Bang Theory\"')  # Mensaje que incluya comillas "
   ]
  },
  {
   "cell_type": "code",
   "execution_count": 11,
   "id": "5202c1ef",
   "metadata": {},
   "outputs": [
    {
     "data": {
      "text/plain": [
       "int"
      ]
     },
     "execution_count": 11,
     "metadata": {},
     "output_type": "execute_result"
    }
   ],
   "source": [
    "# Función type para identificar el tipo de dato\n",
    "type(5)"
   ]
  },
  {
   "cell_type": "code",
   "execution_count": 12,
   "id": "9b845a6b",
   "metadata": {},
   "outputs": [
    {
     "data": {
      "text/plain": [
       "float"
      ]
     },
     "execution_count": 12,
     "metadata": {},
     "output_type": "execute_result"
    }
   ],
   "source": [
    "type(10.82)"
   ]
  },
  {
   "cell_type": "code",
   "execution_count": 16,
   "id": "c7f884f1",
   "metadata": {},
   "outputs": [
    {
     "data": {
      "text/plain": [
       "complex"
      ]
     },
     "execution_count": 16,
     "metadata": {},
     "output_type": "execute_result"
    }
   ],
   "source": [
    "type(4 + 7j)"
   ]
  },
  {
   "cell_type": "code",
   "execution_count": 13,
   "id": "cc9900ef",
   "metadata": {},
   "outputs": [
    {
     "data": {
      "text/plain": [
       "str"
      ]
     },
     "execution_count": 13,
     "metadata": {},
     "output_type": "execute_result"
    }
   ],
   "source": [
    "type('Esto es un mensaje')"
   ]
  },
  {
   "cell_type": "code",
   "execution_count": 14,
   "id": "f8837c2d",
   "metadata": {},
   "outputs": [
    {
     "data": {
      "text/plain": [
       "bool"
      ]
     },
     "execution_count": 14,
     "metadata": {},
     "output_type": "execute_result"
    }
   ],
   "source": [
    "type(True)"
   ]
  },
  {
   "cell_type": "code",
   "execution_count": 15,
   "id": "70db2cf5",
   "metadata": {},
   "outputs": [
    {
     "data": {
      "text/plain": [
       "bool"
      ]
     },
     "execution_count": 15,
     "metadata": {},
     "output_type": "execute_result"
    }
   ],
   "source": [
    "type(False)"
   ]
  },
  {
   "cell_type": "code",
   "execution_count": 18,
   "id": "2dec95bc",
   "metadata": {},
   "outputs": [
    {
     "data": {
      "text/plain": [
       "tuple"
      ]
     },
     "execution_count": 18,
     "metadata": {},
     "output_type": "execute_result"
    }
   ],
   "source": [
    "type((1,5,8,'Hola'))"
   ]
  },
  {
   "cell_type": "code",
   "execution_count": 24,
   "id": "6581739c",
   "metadata": {},
   "outputs": [
    {
     "data": {
      "text/plain": [
       "tuple"
      ]
     },
     "execution_count": 24,
     "metadata": {},
     "output_type": "execute_result"
    }
   ],
   "source": [
    "tupla = (1,5,8,'Hola')\n",
    "type(tupla)"
   ]
  },
  {
   "cell_type": "code",
   "execution_count": 19,
   "id": "bb1adb9f",
   "metadata": {},
   "outputs": [
    {
     "data": {
      "text/plain": [
       "list"
      ]
     },
     "execution_count": 19,
     "metadata": {},
     "output_type": "execute_result"
    }
   ],
   "source": [
    "Lista = [1,2,3,4,5,6]\n",
    "type(Lista)"
   ]
  },
  {
   "cell_type": "code",
   "execution_count": 23,
   "id": "ae7ca572",
   "metadata": {},
   "outputs": [
    {
     "data": {
      "text/plain": [
       "dict"
      ]
     },
     "execution_count": 23,
     "metadata": {},
     "output_type": "execute_result"
    }
   ],
   "source": [
    "D = {'Pedro':31, 'Maria':26, 'Gabriel':35}\n",
    "type(D)"
   ]
  },
  {
   "cell_type": "markdown",
   "id": "afffcad7",
   "metadata": {},
   "source": [
    "# Operadores Aritméticos"
   ]
  },
  {
   "cell_type": "code",
   "execution_count": 25,
   "id": "38f19574",
   "metadata": {},
   "outputs": [
    {
     "data": {
      "text/plain": [
       "12"
      ]
     },
     "execution_count": 25,
     "metadata": {},
     "output_type": "execute_result"
    }
   ],
   "source": [
    "7 + 5 # Suma (+)"
   ]
  },
  {
   "cell_type": "code",
   "execution_count": 26,
   "id": "31d0f55e",
   "metadata": {},
   "outputs": [
    {
     "data": {
      "text/plain": [
       "-5"
      ]
     },
     "execution_count": 26,
     "metadata": {},
     "output_type": "execute_result"
    }
   ],
   "source": [
    "10 - 15 # Resta (-)"
   ]
  },
  {
   "cell_type": "code",
   "execution_count": 27,
   "id": "4b92d8de",
   "metadata": {},
   "outputs": [
    {
     "data": {
      "text/plain": [
       "81"
      ]
     },
     "execution_count": 27,
     "metadata": {},
     "output_type": "execute_result"
    }
   ],
   "source": [
    "9*9  # Multiplicación (*)"
   ]
  },
  {
   "cell_type": "code",
   "execution_count": 28,
   "id": "fd0f7b1e",
   "metadata": {},
   "outputs": [
    {
     "data": {
      "text/plain": [
       "16"
      ]
     },
     "execution_count": 28,
     "metadata": {},
     "output_type": "execute_result"
    }
   ],
   "source": [
    "2**4  # Potencias (**)"
   ]
  },
  {
   "cell_type": "code",
   "execution_count": 32,
   "id": "92200152",
   "metadata": {},
   "outputs": [
    {
     "data": {
      "text/plain": [
       "16"
      ]
     },
     "execution_count": 32,
     "metadata": {},
     "output_type": "execute_result"
    }
   ],
   "source": [
    "y = pow(2,4)  #Potenciación mediante una función\n",
    "y"
   ]
  },
  {
   "cell_type": "code",
   "execution_count": 33,
   "id": "f4cf13ea",
   "metadata": {},
   "outputs": [
    {
     "data": {
      "text/plain": [
       "3.3333333333333335"
      ]
     },
     "execution_count": 33,
     "metadata": {},
     "output_type": "execute_result"
    }
   ],
   "source": [
    "10/3  # DiVisión (/)"
   ]
  },
  {
   "cell_type": "code",
   "execution_count": 35,
   "id": "fbe18263",
   "metadata": {},
   "outputs": [
    {
     "data": {
      "text/plain": [
       "3"
      ]
     },
     "execution_count": 35,
     "metadata": {},
     "output_type": "execute_result"
    }
   ],
   "source": [
    "10//3  # DiVisión entera (//)"
   ]
  },
  {
   "cell_type": "code",
   "execution_count": 37,
   "id": "3926a23c",
   "metadata": {},
   "outputs": [
    {
     "data": {
      "text/plain": [
       "3"
      ]
     },
     "execution_count": 37,
     "metadata": {},
     "output_type": "execute_result"
    }
   ],
   "source": [
    "15%4  # Módulo o residuo (//)"
   ]
  },
  {
   "cell_type": "code",
   "execution_count": 38,
   "id": "bce8d57f",
   "metadata": {},
   "outputs": [
    {
     "data": {
      "text/plain": [
       "(3, 3)"
      ]
     },
     "execution_count": 38,
     "metadata": {},
     "output_type": "execute_result"
    }
   ],
   "source": [
    "divmod(15,4)  # Función que da como resultado la división entera y el residuo"
   ]
  },
  {
   "cell_type": "code",
   "execution_count": 41,
   "id": "8b875ae2",
   "metadata": {},
   "outputs": [
    {
     "data": {
      "text/plain": [
       "9.0"
      ]
     },
     "execution_count": 41,
     "metadata": {},
     "output_type": "execute_result"
    }
   ],
   "source": [
    "10-2**3/4+1  #Se tiene preferencia la potenciación, división y posteriormente las sumas y restas"
   ]
  },
  {
   "cell_type": "code",
   "execution_count": 45,
   "id": "20c69f50",
   "metadata": {},
   "outputs": [
    {
     "data": {
      "text/plain": [
       "9.0"
      ]
     },
     "execution_count": 45,
     "metadata": {},
     "output_type": "execute_result"
    }
   ],
   "source": [
    "10-(2**3)/4+1"
   ]
  },
  {
   "cell_type": "code",
   "execution_count": 47,
   "id": "4cf02d4d",
   "metadata": {},
   "outputs": [
    {
     "data": {
      "text/plain": [
       "2.0"
      ]
     },
     "execution_count": 47,
     "metadata": {},
     "output_type": "execute_result"
    }
   ],
   "source": [
    "10-(8)/4+1\n",
    "8/4"
   ]
  },
  {
   "cell_type": "code",
   "execution_count": null,
   "id": "b9646b9f",
   "metadata": {},
   "outputs": [],
   "source": [
    "10-2.0+1"
   ]
  },
  {
   "cell_type": "markdown",
   "id": "235e00aa",
   "metadata": {},
   "source": [
    "# Operadores de comparación"
   ]
  },
  {
   "cell_type": "code",
   "execution_count": null,
   "id": "1e9865da",
   "metadata": {},
   "outputs": [],
   "source": [
    "# <, >, <=, >=, !=, =="
   ]
  },
  {
   "cell_type": "code",
   "execution_count": 7,
   "id": "c04bf2b8",
   "metadata": {},
   "outputs": [
    {
     "data": {
      "text/plain": [
       "False"
      ]
     },
     "execution_count": 7,
     "metadata": {},
     "output_type": "execute_result"
    }
   ],
   "source": [
    "6 < 2  "
   ]
  },
  {
   "cell_type": "code",
   "execution_count": 11,
   "id": "afd4369f",
   "metadata": {},
   "outputs": [
    {
     "data": {
      "text/plain": [
       "True"
      ]
     },
     "execution_count": 11,
     "metadata": {},
     "output_type": "execute_result"
    }
   ],
   "source": [
    "9 > 5"
   ]
  },
  {
   "cell_type": "code",
   "execution_count": 14,
   "id": "7fcf6728",
   "metadata": {},
   "outputs": [
    {
     "data": {
      "text/plain": [
       "False"
      ]
     },
     "execution_count": 14,
     "metadata": {},
     "output_type": "execute_result"
    }
   ],
   "source": [
    "7 <= 6"
   ]
  },
  {
   "cell_type": "code",
   "execution_count": 15,
   "id": "a118e7aa",
   "metadata": {},
   "outputs": [
    {
     "data": {
      "text/plain": [
       "True"
      ]
     },
     "execution_count": 15,
     "metadata": {},
     "output_type": "execute_result"
    }
   ],
   "source": [
    "15 >= 14"
   ]
  },
  {
   "cell_type": "code",
   "execution_count": 16,
   "id": "0bcbbdff",
   "metadata": {},
   "outputs": [
    {
     "data": {
      "text/plain": [
       "True"
      ]
     },
     "execution_count": 16,
     "metadata": {},
     "output_type": "execute_result"
    }
   ],
   "source": [
    "10 != 20"
   ]
  },
  {
   "cell_type": "code",
   "execution_count": 17,
   "id": "ff24aeb3",
   "metadata": {},
   "outputs": [
    {
     "data": {
      "text/plain": [
       "False"
      ]
     },
     "execution_count": 17,
     "metadata": {},
     "output_type": "execute_result"
    }
   ],
   "source": [
    "20 != 20"
   ]
  },
  {
   "cell_type": "code",
   "execution_count": 18,
   "id": "57f606ee",
   "metadata": {},
   "outputs": [
    {
     "data": {
      "text/plain": [
       "True"
      ]
     },
     "execution_count": 18,
     "metadata": {},
     "output_type": "execute_result"
    }
   ],
   "source": [
    "20 == 20"
   ]
  },
  {
   "cell_type": "code",
   "execution_count": 33,
   "id": "222268ef",
   "metadata": {},
   "outputs": [
    {
     "data": {
      "text/plain": [
       "8"
      ]
     },
     "execution_count": 33,
     "metadata": {},
     "output_type": "execute_result"
    }
   ],
   "source": [
    "a = 6\n",
    "a += 2  # Equivalente a = a+2\n",
    "a"
   ]
  },
  {
   "cell_type": "code",
   "execution_count": 34,
   "id": "e3027688",
   "metadata": {},
   "outputs": [
    {
     "data": {
      "text/plain": [
       "4"
      ]
     },
     "execution_count": 34,
     "metadata": {},
     "output_type": "execute_result"
    }
   ],
   "source": [
    "a = 6\n",
    "a -= 2  # Equivalente a = a-2\n",
    "a"
   ]
  },
  {
   "cell_type": "code",
   "execution_count": 35,
   "id": "9814fe21",
   "metadata": {},
   "outputs": [
    {
     "data": {
      "text/plain": [
       "12"
      ]
     },
     "execution_count": 35,
     "metadata": {},
     "output_type": "execute_result"
    }
   ],
   "source": [
    "a = 6\n",
    "a *= 2  # Equivalente a = a*2\n",
    "a"
   ]
  },
  {
   "cell_type": "code",
   "execution_count": 36,
   "id": "6a2cd0ad",
   "metadata": {},
   "outputs": [
    {
     "data": {
      "text/plain": [
       "3.0"
      ]
     },
     "execution_count": 36,
     "metadata": {},
     "output_type": "execute_result"
    }
   ],
   "source": [
    "a = 6\n",
    "a /= 2  # Equivalente a = a/2\n",
    "a"
   ]
  },
  {
   "cell_type": "code",
   "execution_count": 39,
   "id": "ae1a8db3",
   "metadata": {
    "scrolled": true
   },
   "outputs": [
    {
     "data": {
      "text/plain": [
       "1"
      ]
     },
     "execution_count": 39,
     "metadata": {},
     "output_type": "execute_result"
    }
   ],
   "source": [
    "a = 6\n",
    "a //= 4  # Equivalente a = a//2\n",
    "a"
   ]
  },
  {
   "cell_type": "code",
   "execution_count": 42,
   "id": "7dd5ddc7",
   "metadata": {
    "scrolled": true
   },
   "outputs": [
    {
     "data": {
      "text/plain": [
       "2"
      ]
     },
     "execution_count": 42,
     "metadata": {},
     "output_type": "execute_result"
    }
   ],
   "source": [
    "a = 6\n",
    "a %= 4  # Equivalente a = a**2\n",
    "a"
   ]
  },
  {
   "cell_type": "code",
   "execution_count": 40,
   "id": "bd3d1536",
   "metadata": {},
   "outputs": [
    {
     "data": {
      "text/plain": [
       "1296"
      ]
     },
     "execution_count": 40,
     "metadata": {},
     "output_type": "execute_result"
    }
   ],
   "source": [
    "a = 6\n",
    "a **= 4  # Equivalente a = a**2\n",
    "a"
   ]
  },
  {
   "cell_type": "markdown",
   "id": "9723962a",
   "metadata": {},
   "source": [
    "# Operadores Lógicos"
   ]
  },
  {
   "cell_type": "code",
   "execution_count": null,
   "id": "60667efb",
   "metadata": {},
   "outputs": [],
   "source": [
    "# not, and, or"
   ]
  },
  {
   "cell_type": "code",
   "execution_count": 19,
   "id": "b479e83a",
   "metadata": {},
   "outputs": [
    {
     "data": {
      "text/plain": [
       "False"
      ]
     },
     "execution_count": 19,
     "metadata": {},
     "output_type": "execute_result"
    }
   ],
   "source": [
    "4 < 6 and 7 > 8 "
   ]
  },
  {
   "cell_type": "code",
   "execution_count": 20,
   "id": "c83efebf",
   "metadata": {},
   "outputs": [
    {
     "data": {
      "text/plain": [
       "True"
      ]
     },
     "execution_count": 20,
     "metadata": {},
     "output_type": "execute_result"
    }
   ],
   "source": [
    "3 > 5 or 7 < 6 or 10 == 10"
   ]
  },
  {
   "cell_type": "code",
   "execution_count": 21,
   "id": "3fc3339f",
   "metadata": {},
   "outputs": [
    {
     "data": {
      "text/plain": [
       "False"
      ]
     },
     "execution_count": 21,
     "metadata": {},
     "output_type": "execute_result"
    }
   ],
   "source": [
    "not True"
   ]
  },
  {
   "cell_type": "code",
   "execution_count": 22,
   "id": "023426de",
   "metadata": {},
   "outputs": [
    {
     "data": {
      "text/plain": [
       "True"
      ]
     },
     "execution_count": 22,
     "metadata": {},
     "output_type": "execute_result"
    }
   ],
   "source": [
    "not False"
   ]
  },
  {
   "cell_type": "markdown",
   "id": "b8760d27",
   "metadata": {},
   "source": [
    "# Interacción entre Datos"
   ]
  },
  {
   "cell_type": "code",
   "execution_count": 24,
   "id": "ed3efec9",
   "metadata": {},
   "outputs": [
    {
     "data": {
      "text/plain": [
       "'Hola Pythonista'"
      ]
     },
     "execution_count": 24,
     "metadata": {},
     "output_type": "execute_result"
    }
   ],
   "source": [
    "'Hola '+ 'Pythonista'  # El símbolo (+) puede emplearse para concatenar cadenas de texto"
   ]
  },
  {
   "cell_type": "code",
   "execution_count": 25,
   "id": "d6a7949f",
   "metadata": {},
   "outputs": [
    {
     "data": {
      "text/plain": [
       "12.0"
      ]
     },
     "execution_count": 25,
     "metadata": {},
     "output_type": "execute_result"
    }
   ],
   "source": [
    "4 + 8.0                # La suma de un número de tipo entero y uno flotante da como resultado uno flotante"
   ]
  },
  {
   "cell_type": "code",
   "execution_count": 36,
   "id": "a0cf6747",
   "metadata": {},
   "outputs": [
    {
     "name": "stdout",
     "output_type": "stream",
     "text": [
      "32 , <class 'int'>\n"
     ]
    }
   ],
   "source": [
    "Res = 4*8  # La suma de un número de tipo entero y uno flotante da como resultado uno flotante\n",
    "print(Res,',',type(Res))"
   ]
  },
  {
   "cell_type": "code",
   "execution_count": 43,
   "id": "39354555",
   "metadata": {},
   "outputs": [
    {
     "data": {
      "text/plain": [
       "'MexicoMexicoMexicoMexicoMexico'"
      ]
     },
     "execution_count": 43,
     "metadata": {},
     "output_type": "execute_result"
    }
   ],
   "source": [
    "'Mexico'*5   # Polimorfismo con la multiplicación           "
   ]
  },
  {
   "cell_type": "code",
   "execution_count": 56,
   "id": "2a4a4af5",
   "metadata": {},
   "outputs": [
    {
     "name": "stdout",
     "output_type": "stream",
     "text": [
      "2.545454545454545\n",
      "2.545455\n"
     ]
    }
   ],
   "source": [
    "m = 2.8/1.1\n",
    "print(m)\n",
    "print(round(m,6))"
   ]
  },
  {
   "cell_type": "markdown",
   "id": "0e774ef4",
   "metadata": {},
   "source": [
    "# Conversión de datos"
   ]
  },
  {
   "cell_type": "code",
   "execution_count": 61,
   "id": "80e03512",
   "metadata": {},
   "outputs": [
    {
     "data": {
      "text/plain": [
       "5.0"
      ]
     },
     "execution_count": 61,
     "metadata": {},
     "output_type": "execute_result"
    }
   ],
   "source": [
    "float(5)   # Conversión de un entero a uno flotante"
   ]
  },
  {
   "cell_type": "code",
   "execution_count": 62,
   "id": "517016d1",
   "metadata": {},
   "outputs": [
    {
     "data": {
      "text/plain": [
       "3"
      ]
     },
     "execution_count": 62,
     "metadata": {},
     "output_type": "execute_result"
    }
   ],
   "source": [
    "int(3.8)   # Conversión de un flotante a un entero"
   ]
  },
  {
   "cell_type": "code",
   "execution_count": 63,
   "id": "dae47be7",
   "metadata": {},
   "outputs": [
    {
     "data": {
      "text/plain": [
       "'456'"
      ]
     },
     "execution_count": 63,
     "metadata": {},
     "output_type": "execute_result"
    }
   ],
   "source": [
    "str(456)   # Conversión a un tipo cadena"
   ]
  },
  {
   "cell_type": "code",
   "execution_count": 3,
   "id": "913244f8",
   "metadata": {},
   "outputs": [
    {
     "name": "stdout",
     "output_type": "stream",
     "text": [
      "Introduce un número: 89\n",
      "<class 'str'>\n"
     ]
    }
   ],
   "source": [
    "numero = input('Introduce un número: ')\n",
    "print(type(numero))"
   ]
  },
  {
   "cell_type": "code",
   "execution_count": 2,
   "id": "a5a0b871",
   "metadata": {},
   "outputs": [
    {
     "name": "stdout",
     "output_type": "stream",
     "text": [
      "Ingresa un número: 45\n",
      "<class 'int'>\n"
     ]
    }
   ],
   "source": [
    "numero2 = int(input('Ingresa un número: '))\n",
    "print(type(numero2))"
   ]
  },
  {
   "cell_type": "markdown",
   "id": "a2018f1c",
   "metadata": {},
   "source": [
    "# Declaring variables"
   ]
  },
  {
   "cell_type": "code",
   "execution_count": null,
   "id": "fed8d4fd",
   "metadata": {},
   "outputs": [],
   "source": [
    "# Python is a dynamically typed language. It is not necessary to declare the type of variable. "
   ]
  },
  {
   "cell_type": "code",
   "execution_count": 17,
   "id": "60b4f258",
   "metadata": {},
   "outputs": [],
   "source": [
    "a = 10"
   ]
  },
  {
   "cell_type": "code",
   "execution_count": 18,
   "id": "f1d63d9c",
   "metadata": {},
   "outputs": [],
   "source": [
    "b= 3.4"
   ]
  },
  {
   "cell_type": "code",
   "execution_count": null,
   "id": "2c17d848",
   "metadata": {},
   "outputs": [],
   "source": [
    "c= a +b\n",
    "c"
   ]
  },
  {
   "cell_type": "code",
   "execution_count": null,
   "id": "16509dca",
   "metadata": {},
   "outputs": [],
   "source": [
    "# Assigning multiple variables in one-line\n",
    "var0, var1, var2 = 5, 7.89, 1+3j\n",
    "print(var0)\n",
    "print(var1)\n",
    "print(var2)"
   ]
  },
  {
   "cell_type": "code",
   "execution_count": 1,
   "id": "d13c4f3a",
   "metadata": {},
   "outputs": [
    {
     "data": {
      "text/plain": [
       "('France', 'Italy', 'Germany', 'England')"
      ]
     },
     "execution_count": 1,
     "metadata": {},
     "output_type": "execute_result"
    }
   ],
   "source": [
    "Tupla = ('France','Italy', 'Germany', 'England')\n",
    "Tupla"
   ]
  },
  {
   "cell_type": "code",
   "execution_count": 23,
   "id": "4c00afab",
   "metadata": {},
   "outputs": [
    {
     "data": {
      "text/plain": [
       "[1, 2, 3, 4, 5, 6, 7, 8, 9, 10]"
      ]
     },
     "execution_count": 23,
     "metadata": {},
     "output_type": "execute_result"
    }
   ],
   "source": [
    "List = [1,2,3,4,5,6,7,8,9,10] \n",
    "List"
   ]
  },
  {
   "cell_type": "code",
   "execution_count": 27,
   "id": "bcc6a30b",
   "metadata": {},
   "outputs": [
    {
     "data": {
      "text/plain": [
       "{'Yunuen': 'Balam-22', 'COSL-3': 'Ek-32', 'Sandunga': 'Takín-22'}"
      ]
     },
     "execution_count": 27,
     "metadata": {},
     "output_type": "execute_result"
    }
   ],
   "source": [
    "Dict = {'Y':'B-22', 'C':'E-32', 'S':'T-22'}\n",
    "Dict"
   ]
  }
 ],
 "metadata": {
  "kernelspec": {
   "display_name": "Python 3 (ipykernel)",
   "language": "python",
   "name": "python3"
  },
  "language_info": {
   "codemirror_mode": {
    "name": "ipython",
    "version": 3
   },
   "file_extension": ".py",
   "mimetype": "text/x-python",
   "name": "python",
   "nbconvert_exporter": "python",
   "pygments_lexer": "ipython3",
   "version": "3.11.5"
  }
 },
 "nbformat": 4,
 "nbformat_minor": 5
}
