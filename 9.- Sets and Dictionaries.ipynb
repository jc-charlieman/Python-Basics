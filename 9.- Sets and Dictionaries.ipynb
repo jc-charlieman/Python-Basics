{
 "cells": [
  {
   "cell_type": "markdown",
   "id": "154fe556",
   "metadata": {},
   "source": [
    "## Sets"
   ]
  },
  {
   "cell_type": "code",
   "execution_count": 1,
   "id": "aa0001f1",
   "metadata": {},
   "outputs": [
    {
     "name": "stdout",
     "output_type": "stream",
     "text": [
      "{'o', 'e', 'a', 'u', 'i'}\n"
     ]
    }
   ],
   "source": [
    "# declaring a sets\n",
    "s_0 = {'a','e','i','o','u','a'}\n",
    "print(s_0)"
   ]
  },
  {
   "cell_type": "code",
   "execution_count": 3,
   "id": "0ac79254",
   "metadata": {
    "scrolled": true
   },
   "outputs": [
    {
     "name": "stdout",
     "output_type": "stream",
     "text": [
      "{'u', 'o', 'e', 'a', 'i'}\n"
     ]
    }
   ],
   "source": [
    "# set() function and using a string as a sequence (iterable)\n",
    "s_1 = set('aeioua')\n",
    "print(s_1)"
   ]
  },
  {
   "cell_type": "code",
   "execution_count": 5,
   "id": "c2bd7996",
   "metadata": {},
   "outputs": [
    {
     "name": "stdout",
     "output_type": "stream",
     "text": [
      "{'C', 'B', 'E', 'A', 'D'}\n"
     ]
    }
   ],
   "source": [
    "# set() function and using a tuple as a sequence (iterable)\n",
    "s_2 = set(('A','B','C','D','E','A')) \n",
    "print(s_2)"
   ]
  },
  {
   "cell_type": "markdown",
   "id": "cc0e39e2",
   "metadata": {},
   "source": [
    "### Sets are immutable, as a consequence do not admit lists or dictionaries as elements just tuples."
   ]
  },
  {
   "cell_type": "code",
   "execution_count": 9,
   "id": "446337f3",
   "metadata": {},
   "outputs": [
    {
     "name": "stdout",
     "output_type": "stream",
     "text": [
      "{'Pedro', (1, 2), 'Maria'}\n",
      "<class 'set'>\n"
     ]
    }
   ],
   "source": [
    "# Set with a tuple as an element\n",
    "s_3 = {'Pedro','Maria', (1,2)}\n",
    "print(s_3)\n",
    "print(type(s_3))"
   ]
  },
  {
   "cell_type": "code",
   "execution_count": 10,
   "id": "c99e8807",
   "metadata": {
    "scrolled": true
   },
   "outputs": [
    {
     "ename": "TypeError",
     "evalue": "unhashable type: 'list'",
     "output_type": "error",
     "traceback": [
      "\u001b[1;31m---------------------------------------------------------------------------\u001b[0m",
      "\u001b[1;31mTypeError\u001b[0m                                 Traceback (most recent call last)",
      "Cell \u001b[1;32mIn[10], line 2\u001b[0m\n\u001b[0;32m      1\u001b[0m \u001b[38;5;66;03m# Set with a list as an element\u001b[39;00m\n\u001b[1;32m----> 2\u001b[0m s_4 \u001b[38;5;241m=\u001b[39m {\u001b[38;5;124m'\u001b[39m\u001b[38;5;124mPedro\u001b[39m\u001b[38;5;124m'\u001b[39m,\u001b[38;5;124m'\u001b[39m\u001b[38;5;124mMaria\u001b[39m\u001b[38;5;124m'\u001b[39m, [\u001b[38;5;241m1\u001b[39m,\u001b[38;5;241m2\u001b[39m]}\n\u001b[0;32m      3\u001b[0m \u001b[38;5;28mprint\u001b[39m(s_4)\n",
      "\u001b[1;31mTypeError\u001b[0m: unhashable type: 'list'"
     ]
    }
   ],
   "source": [
    "# Set with a list as an element\n",
    "s_4 = {'Pedro','Maria', [1,2]}\n",
    "print(s_4)"
   ]
  },
  {
   "cell_type": "code",
   "execution_count": 6,
   "id": "bb72dffb",
   "metadata": {
    "scrolled": true
   },
   "outputs": [
    {
     "ename": "TypeError",
     "evalue": "unhashable type: 'dict'",
     "output_type": "error",
     "traceback": [
      "\u001b[1;31m---------------------------------------------------------------------------\u001b[0m",
      "\u001b[1;31mTypeError\u001b[0m                                 Traceback (most recent call last)",
      "Cell \u001b[1;32mIn[6], line 2\u001b[0m\n\u001b[0;32m      1\u001b[0m \u001b[38;5;66;03m# Set including a dictionary as an element\u001b[39;00m\n\u001b[1;32m----> 2\u001b[0m s_5 \u001b[38;5;241m=\u001b[39m {\u001b[38;5;124m'\u001b[39m\u001b[38;5;124mPedro\u001b[39m\u001b[38;5;124m'\u001b[39m,\u001b[38;5;124m'\u001b[39m\u001b[38;5;124mMaría\u001b[39m\u001b[38;5;124m'\u001b[39m, {\u001b[38;5;241m1\u001b[39m:\u001b[38;5;241m2\u001b[39m,\u001b[38;5;241m2\u001b[39m:\u001b[38;5;241m4\u001b[39m}}\n\u001b[0;32m      3\u001b[0m \u001b[38;5;28mprint\u001b[39m(s_5)\n",
      "\u001b[1;31mTypeError\u001b[0m: unhashable type: 'dict'"
     ]
    }
   ],
   "source": [
    "# Set including a dictionary as an element\n",
    "s_5 = {'Pedro','María', {1:2,2:4}}\n",
    "print(s_5)"
   ]
  },
  {
   "cell_type": "markdown",
   "id": "68ccda7f",
   "metadata": {},
   "source": [
    "### Operations"
   ]
  },
  {
   "cell_type": "code",
   "execution_count": 11,
   "id": "bae63204",
   "metadata": {
    "scrolled": true
   },
   "outputs": [
    {
     "ename": "TypeError",
     "evalue": "'set' object does not support item assignment",
     "output_type": "error",
     "traceback": [
      "\u001b[1;31m---------------------------------------------------------------------------\u001b[0m",
      "\u001b[1;31mTypeError\u001b[0m                                 Traceback (most recent call last)",
      "Cell \u001b[1;32mIn[11], line 3\u001b[0m\n\u001b[0;32m      1\u001b[0m \u001b[38;5;66;03m# Sets are immutable\u001b[39;00m\n\u001b[0;32m      2\u001b[0m conj \u001b[38;5;241m=\u001b[39m {\u001b[38;5;241m0\u001b[39m,\u001b[38;5;241m1\u001b[39m,\u001b[38;5;241m2\u001b[39m,\u001b[38;5;241m3\u001b[39m,\u001b[38;5;241m4\u001b[39m,\u001b[38;5;241m5\u001b[39m}\n\u001b[1;32m----> 3\u001b[0m \u001b[43mconj\u001b[49m\u001b[43m[\u001b[49m\u001b[38;5;241;43m3\u001b[39;49m\u001b[43m]\u001b[49m \u001b[38;5;241m=\u001b[39m \u001b[38;5;241m10\u001b[39m\n\u001b[0;32m      4\u001b[0m \u001b[38;5;28mprint\u001b[39m(conj)\n",
      "\u001b[1;31mTypeError\u001b[0m: 'set' object does not support item assignment"
     ]
    }
   ],
   "source": [
    "# Sets are immutable\n",
    "conj = {0,1,2,3,4,5}\n",
    "conj[3] = 10\n",
    "print(conj)"
   ]
  },
  {
   "cell_type": "code",
   "execution_count": 13,
   "id": "1db99a8a",
   "metadata": {},
   "outputs": [
    {
     "name": "stdout",
     "output_type": "stream",
     "text": [
      "{'Ixtoc', 'Ek', 'Akal', 'Kambesah', 'Balam'}\n"
     ]
    }
   ],
   "source": [
    "# No duplicate values\n",
    "campos = {'Akal','Ek','Balam','Ixtoc','Kambesah','Balam','Akal'}\n",
    "print(campos)"
   ]
  },
  {
   "cell_type": "markdown",
   "id": "8d1e26c5",
   "metadata": {},
   "source": [
    "### Sets are not sequences, they are iterables. Only support membershio test, does not allow concatenation, repetition, indexing and slicing. "
   ]
  },
  {
   "cell_type": "code",
   "execution_count": 14,
   "id": "00f2b80e",
   "metadata": {},
   "outputs": [
    {
     "name": "stdout",
     "output_type": "stream",
     "text": [
      "False\n"
     ]
    }
   ],
   "source": [
    "# Membership test\n",
    "A = {1,2,3}\n",
    "print(5 in A)"
   ]
  },
  {
   "cell_type": "code",
   "execution_count": 16,
   "id": "09bd002d",
   "metadata": {
    "scrolled": true
   },
   "outputs": [
    {
     "ename": "TypeError",
     "evalue": "unsupported operand type(s) for +: 'set' and 'set'",
     "output_type": "error",
     "traceback": [
      "\u001b[1;31m---------------------------------------------------------------------------\u001b[0m",
      "\u001b[1;31mTypeError\u001b[0m                                 Traceback (most recent call last)",
      "Cell \u001b[1;32mIn[16], line 4\u001b[0m\n\u001b[0;32m      2\u001b[0m evens \u001b[38;5;241m=\u001b[39m {\u001b[38;5;241m2\u001b[39m,\u001b[38;5;241m4\u001b[39m,\u001b[38;5;241m6\u001b[39m,\u001b[38;5;241m8\u001b[39m,\u001b[38;5;241m10\u001b[39m}\n\u001b[0;32m      3\u001b[0m odds \u001b[38;5;241m=\u001b[39m {\u001b[38;5;241m1\u001b[39m,\u001b[38;5;241m3\u001b[39m,\u001b[38;5;241m5\u001b[39m,\u001b[38;5;241m7\u001b[39m,\u001b[38;5;241m9\u001b[39m}\n\u001b[1;32m----> 4\u001b[0m \u001b[38;5;28mprint\u001b[39m(\u001b[43mevens\u001b[49m\u001b[43m \u001b[49m\u001b[38;5;241;43m+\u001b[39;49m\u001b[43m \u001b[49m\u001b[43modds\u001b[49m)\n",
      "\u001b[1;31mTypeError\u001b[0m: unsupported operand type(s) for +: 'set' and 'set'"
     ]
    }
   ],
   "source": [
    "# Concatenation\n",
    "evens = {2,4,6,8,10}\n",
    "odds = {1,3,5,7,9}\n",
    "print(evens + odds)"
   ]
  },
  {
   "cell_type": "code",
   "execution_count": 17,
   "id": "23ab3d6a",
   "metadata": {},
   "outputs": [
    {
     "ename": "TypeError",
     "evalue": "unsupported operand type(s) for *: 'set' and 'int'",
     "output_type": "error",
     "traceback": [
      "\u001b[1;31m---------------------------------------------------------------------------\u001b[0m",
      "\u001b[1;31mTypeError\u001b[0m                                 Traceback (most recent call last)",
      "Cell \u001b[1;32mIn[17], line 3\u001b[0m\n\u001b[0;32m      1\u001b[0m \u001b[38;5;66;03m# Repetition\u001b[39;00m\n\u001b[0;32m      2\u001b[0m evens \u001b[38;5;241m=\u001b[39m {\u001b[38;5;241m2\u001b[39m,\u001b[38;5;241m4\u001b[39m,\u001b[38;5;241m6\u001b[39m}\n\u001b[1;32m----> 3\u001b[0m \u001b[38;5;28mprint\u001b[39m(\u001b[43mevens\u001b[49m\u001b[38;5;241;43m*\u001b[39;49m\u001b[38;5;241;43m4\u001b[39;49m)\n",
      "\u001b[1;31mTypeError\u001b[0m: unsupported operand type(s) for *: 'set' and 'int'"
     ]
    }
   ],
   "source": [
    "# Repetition\n",
    "evens = {2,4,6}\n",
    "print(evens*4)"
   ]
  },
  {
   "cell_type": "code",
   "execution_count": 19,
   "id": "18bafa21",
   "metadata": {
    "scrolled": false
   },
   "outputs": [
    {
     "ename": "TypeError",
     "evalue": "'set' object is not subscriptable",
     "output_type": "error",
     "traceback": [
      "\u001b[1;31m---------------------------------------------------------------------------\u001b[0m",
      "\u001b[1;31mTypeError\u001b[0m                                 Traceback (most recent call last)",
      "Cell \u001b[1;32mIn[19], line 3\u001b[0m\n\u001b[0;32m      1\u001b[0m \u001b[38;5;66;03m# Indexing\u001b[39;00m\n\u001b[0;32m      2\u001b[0m evens \u001b[38;5;241m=\u001b[39m {\u001b[38;5;241m2\u001b[39m,\u001b[38;5;241m4\u001b[39m,\u001b[38;5;241m6\u001b[39m,\u001b[38;5;241m8\u001b[39m,\u001b[38;5;241m10\u001b[39m}\n\u001b[1;32m----> 3\u001b[0m \u001b[38;5;28mprint\u001b[39m(\u001b[43mevens\u001b[49m\u001b[43m[\u001b[49m\u001b[38;5;241;43m2\u001b[39;49m\u001b[43m]\u001b[49m)\n",
      "\u001b[1;31mTypeError\u001b[0m: 'set' object is not subscriptable"
     ]
    }
   ],
   "source": [
    "# Indexing\n",
    "evens = {2,4,6,8,10}\n",
    "print(evens[2])"
   ]
  },
  {
   "cell_type": "code",
   "execution_count": 21,
   "id": "41ba79af",
   "metadata": {},
   "outputs": [
    {
     "ename": "TypeError",
     "evalue": "'set' object is not subscriptable",
     "output_type": "error",
     "traceback": [
      "\u001b[1;31m---------------------------------------------------------------------------\u001b[0m",
      "\u001b[1;31mTypeError\u001b[0m                                 Traceback (most recent call last)",
      "Cell \u001b[1;32mIn[21], line 3\u001b[0m\n\u001b[0;32m      1\u001b[0m \u001b[38;5;66;03m# Slicing\u001b[39;00m\n\u001b[0;32m      2\u001b[0m evens \u001b[38;5;241m=\u001b[39m {\u001b[38;5;241m2\u001b[39m,\u001b[38;5;241m4\u001b[39m,\u001b[38;5;241m6\u001b[39m,\u001b[38;5;241m8\u001b[39m,\u001b[38;5;241m10\u001b[39m}\n\u001b[1;32m----> 3\u001b[0m \u001b[38;5;28mprint\u001b[39m(\u001b[43mevens\u001b[49m\u001b[43m[\u001b[49m\u001b[38;5;241;43m1\u001b[39;49m\u001b[43m:\u001b[49m\u001b[38;5;241;43m4\u001b[39;49m\u001b[43m]\u001b[49m)\n",
      "\u001b[1;31mTypeError\u001b[0m: 'set' object is not subscriptable"
     ]
    }
   ],
   "source": [
    "# Slicing\n",
    "evens = {2,4,6,8,10}\n",
    "print(evens[1:4])"
   ]
  },
  {
   "cell_type": "markdown",
   "id": "19bc91c4",
   "metadata": {},
   "source": [
    "### Operations"
   ]
  },
  {
   "cell_type": "code",
   "execution_count": 22,
   "id": "6df4ceba",
   "metadata": {},
   "outputs": [
    {
     "name": "stdout",
     "output_type": "stream",
     "text": [
      "{1, 2, 3, 4, 5, 6, 7, 8, 9, 10}\n"
     ]
    }
   ],
   "source": [
    "# Operator | returns a set that contains all items from both sets, duplicates are excluded\n",
    "evens = {2,4,6,8,10}\n",
    "odds = {1,3,5,7,9,10}\n",
    "union = even | odd\n",
    "print(union)"
   ]
  },
  {
   "cell_type": "code",
   "execution_count": 24,
   "id": "ef7d0ed5",
   "metadata": {},
   "outputs": [
    {
     "name": "stdout",
     "output_type": "stream",
     "text": [
      "{1, 2, 3, 4, 5, 6, 7, 8, 9, 10}\n"
     ]
    }
   ],
   "source": [
    "# union() method returns a set that contains all items from both sets, duplicates are excluded\n",
    "evens = {2,4,6,8,10}\n",
    "odds = {1,3,5,7,9,10}\n",
    "print(evens.union(odds))"
   ]
  },
  {
   "cell_type": "code",
   "execution_count": 22,
   "id": "4feb56f3",
   "metadata": {},
   "outputs": [
    {
     "name": "stdout",
     "output_type": "stream",
     "text": [
      "{'Francia', 'México', 'España'}\n"
     ]
    }
   ],
   "source": [
    "# Intersection of sets with & operator\n",
    "countries_0 = {'Mexico', 'Spain','USA','England','France','Norway','Italy'}\n",
    "countries_1 = {'Argentina','France','Colombia','Brazil','Spain', 'Mexico','Jamaica'}\n",
    "print(countries_0 & countries_1)"
   ]
  },
  {
   "cell_type": "code",
   "execution_count": 38,
   "id": "e04cb233",
   "metadata": {},
   "outputs": [
    {
     "name": "stdout",
     "output_type": "stream",
     "text": [
      "{'France', 'Spain', 'Mexico'}\n"
     ]
    }
   ],
   "source": [
    "# Intersection of sets with intersection() function\n",
    "countries_0 = {'Mexico', 'Spain','USA','England','France','Norway','Italy'}\n",
    "countries_1 = {'Argentina','France','Colombia','Brazil','Spain', 'Mexico','Jamaica'}\n",
    "print(countries_0.intersection(countries_1))"
   ]
  },
  {
   "cell_type": "code",
   "execution_count": 41,
   "id": "e479f3d9",
   "metadata": {
    "scrolled": true
   },
   "outputs": [
    {
     "name": "stdout",
     "output_type": "stream",
     "text": [
      "{'USA', 'England', 'Italy', 'Norway'}\n"
     ]
    }
   ],
   "source": [
    "# Difference\n",
    "countries_0 = {'Mexico', 'Spain','USA','England','France','Norway','Italy'}\n",
    "countries_1 = {'Argentina','France','Colombia','Brazil','Spain', 'Mexico','Jamaica'}\n",
    "print(countries_0 - countries_1)"
   ]
  },
  {
   "cell_type": "code",
   "execution_count": 42,
   "id": "8906e2be",
   "metadata": {},
   "outputs": [
    {
     "name": "stdout",
     "output_type": "stream",
     "text": [
      "{'USA', 'England', 'Italy', 'Norway'}\n"
     ]
    }
   ],
   "source": [
    "# difference() method\n",
    "countries_0 = {'Mexico', 'Spain','USA','England','France','Norway','Italy'}\n",
    "countries_1 = {'Argentina','France','Colombia','Brazil','Spain', 'Mexico','Jamaica'}\n",
    "print(countries_0.difference(countries_1))"
   ]
  },
  {
   "cell_type": "markdown",
   "id": "ff81c005",
   "metadata": {},
   "source": [
    "### Methods"
   ]
  },
  {
   "cell_type": "code",
   "execution_count": 43,
   "id": "cd54f977",
   "metadata": {},
   "outputs": [
    {
     "name": "stdout",
     "output_type": "stream",
     "text": [
      "{0, 1, 2, 3, 4, 5, 6, 7, 8, 9, 10}\n"
     ]
    },
    {
     "data": {
      "text/plain": [
       "11"
      ]
     },
     "execution_count": 43,
     "metadata": {},
     "output_type": "execute_result"
    }
   ],
   "source": [
    "# len() - returns the number of elements on a set \n",
    "con = set(range(11))\n",
    "print(con)\n",
    "len(con)"
   ]
  },
  {
   "cell_type": "code",
   "execution_count": 44,
   "id": "c3296e65",
   "metadata": {
    "scrolled": true
   },
   "outputs": [
    {
     "name": "stdout",
     "output_type": "stream",
     "text": [
      "{0, 1, 2, 3, 4, 5, 6, 7, 8, 9}\n",
      "{0, 1, 2, 3, 4, 5, 6, 7, 8, 9, 10}\n"
     ]
    }
   ],
   "source": [
    "# add() - adds a value to the set\n",
    "s_6 = set(range(10))\n",
    "print(s_6)\n",
    "s_6.add(10)\n",
    "print(s_6)"
   ]
  },
  {
   "cell_type": "code",
   "execution_count": 69,
   "id": "5743649e",
   "metadata": {},
   "outputs": [
    {
     "name": "stdout",
     "output_type": "stream",
     "text": [
      "{0, 1, 2, 3, 4, 5, 6, 7, 8, 9}\n"
     ]
    },
    {
     "ename": "KeyError",
     "evalue": "10",
     "output_type": "error",
     "traceback": [
      "\u001b[1;31m---------------------------------------------------------------------------\u001b[0m",
      "\u001b[1;31mKeyError\u001b[0m                                  Traceback (most recent call last)",
      "Cell \u001b[1;32mIn[69], line 3\u001b[0m\n\u001b[0;32m      1\u001b[0m \u001b[38;5;66;03m# remove() - deletes an element from the set, if element is not found returns a KeyError\u001b[39;00m\n\u001b[0;32m      2\u001b[0m \u001b[38;5;28mprint\u001b[39m(s_6)\n\u001b[1;32m----> 3\u001b[0m \u001b[43ms_6\u001b[49m\u001b[38;5;241;43m.\u001b[39;49m\u001b[43mremove\u001b[49m\u001b[43m(\u001b[49m\u001b[38;5;241;43m10\u001b[39;49m\u001b[43m)\u001b[49m\n\u001b[0;32m      4\u001b[0m \u001b[38;5;28mprint\u001b[39m(s_6)\n\u001b[0;32m      5\u001b[0m s_6\u001b[38;5;241m.\u001b[39mremove(\u001b[38;5;241m10\u001b[39m)\n",
      "\u001b[1;31mKeyError\u001b[0m: 10"
     ]
    }
   ],
   "source": [
    "# remove() - deletes an element from the set, if element is not found returns a KeyError\n",
    "print(s_6)\n",
    "s_6.remove(10)\n",
    "print(s_6)\n",
    "s_6.remove(10)"
   ]
  },
  {
   "cell_type": "code",
   "execution_count": 71,
   "id": "0f101be4",
   "metadata": {},
   "outputs": [
    {
     "name": "stdout",
     "output_type": "stream",
     "text": [
      "{0, 1, 2, 3}\n"
     ]
    }
   ],
   "source": [
    "# # discard() - deletes an element from the set, if element is not found does not returns an error\n",
    "s_7 = set(range(5))\n",
    "s_7.discard(4)\n",
    "print(s_7)\n",
    "s_7.discard(5)"
   ]
  },
  {
   "cell_type": "code",
   "execution_count": 78,
   "id": "64caf90a",
   "metadata": {
    "scrolled": true
   },
   "outputs": [
    {
     "name": "stdout",
     "output_type": "stream",
     "text": [
      "Italy\n"
     ]
    }
   ],
   "source": [
    "# pop() - deletes an element and save it\n",
    "p_1 = {'Mexico','England','Jamaica','Norway','Italy','Spain'}\n",
    "print(p_1.pop())"
   ]
  },
  {
   "cell_type": "code",
   "execution_count": 80,
   "id": "98222777",
   "metadata": {},
   "outputs": [
    {
     "name": "stdout",
     "output_type": "stream",
     "text": [
      "Help on method_descriptor:\n",
      "\n",
      "pop(...)\n",
      "    Remove and return an arbitrary set element.\n",
      "    Raises KeyError if the set is empty.\n",
      "\n"
     ]
    }
   ],
   "source": [
    "# brief description of the object\n",
    "help(set.pop)"
   ]
  },
  {
   "cell_type": "code",
   "execution_count": 5,
   "id": "09894bc2",
   "metadata": {},
   "outputs": [
    {
     "name": "stdout",
     "output_type": "stream",
     "text": [
      "set()\n"
     ]
    }
   ],
   "source": [
    "# Método clear(), elimina todos los elementos de un conjunto \n",
    "paises_0 = {'México','USA','Inglaterra','Francia','Noruega','Italia'}\n",
    "paises_0.clear()\n",
    "print(paises_0)"
   ]
  },
  {
   "cell_type": "code",
   "execution_count": 81,
   "id": "ab908eec",
   "metadata": {
    "scrolled": true
   },
   "outputs": [
    {
     "data": {
      "text/plain": [
       "['__and__',\n",
       " '__class__',\n",
       " '__class_getitem__',\n",
       " '__contains__',\n",
       " '__delattr__',\n",
       " '__dir__',\n",
       " '__doc__',\n",
       " '__eq__',\n",
       " '__format__',\n",
       " '__ge__',\n",
       " '__getattribute__',\n",
       " '__getstate__',\n",
       " '__gt__',\n",
       " '__hash__',\n",
       " '__iand__',\n",
       " '__init__',\n",
       " '__init_subclass__',\n",
       " '__ior__',\n",
       " '__isub__',\n",
       " '__iter__',\n",
       " '__ixor__',\n",
       " '__le__',\n",
       " '__len__',\n",
       " '__lt__',\n",
       " '__ne__',\n",
       " '__new__',\n",
       " '__or__',\n",
       " '__rand__',\n",
       " '__reduce__',\n",
       " '__reduce_ex__',\n",
       " '__repr__',\n",
       " '__ror__',\n",
       " '__rsub__',\n",
       " '__rxor__',\n",
       " '__setattr__',\n",
       " '__sizeof__',\n",
       " '__str__',\n",
       " '__sub__',\n",
       " '__subclasshook__',\n",
       " '__xor__',\n",
       " 'add',\n",
       " 'clear',\n",
       " 'copy',\n",
       " 'difference',\n",
       " 'difference_update',\n",
       " 'discard',\n",
       " 'intersection',\n",
       " 'intersection_update',\n",
       " 'isdisjoint',\n",
       " 'issubset',\n",
       " 'issuperset',\n",
       " 'pop',\n",
       " 'remove',\n",
       " 'symmetric_difference',\n",
       " 'symmetric_difference_update',\n",
       " 'union',\n",
       " 'update']"
      ]
     },
     "execution_count": 81,
     "metadata": {},
     "output_type": "execute_result"
    }
   ],
   "source": [
    "# dir() returns set methods (dunder and non dunder methods)\n",
    "dir(set)"
   ]
  },
  {
   "cell_type": "code",
   "execution_count": 74,
   "id": "b81e9834",
   "metadata": {},
   "outputs": [
    {
     "name": "stdout",
     "output_type": "stream",
     "text": [
      "['add', 'clear', 'copy', 'difference', 'difference_update', 'discard', 'intersection', 'intersection_update', 'isdisjoint', 'issubset', 'issuperset', 'pop', 'remove', 'symmetric_difference', 'symmetric_difference_update', 'union', 'update']\n"
     ]
    }
   ],
   "source": [
    "# Available methods for sets\n",
    "methods = [method for method in dir(set) if not method.startswith('__')]\n",
    "print(methods)"
   ]
  },
  {
   "cell_type": "code",
   "execution_count": 73,
   "id": "8274d6f3",
   "metadata": {
    "scrolled": false
   },
   "outputs": [
    {
     "name": "stdout",
     "output_type": "stream",
     "text": [
      "Help on class set in module builtins:\n",
      "\n",
      "class set(object)\n",
      " |  set() -> new empty set object\n",
      " |  set(iterable) -> new set object\n",
      " |  \n",
      " |  Build an unordered collection of unique elements.\n",
      " |  \n",
      " |  Methods defined here:\n",
      " |  \n",
      " |  __and__(self, value, /)\n",
      " |      Return self&value.\n",
      " |  \n",
      " |  __contains__(...)\n",
      " |      x.__contains__(y) <==> y in x.\n",
      " |  \n",
      " |  __eq__(self, value, /)\n",
      " |      Return self==value.\n",
      " |  \n",
      " |  __ge__(self, value, /)\n",
      " |      Return self>=value.\n",
      " |  \n",
      " |  __getattribute__(self, name, /)\n",
      " |      Return getattr(self, name).\n",
      " |  \n",
      " |  __gt__(self, value, /)\n",
      " |      Return self>value.\n",
      " |  \n",
      " |  __iand__(self, value, /)\n",
      " |      Return self&=value.\n",
      " |  \n",
      " |  __init__(self, /, *args, **kwargs)\n",
      " |      Initialize self.  See help(type(self)) for accurate signature.\n",
      " |  \n",
      " |  __ior__(self, value, /)\n",
      " |      Return self|=value.\n",
      " |  \n",
      " |  __isub__(self, value, /)\n",
      " |      Return self-=value.\n",
      " |  \n",
      " |  __iter__(self, /)\n",
      " |      Implement iter(self).\n",
      " |  \n",
      " |  __ixor__(self, value, /)\n",
      " |      Return self^=value.\n",
      " |  \n",
      " |  __le__(self, value, /)\n",
      " |      Return self<=value.\n",
      " |  \n",
      " |  __len__(self, /)\n",
      " |      Return len(self).\n",
      " |  \n",
      " |  __lt__(self, value, /)\n",
      " |      Return self<value.\n",
      " |  \n",
      " |  __ne__(self, value, /)\n",
      " |      Return self!=value.\n",
      " |  \n",
      " |  __or__(self, value, /)\n",
      " |      Return self|value.\n",
      " |  \n",
      " |  __rand__(self, value, /)\n",
      " |      Return value&self.\n",
      " |  \n",
      " |  __reduce__(...)\n",
      " |      Return state information for pickling.\n",
      " |  \n",
      " |  __repr__(self, /)\n",
      " |      Return repr(self).\n",
      " |  \n",
      " |  __ror__(self, value, /)\n",
      " |      Return value|self.\n",
      " |  \n",
      " |  __rsub__(self, value, /)\n",
      " |      Return value-self.\n",
      " |  \n",
      " |  __rxor__(self, value, /)\n",
      " |      Return value^self.\n",
      " |  \n",
      " |  __sizeof__(...)\n",
      " |      S.__sizeof__() -> size of S in memory, in bytes\n",
      " |  \n",
      " |  __sub__(self, value, /)\n",
      " |      Return self-value.\n",
      " |  \n",
      " |  __xor__(self, value, /)\n",
      " |      Return self^value.\n",
      " |  \n",
      " |  add(...)\n",
      " |      Add an element to a set.\n",
      " |      \n",
      " |      This has no effect if the element is already present.\n",
      " |  \n",
      " |  clear(...)\n",
      " |      Remove all elements from this set.\n",
      " |  \n",
      " |  copy(...)\n",
      " |      Return a shallow copy of a set.\n",
      " |  \n",
      " |  difference(...)\n",
      " |      Return the difference of two or more sets as a new set.\n",
      " |      \n",
      " |      (i.e. all elements that are in this set but not the others.)\n",
      " |  \n",
      " |  difference_update(...)\n",
      " |      Remove all elements of another set from this set.\n",
      " |  \n",
      " |  discard(...)\n",
      " |      Remove an element from a set if it is a member.\n",
      " |      \n",
      " |      Unlike set.remove(), the discard() method does not raise\n",
      " |      an exception when an element is missing from the set.\n",
      " |  \n",
      " |  intersection(...)\n",
      " |      Return the intersection of two sets as a new set.\n",
      " |      \n",
      " |      (i.e. all elements that are in both sets.)\n",
      " |  \n",
      " |  intersection_update(...)\n",
      " |      Update a set with the intersection of itself and another.\n",
      " |  \n",
      " |  isdisjoint(...)\n",
      " |      Return True if two sets have a null intersection.\n",
      " |  \n",
      " |  issubset(...)\n",
      " |      Report whether another set contains this set.\n",
      " |  \n",
      " |  issuperset(...)\n",
      " |      Report whether this set contains another set.\n",
      " |  \n",
      " |  pop(...)\n",
      " |      Remove and return an arbitrary set element.\n",
      " |      Raises KeyError if the set is empty.\n",
      " |  \n",
      " |  remove(...)\n",
      " |      Remove an element from a set; it must be a member.\n",
      " |      \n",
      " |      If the element is not a member, raise a KeyError.\n",
      " |  \n",
      " |  symmetric_difference(...)\n",
      " |      Return the symmetric difference of two sets as a new set.\n",
      " |      \n",
      " |      (i.e. all elements that are in exactly one of the sets.)\n",
      " |  \n",
      " |  symmetric_difference_update(...)\n",
      " |      Update a set with the symmetric difference of itself and another.\n",
      " |  \n",
      " |  union(...)\n",
      " |      Return the union of sets as a new set.\n",
      " |      \n",
      " |      (i.e. all elements that are in either set.)\n",
      " |  \n",
      " |  update(...)\n",
      " |      Update a set with the union of itself and others.\n",
      " |  \n",
      " |  ----------------------------------------------------------------------\n",
      " |  Class methods defined here:\n",
      " |  \n",
      " |  __class_getitem__(...) from builtins.type\n",
      " |      See PEP 585\n",
      " |  \n",
      " |  ----------------------------------------------------------------------\n",
      " |  Static methods defined here:\n",
      " |  \n",
      " |  __new__(*args, **kwargs) from builtins.type\n",
      " |      Create and return a new object.  See help(type) for accurate signature.\n",
      " |  \n",
      " |  ----------------------------------------------------------------------\n",
      " |  Data and other attributes defined here:\n",
      " |  \n",
      " |  __hash__ = None\n",
      "\n"
     ]
    }
   ],
   "source": [
    "# Returns a brief description of the objet (in this case a set)\n",
    "help(set)"
   ]
  },
  {
   "cell_type": "code",
   "execution_count": 10,
   "id": "fab75a07",
   "metadata": {
    "scrolled": false
   },
   "outputs": [
    {
     "name": "stdout",
     "output_type": "stream",
     "text": [
      "Help on method_descriptor:\n",
      "\n",
      "remove(...)\n",
      "    Remove an element from a set; it must be a member.\n",
      "    \n",
      "    If the element is not a member, raise a KeyError.\n",
      "\n"
     ]
    }
   ],
   "source": [
    "# help() - returns a brief description od the object\n",
    "help(set.remove)"
   ]
  },
  {
   "cell_type": "markdown",
   "id": "141b12e8",
   "metadata": {},
   "source": [
    "## Diccionaries\n",
    "#### - Data structured used to store key-value pairs. "
   ]
  },
  {
   "cell_type": "code",
   "execution_count": 72,
   "id": "c9123dda",
   "metadata": {},
   "outputs": [
    {
     "name": "stdout",
     "output_type": "stream",
     "text": [
      "{1: 2, 2: 4, 4: 6}\n",
      "<class 'dict'>\n"
     ]
    }
   ],
   "source": [
    "# Declaring a dictionary\n",
    "D = {1:2,2:4,4:6}\n",
    "print(D)\n",
    "print(type(D))"
   ]
  },
  {
   "cell_type": "code",
   "execution_count": 82,
   "id": "0e1f181f",
   "metadata": {},
   "outputs": [
    {
     "name": "stdout",
     "output_type": "stream",
     "text": [
      "{1: 2, 2: 4, 4: 6}\n",
      "<class 'dict'>\n"
     ]
    }
   ],
   "source": [
    "# Declaring a dictionary using dict() constructor and a list of tuples\n",
    "d = dict([(1,2),(2,4),(4,6)])\n",
    "print(d)\n",
    "print(type(d))"
   ]
  },
  {
   "cell_type": "code",
   "execution_count": 13,
   "id": "de1a7cab",
   "metadata": {},
   "outputs": [
    {
     "name": "stdout",
     "output_type": "stream",
     "text": [
      "<class 'dict'>\n"
     ]
    }
   ],
   "source": [
    "des = {}\n",
    "print(type(des))"
   ]
  },
  {
   "cell_type": "code",
   "execution_count": 25,
   "id": "5d9dfe01",
   "metadata": {},
   "outputs": [
    {
     "name": "stdout",
     "output_type": "stream",
     "text": [
      "{1: 2, 2: 4, 4: 6}\n",
      "<class 'dict'>\n"
     ]
    }
   ],
   "source": [
    "# Declaring a dictionary\n",
    "Di = {}\n",
    "Di[1] = 2\n",
    "Di[2] = 4\n",
    "Di[4] = 6\n",
    "print(Di)\n",
    "print(type(Di))"
   ]
  },
  {
   "cell_type": "code",
   "execution_count": 84,
   "id": "85ba8089",
   "metadata": {
    "scrolled": true
   },
   "outputs": [
    {
     "name": "stdout",
     "output_type": "stream",
     "text": [
      "{'Name': 'Alfredo', 'last_name': 'Hernandez', 'age': 25, 'career': 'Doctor'}\n"
     ]
    }
   ],
   "source": [
    "# Dictionaries are mutable objects\n",
    "D_0 = {'Name':'Alfredo', 'last_name':'Hernandez', 'age': 25, 'career':'lawyer'}\n",
    "D_0['career'] = 'Doctor'\n",
    "print(D_0)"
   ]
  },
  {
   "cell_type": "code",
   "execution_count": 96,
   "id": "795a7adb",
   "metadata": {},
   "outputs": [
    {
     "name": "stdout",
     "output_type": "stream",
     "text": [
      "{'Name': 'Alfredo', 'last_name': 'Hernandez', 'age': 25, 'career': 'lawyer', 'Hobby': 'Running'}\n"
     ]
    }
   ],
   "source": [
    "# update() - adds elements to the dictionary\n",
    "D_0 = {'Name':'Alfredo', 'last_name':'Hernandez', 'age': 25, 'career':'lawyer'}\n",
    "D_0.update({'Hobby':'Running'})\n",
    "print(D_0)"
   ]
  },
  {
   "cell_type": "code",
   "execution_count": 98,
   "id": "cd2989b7",
   "metadata": {
    "scrolled": true
   },
   "outputs": [
    {
     "name": "stdout",
     "output_type": "stream",
     "text": [
      "True\n"
     ]
    }
   ],
   "source": [
    "# Membershib test\n",
    "print('Name' in D_0)"
   ]
  },
  {
   "cell_type": "code",
   "execution_count": 99,
   "id": "a17196fd",
   "metadata": {},
   "outputs": [
    {
     "name": "stdout",
     "output_type": "stream",
     "text": [
      "25\n"
     ]
    }
   ],
   "source": [
    "# Indexing : Getting a value\n",
    "D_0 = {'Name':'Alfredo', 'last_name':'Hernandez', 'age': 25, 'career':'lawyer'}\n",
    "print(D_0['age'])"
   ]
  },
  {
   "cell_type": "code",
   "execution_count": 100,
   "id": "d8a2545b",
   "metadata": {
    "scrolled": true
   },
   "outputs": [
    {
     "ename": "KeyError",
     "evalue": "'Hobby'",
     "output_type": "error",
     "traceback": [
      "\u001b[1;31m---------------------------------------------------------------------------\u001b[0m",
      "\u001b[1;31mKeyError\u001b[0m                                  Traceback (most recent call last)",
      "Cell \u001b[1;32mIn[100], line 3\u001b[0m\n\u001b[0;32m      1\u001b[0m \u001b[38;5;66;03m# Indexing\u001b[39;00m\n\u001b[0;32m      2\u001b[0m D_0 \u001b[38;5;241m=\u001b[39m {\u001b[38;5;124m'\u001b[39m\u001b[38;5;124mName\u001b[39m\u001b[38;5;124m'\u001b[39m:\u001b[38;5;124m'\u001b[39m\u001b[38;5;124mAlfredo\u001b[39m\u001b[38;5;124m'\u001b[39m, \u001b[38;5;124m'\u001b[39m\u001b[38;5;124mlast_name\u001b[39m\u001b[38;5;124m'\u001b[39m:\u001b[38;5;124m'\u001b[39m\u001b[38;5;124mHernandez\u001b[39m\u001b[38;5;124m'\u001b[39m, \u001b[38;5;124m'\u001b[39m\u001b[38;5;124mage\u001b[39m\u001b[38;5;124m'\u001b[39m: \u001b[38;5;241m25\u001b[39m, \u001b[38;5;124m'\u001b[39m\u001b[38;5;124mcareer\u001b[39m\u001b[38;5;124m'\u001b[39m:\u001b[38;5;124m'\u001b[39m\u001b[38;5;124mlawyer\u001b[39m\u001b[38;5;124m'\u001b[39m}\n\u001b[1;32m----> 3\u001b[0m \u001b[38;5;28mprint\u001b[39m(\u001b[43mD_0\u001b[49m\u001b[43m[\u001b[49m\u001b[38;5;124;43m'\u001b[39;49m\u001b[38;5;124;43mHobby\u001b[39;49m\u001b[38;5;124;43m'\u001b[39;49m\u001b[43m]\u001b[49m)\n",
      "\u001b[1;31mKeyError\u001b[0m: 'Hobby'"
     ]
    }
   ],
   "source": [
    "# Indexing\n",
    "D_0 = {'Name':'Alfredo', 'last_name':'Hernandez', 'age': 25, 'career':'lawyer'}\n",
    "print(D_0['Hobby'])"
   ]
  },
  {
   "cell_type": "code",
   "execution_count": 102,
   "id": "21d50fd2",
   "metadata": {},
   "outputs": [
    {
     "name": "stdout",
     "output_type": "stream",
     "text": [
      "The key is not in the dictionary.\n"
     ]
    }
   ],
   "source": [
    "# Indexing & get() method\n",
    "D_0 = {'Name':'Alfredo', 'last_name':'Hernandez', 'age': 25, 'career':'lawyer'}\n",
    "print(D_0.get('Hobby','The key is not in the dictionary.'))"
   ]
  },
  {
   "cell_type": "code",
   "execution_count": 103,
   "id": "da477931",
   "metadata": {},
   "outputs": [
    {
     "name": "stdout",
     "output_type": "stream",
     "text": [
      "dict_keys(['Name', 'last_name', 'age', 'career'])\n",
      "['Name', 'last_name', 'age', 'career']\n"
     ]
    }
   ],
   "source": [
    "# Getting the keys\n",
    "D_0 = {'Name':'Alfredo', 'last_name':'Hernandez', 'age': 25, 'career':'lawyer'}\n",
    "print(D_0.keys())\n",
    "print(list(D_0.keys()))"
   ]
  },
  {
   "cell_type": "code",
   "execution_count": 104,
   "id": "8b20425b",
   "metadata": {},
   "outputs": [
    {
     "name": "stdout",
     "output_type": "stream",
     "text": [
      "dict_values(['Alfredo', 'Hernandez', 25, 'lawyer'])\n",
      "['Alfredo', 'Hernandez', 25, 'lawyer']\n"
     ]
    }
   ],
   "source": [
    "# Getting the values\n",
    "D_0 = {'Name':'Alfredo', 'last_name':'Hernandez', 'age': 25, 'career':'lawyer'}\n",
    "print(D_0.values())\n",
    "print(list(D_0.values()))"
   ]
  },
  {
   "cell_type": "code",
   "execution_count": 105,
   "id": "5b692118",
   "metadata": {},
   "outputs": [
    {
     "name": "stdout",
     "output_type": "stream",
     "text": [
      "dict_items([('Name', 'Alfredo'), ('last_name', 'Hernandez'), ('age', 25), ('career', 'lawyer')])\n",
      "[('Name', 'Alfredo'), ('last_name', 'Hernandez'), ('age', 25), ('career', 'lawyer')]\n"
     ]
    }
   ],
   "source": [
    "# Getting the elements (items)\n",
    "D_0 = {'Name':'Alfredo', 'last_name':'Hernandez', 'age': 25, 'career':'lawyer'}\n",
    "print(D_0.items())\n",
    "print(list(D_0.items()))"
   ]
  },
  {
   "cell_type": "markdown",
   "id": "0ffd8cf0",
   "metadata": {},
   "source": [
    "## Methods"
   ]
  },
  {
   "cell_type": "code",
   "execution_count": 94,
   "id": "febbf02a",
   "metadata": {},
   "outputs": [
    {
     "name": "stdout",
     "output_type": "stream",
     "text": [
      "4\n"
     ]
    }
   ],
   "source": [
    "# len() returns the number of elements\n",
    "D_0 = {'Name':'Alfredo', 'last_name':'Hernandez', 'age': 25, 'career':'lawyer'}\n",
    "print(len(D_0))"
   ]
  },
  {
   "cell_type": "code",
   "execution_count": 93,
   "id": "70a0423b",
   "metadata": {},
   "outputs": [
    {
     "name": "stdout",
     "output_type": "stream",
     "text": [
      "Alfredo\n",
      "{'last_name': 'Hernandez', 'age': 25, 'career': 'lawyer'}\n"
     ]
    }
   ],
   "source": [
    "# pop() deletes an element and save it\n",
    "D_0 = {'Name':'Alfredo', 'last_name':'Hernandez', 'age': 25, 'career':'lawyer'}\n",
    "print(D_0.pop('Name'))\n",
    "print(D_0)"
   ]
  },
  {
   "cell_type": "code",
   "execution_count": 91,
   "id": "9d08f469",
   "metadata": {},
   "outputs": [
    {
     "name": "stdout",
     "output_type": "stream",
     "text": [
      "('career', 'lawyer')\n",
      "{'Name': 'Alfredo', 'last_name': 'Hernandez', 'age': 25}\n"
     ]
    }
   ],
   "source": [
    "# popitem() deletes the last element\n",
    "D_0 = {'Name':'Alfredo', 'last_name':'Hernandez', 'age': 25, 'career':'lawyer'}\n",
    "print(D_0.popitem())\n",
    "print(D_0)"
   ]
  },
  {
   "cell_type": "code",
   "execution_count": 92,
   "id": "25622099",
   "metadata": {},
   "outputs": [
    {
     "name": "stdout",
     "output_type": "stream",
     "text": [
      "{}\n"
     ]
    }
   ],
   "source": [
    "# clear() - removes all the elements\n",
    "D_0 = {'Name':'Alfredo', 'last_name':'Hernandez', 'age': 25, 'career':'lawyer'}\n",
    "D_0.clear()\n",
    "print(D_0)"
   ]
  },
  {
   "cell_type": "code",
   "execution_count": 37,
   "id": "c09833e9",
   "metadata": {},
   "outputs": [
    {
     "name": "stdout",
     "output_type": "stream",
     "text": [
      "{'Name': 'Alfredo', 'last_name': 'Hernandez', 'age': 25, 'career': 'lawyer'}\n",
      "{'Name': 'Alfredo', 'last_name': 'Hernandez', 'age': 25, 'career': 'lawyer'}\n"
     ]
    }
   ],
   "source": [
    "# Creating a dictionary copy\n",
    "D_0 = {'Name':'Alfredo', 'last_name':'Hernandez', 'age': 25, 'career':'lawyer'}\n",
    "D_1 = D_0.copy()\n",
    "print(D_0)\n",
    "print(D_1)"
   ]
  },
  {
   "cell_type": "code",
   "execution_count": 35,
   "id": "6d811b8b",
   "metadata": {},
   "outputs": [
    {
     "name": "stdout",
     "output_type": "stream",
     "text": [
      "Name\n",
      "last_name\n",
      "age\n",
      "career\n"
     ]
    }
   ],
   "source": [
    "# Iterations through dictionary keys\n",
    "D_0 = {'Name':'Alfredo', 'last_name':'Hernandez', 'age': 25, 'career':'lawyer'}\n",
    "for k in D_0.keys():\n",
    "    print(k)"
   ]
  },
  {
   "cell_type": "code",
   "execution_count": 36,
   "id": "8d2790eb",
   "metadata": {},
   "outputs": [
    {
     "name": "stdout",
     "output_type": "stream",
     "text": [
      "Alfredo\n",
      "Hernandez\n",
      "25\n",
      "lawyer\n"
     ]
    }
   ],
   "source": [
    "# Iterations through dictionary values\n",
    "D_0 = {'Name':'Alfredo', 'last_name':'Hernandez', 'age': 25, 'career':'lawyer'}\n",
    "for valor in D_0.values():\n",
    "    print(valor)"
   ]
  },
  {
   "cell_type": "code",
   "execution_count": 28,
   "id": "7941946b",
   "metadata": {},
   "outputs": [
    {
     "name": "stdout",
     "output_type": "stream",
     "text": [
      "Name : Alfredo\n",
      "last_name : Hernandez\n",
      "age : 25\n",
      "career : lawyer\n"
     ]
    }
   ],
   "source": [
    "# Iterations through a dictionary keys and values\n",
    "D_0 = {'Name':'Alfredo', 'last_name':'Hernandez', 'age': 25, 'career':'lawyer'}\n",
    "for k, v in D_0.items():\n",
    "    print(k,':',v)"
   ]
  },
  {
   "cell_type": "code",
   "execution_count": 31,
   "id": "929c8bf8",
   "metadata": {},
   "outputs": [
    {
     "name": "stdout",
     "output_type": "stream",
     "text": [
      "['clear', 'copy', 'fromkeys', 'get', 'items', 'keys', 'pop', 'popitem', 'setdefault', 'update', 'values']\n"
     ]
    }
   ],
   "source": [
    "dic_methods = [method for method in dir(dict) if not method.startswith('__')]\n",
    "print(dic_methods)"
   ]
  }
 ],
 "metadata": {
  "kernelspec": {
   "display_name": "Python 3 (ipykernel)",
   "language": "python",
   "name": "python3"
  },
  "language_info": {
   "codemirror_mode": {
    "name": "ipython",
    "version": 3
   },
   "file_extension": ".py",
   "mimetype": "text/x-python",
   "name": "python",
   "nbconvert_exporter": "python",
   "pygments_lexer": "ipython3",
   "version": "3.11.5"
  }
 },
 "nbformat": 4,
 "nbformat_minor": 5
}
