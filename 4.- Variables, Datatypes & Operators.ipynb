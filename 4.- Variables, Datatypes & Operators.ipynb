{
 "cells": [
  {
   "cell_type": "markdown",
   "id": "f44d55c7",
   "metadata": {},
   "source": [
    "# Variables and Datatypes:"
   ]
  },
  {
   "cell_type": "code",
   "execution_count": 1,
   "id": "c3cdc77f",
   "metadata": {},
   "outputs": [
    {
     "name": "stdout",
     "output_type": "stream",
     "text": [
      "Hello World\n"
     ]
    }
   ],
   "source": [
    "variable = 'Hello World' # string with simple quotation marks\n",
    "print(variable)"
   ]
  },
  {
   "cell_type": "code",
   "execution_count": 2,
   "id": "e91414e1",
   "metadata": {},
   "outputs": [
    {
     "name": "stdout",
     "output_type": "stream",
     "text": [
      "Hello World\n"
     ]
    }
   ],
   "source": [
    "message = \"Hello World\"   # string with double quotation marks\n",
    "print(message)"
   ]
  },
  {
   "cell_type": "code",
   "execution_count": 3,
   "id": "c1fb4a69",
   "metadata": {},
   "outputs": [
    {
     "name": "stdout",
     "output_type": "stream",
     "text": [
      "Peter's Book\n"
     ]
    }
   ],
   "source": [
    "msg = \"Peter's Book\"     # string with simple and double quotation marks\n",
    "print(msg)"
   ]
  },
  {
   "cell_type": "code",
   "execution_count": 4,
   "id": "47a88e26",
   "metadata": {},
   "outputs": [
    {
     "name": "stdout",
     "output_type": "stream",
     "text": [
      "Peter\"s Book\n"
     ]
    }
   ],
   "source": [
    "msg_0 = 'Peter\"s Book'     # Inverting the simple and double quoatation marks\n",
    "print(msg_0)"
   ]
  },
  {
   "cell_type": "code",
   "execution_count": 5,
   "id": "51a5dac6",
   "metadata": {},
   "outputs": [
    {
     "name": "stdout",
     "output_type": "stream",
     "text": [
      "\"The Big Bang Theory\"\n"
     ]
    }
   ],
   "source": [
    "print('\"The Big Bang Theory\"')  # string including double quotation marks"
   ]
  },
  {
   "cell_type": "code",
   "execution_count": 6,
   "id": "5202c1ef",
   "metadata": {},
   "outputs": [
    {
     "data": {
      "text/plain": [
       "int"
      ]
     },
     "execution_count": 6,
     "metadata": {},
     "output_type": "execute_result"
    }
   ],
   "source": [
    "# type function to identify datatype\n",
    "type(5)"
   ]
  },
  {
   "cell_type": "code",
   "execution_count": 7,
   "id": "9b845a6b",
   "metadata": {},
   "outputs": [
    {
     "data": {
      "text/plain": [
       "float"
      ]
     },
     "execution_count": 7,
     "metadata": {},
     "output_type": "execute_result"
    }
   ],
   "source": [
    "type(10.82)"
   ]
  },
  {
   "cell_type": "code",
   "execution_count": 8,
   "id": "c7f884f1",
   "metadata": {},
   "outputs": [
    {
     "data": {
      "text/plain": [
       "complex"
      ]
     },
     "execution_count": 8,
     "metadata": {},
     "output_type": "execute_result"
    }
   ],
   "source": [
    "type(4 + 7j)"
   ]
  },
  {
   "cell_type": "code",
   "execution_count": 9,
   "id": "cc9900ef",
   "metadata": {},
   "outputs": [
    {
     "data": {
      "text/plain": [
       "str"
      ]
     },
     "execution_count": 9,
     "metadata": {},
     "output_type": "execute_result"
    }
   ],
   "source": [
    "type('this is a text')"
   ]
  },
  {
   "cell_type": "code",
   "execution_count": 10,
   "id": "f8837c2d",
   "metadata": {},
   "outputs": [
    {
     "data": {
      "text/plain": [
       "bool"
      ]
     },
     "execution_count": 10,
     "metadata": {},
     "output_type": "execute_result"
    }
   ],
   "source": [
    "type(True)"
   ]
  },
  {
   "cell_type": "code",
   "execution_count": 15,
   "id": "70db2cf5",
   "metadata": {},
   "outputs": [
    {
     "data": {
      "text/plain": [
       "bool"
      ]
     },
     "execution_count": 15,
     "metadata": {},
     "output_type": "execute_result"
    }
   ],
   "source": [
    "type(False)"
   ]
  },
  {
   "cell_type": "code",
   "execution_count": 11,
   "id": "2dec95bc",
   "metadata": {},
   "outputs": [
    {
     "data": {
      "text/plain": [
       "tuple"
      ]
     },
     "execution_count": 11,
     "metadata": {},
     "output_type": "execute_result"
    }
   ],
   "source": [
    "type((1,5,8,'Hello'))"
   ]
  },
  {
   "cell_type": "code",
   "execution_count": 12,
   "id": "6581739c",
   "metadata": {},
   "outputs": [
    {
     "data": {
      "text/plain": [
       "tuple"
      ]
     },
     "execution_count": 12,
     "metadata": {},
     "output_type": "execute_result"
    }
   ],
   "source": [
    "tupla = (1,5,8,'Hello')\n",
    "type(tupla)"
   ]
  },
  {
   "cell_type": "code",
   "execution_count": 13,
   "id": "bb1adb9f",
   "metadata": {},
   "outputs": [
    {
     "data": {
      "text/plain": [
       "list"
      ]
     },
     "execution_count": 13,
     "metadata": {},
     "output_type": "execute_result"
    }
   ],
   "source": [
    "List = [1,2,3,4,5,6]\n",
    "type(List)"
   ]
  },
  {
   "cell_type": "code",
   "execution_count": 23,
   "id": "ae7ca572",
   "metadata": {},
   "outputs": [
    {
     "data": {
      "text/plain": [
       "dict"
      ]
     },
     "execution_count": 23,
     "metadata": {},
     "output_type": "execute_result"
    }
   ],
   "source": [
    "D = {'Pedro':31, 'Maria':26, 'Gabriel':35}\n",
    "type(D)"
   ]
  },
  {
   "cell_type": "markdown",
   "id": "afffcad7",
   "metadata": {},
   "source": [
    "# Arithmetic operators"
   ]
  },
  {
   "cell_type": "code",
   "execution_count": 25,
   "id": "38f19574",
   "metadata": {},
   "outputs": [
    {
     "data": {
      "text/plain": [
       "12"
      ]
     },
     "execution_count": 25,
     "metadata": {},
     "output_type": "execute_result"
    }
   ],
   "source": [
    "7 + 5 # Addition (+)"
   ]
  },
  {
   "cell_type": "code",
   "execution_count": 26,
   "id": "31d0f55e",
   "metadata": {},
   "outputs": [
    {
     "data": {
      "text/plain": [
       "-5"
      ]
     },
     "execution_count": 26,
     "metadata": {},
     "output_type": "execute_result"
    }
   ],
   "source": [
    "10 - 15 # Subtraction (-)"
   ]
  },
  {
   "cell_type": "code",
   "execution_count": 27,
   "id": "4b92d8de",
   "metadata": {},
   "outputs": [
    {
     "data": {
      "text/plain": [
       "81"
      ]
     },
     "execution_count": 27,
     "metadata": {},
     "output_type": "execute_result"
    }
   ],
   "source": [
    "9*9  # Multiplication (*)"
   ]
  },
  {
   "cell_type": "code",
   "execution_count": 28,
   "id": "fd0f7b1e",
   "metadata": {},
   "outputs": [
    {
     "data": {
      "text/plain": [
       "16"
      ]
     },
     "execution_count": 28,
     "metadata": {},
     "output_type": "execute_result"
    }
   ],
   "source": [
    "2**4  # Power (**)"
   ]
  },
  {
   "cell_type": "code",
   "execution_count": 32,
   "id": "92200152",
   "metadata": {},
   "outputs": [
    {
     "data": {
      "text/plain": [
       "16"
      ]
     },
     "execution_count": 32,
     "metadata": {},
     "output_type": "execute_result"
    }
   ],
   "source": [
    "# Power function \n",
    "y = pow(2,4)\n",
    "y"
   ]
  },
  {
   "cell_type": "code",
   "execution_count": 33,
   "id": "f4cf13ea",
   "metadata": {},
   "outputs": [
    {
     "data": {
      "text/plain": [
       "3.3333333333333335"
      ]
     },
     "execution_count": 33,
     "metadata": {},
     "output_type": "execute_result"
    }
   ],
   "source": [
    "10/3  # DiVision (/)"
   ]
  },
  {
   "cell_type": "code",
   "execution_count": 35,
   "id": "fbe18263",
   "metadata": {},
   "outputs": [
    {
     "data": {
      "text/plain": [
       "3"
      ]
     },
     "execution_count": 35,
     "metadata": {},
     "output_type": "execute_result"
    }
   ],
   "source": [
    "10//3  # floor division (//)"
   ]
  },
  {
   "cell_type": "code",
   "execution_count": 37,
   "id": "3926a23c",
   "metadata": {},
   "outputs": [
    {
     "data": {
      "text/plain": [
       "3"
      ]
     },
     "execution_count": 37,
     "metadata": {},
     "output_type": "execute_result"
    }
   ],
   "source": [
    "15%4  # remainder (//)"
   ]
  },
  {
   "cell_type": "code",
   "execution_count": 38,
   "id": "bce8d57f",
   "metadata": {},
   "outputs": [
    {
     "data": {
      "text/plain": [
       "(3, 3)"
      ]
     },
     "execution_count": 38,
     "metadata": {},
     "output_type": "execute_result"
    }
   ],
   "source": [
    "# floor division and remainder\n",
    "divmod(15,4)"
   ]
  },
  {
   "cell_type": "code",
   "execution_count": 14,
   "id": "8b875ae2",
   "metadata": {},
   "outputs": [
    {
     "data": {
      "text/plain": [
       "9.0"
      ]
     },
     "execution_count": 14,
     "metadata": {},
     "output_type": "execute_result"
    }
   ],
   "source": [
    "# Order of operations = PEMDAS\n",
    "10-2**3/4+1"
   ]
  },
  {
   "cell_type": "code",
   "execution_count": 15,
   "id": "20c69f50",
   "metadata": {},
   "outputs": [
    {
     "data": {
      "text/plain": [
       "9.0"
      ]
     },
     "execution_count": 15,
     "metadata": {},
     "output_type": "execute_result"
    }
   ],
   "source": [
    "10-(2**3)/4+1"
   ]
  },
  {
   "cell_type": "code",
   "execution_count": 17,
   "id": "4cf02d4d",
   "metadata": {},
   "outputs": [
    {
     "data": {
      "text/plain": [
       "2.0"
      ]
     },
     "execution_count": 17,
     "metadata": {},
     "output_type": "execute_result"
    }
   ],
   "source": [
    "10-(8)/4+1\n",
    "8/4"
   ]
  },
  {
   "cell_type": "code",
   "execution_count": 19,
   "id": "b9646b9f",
   "metadata": {},
   "outputs": [
    {
     "data": {
      "text/plain": [
       "9.0"
      ]
     },
     "execution_count": 19,
     "metadata": {},
     "output_type": "execute_result"
    }
   ],
   "source": [
    "10-2.0+1"
   ]
  },
  {
   "cell_type": "markdown",
   "id": "235e00aa",
   "metadata": {},
   "source": [
    "# Comparison operators"
   ]
  },
  {
   "cell_type": "code",
   "execution_count": 20,
   "id": "1e9865da",
   "metadata": {},
   "outputs": [],
   "source": [
    "# <, >, <=, >=, !=, =="
   ]
  },
  {
   "cell_type": "code",
   "execution_count": 21,
   "id": "c04bf2b8",
   "metadata": {},
   "outputs": [
    {
     "data": {
      "text/plain": [
       "False"
      ]
     },
     "execution_count": 21,
     "metadata": {},
     "output_type": "execute_result"
    }
   ],
   "source": [
    "6 < 2"
   ]
  },
  {
   "cell_type": "code",
   "execution_count": 22,
   "id": "afd4369f",
   "metadata": {},
   "outputs": [
    {
     "data": {
      "text/plain": [
       "True"
      ]
     },
     "execution_count": 22,
     "metadata": {},
     "output_type": "execute_result"
    }
   ],
   "source": [
    "9 > 5"
   ]
  },
  {
   "cell_type": "code",
   "execution_count": 23,
   "id": "7fcf6728",
   "metadata": {},
   "outputs": [
    {
     "data": {
      "text/plain": [
       "False"
      ]
     },
     "execution_count": 23,
     "metadata": {},
     "output_type": "execute_result"
    }
   ],
   "source": [
    "7 <= 6"
   ]
  },
  {
   "cell_type": "code",
   "execution_count": 24,
   "id": "a118e7aa",
   "metadata": {},
   "outputs": [
    {
     "data": {
      "text/plain": [
       "True"
      ]
     },
     "execution_count": 24,
     "metadata": {},
     "output_type": "execute_result"
    }
   ],
   "source": [
    "15 >= 14"
   ]
  },
  {
   "cell_type": "code",
   "execution_count": 25,
   "id": "0bcbbdff",
   "metadata": {},
   "outputs": [
    {
     "data": {
      "text/plain": [
       "True"
      ]
     },
     "execution_count": 25,
     "metadata": {},
     "output_type": "execute_result"
    }
   ],
   "source": [
    "10 != 20"
   ]
  },
  {
   "cell_type": "code",
   "execution_count": 26,
   "id": "ff24aeb3",
   "metadata": {},
   "outputs": [
    {
     "data": {
      "text/plain": [
       "False"
      ]
     },
     "execution_count": 26,
     "metadata": {},
     "output_type": "execute_result"
    }
   ],
   "source": [
    "20 != 20"
   ]
  },
  {
   "cell_type": "code",
   "execution_count": 27,
   "id": "57f606ee",
   "metadata": {},
   "outputs": [
    {
     "data": {
      "text/plain": [
       "True"
      ]
     },
     "execution_count": 27,
     "metadata": {},
     "output_type": "execute_result"
    }
   ],
   "source": [
    "20 == 20"
   ]
  },
  {
   "cell_type": "code",
   "execution_count": 28,
   "id": "222268ef",
   "metadata": {},
   "outputs": [
    {
     "data": {
      "text/plain": [
       "8"
      ]
     },
     "execution_count": 28,
     "metadata": {},
     "output_type": "execute_result"
    }
   ],
   "source": [
    "a = 6\n",
    "a += 2  # the same as = a+2\n",
    "a"
   ]
  },
  {
   "cell_type": "code",
   "execution_count": 29,
   "id": "e3027688",
   "metadata": {},
   "outputs": [
    {
     "data": {
      "text/plain": [
       "4"
      ]
     },
     "execution_count": 29,
     "metadata": {},
     "output_type": "execute_result"
    }
   ],
   "source": [
    "a = 6\n",
    "a -= 2  # the same as = a-2\n",
    "a"
   ]
  },
  {
   "cell_type": "code",
   "execution_count": 30,
   "id": "9814fe21",
   "metadata": {},
   "outputs": [
    {
     "data": {
      "text/plain": [
       "12"
      ]
     },
     "execution_count": 30,
     "metadata": {},
     "output_type": "execute_result"
    }
   ],
   "source": [
    "a = 6\n",
    "a *= 2  # the same as = a*2\n",
    "a"
   ]
  },
  {
   "cell_type": "code",
   "execution_count": 31,
   "id": "6a2cd0ad",
   "metadata": {},
   "outputs": [
    {
     "data": {
      "text/plain": [
       "3.0"
      ]
     },
     "execution_count": 31,
     "metadata": {},
     "output_type": "execute_result"
    }
   ],
   "source": [
    "a = 6\n",
    "a /= 2  # the same as = a/2\n",
    "a"
   ]
  },
  {
   "cell_type": "code",
   "execution_count": 32,
   "id": "ae1a8db3",
   "metadata": {
    "scrolled": true
   },
   "outputs": [
    {
     "data": {
      "text/plain": [
       "1"
      ]
     },
     "execution_count": 32,
     "metadata": {},
     "output_type": "execute_result"
    }
   ],
   "source": [
    "a = 6\n",
    "a //= 4  # the same as = a//2\n",
    "a"
   ]
  },
  {
   "cell_type": "code",
   "execution_count": 33,
   "id": "7dd5ddc7",
   "metadata": {
    "scrolled": true
   },
   "outputs": [
    {
     "data": {
      "text/plain": [
       "2"
      ]
     },
     "execution_count": 33,
     "metadata": {},
     "output_type": "execute_result"
    }
   ],
   "source": [
    "a = 6\n",
    "a %= 4  # the same as = a**2\n",
    "a"
   ]
  },
  {
   "cell_type": "code",
   "execution_count": 34,
   "id": "bd3d1536",
   "metadata": {},
   "outputs": [
    {
     "data": {
      "text/plain": [
       "1296"
      ]
     },
     "execution_count": 34,
     "metadata": {},
     "output_type": "execute_result"
    }
   ],
   "source": [
    "a = 6\n",
    "a **= 4  # the same as = a**2\n",
    "a"
   ]
  },
  {
   "cell_type": "markdown",
   "id": "9723962a",
   "metadata": {},
   "source": [
    "# Logic operators"
   ]
  },
  {
   "cell_type": "code",
   "execution_count": null,
   "id": "60667efb",
   "metadata": {},
   "outputs": [],
   "source": [
    "# not, and, or"
   ]
  },
  {
   "cell_type": "code",
   "execution_count": 35,
   "id": "b479e83a",
   "metadata": {},
   "outputs": [
    {
     "data": {
      "text/plain": [
       "False"
      ]
     },
     "execution_count": 35,
     "metadata": {},
     "output_type": "execute_result"
    }
   ],
   "source": [
    "4 < 6 and 7 > 8"
   ]
  },
  {
   "cell_type": "code",
   "execution_count": 36,
   "id": "c83efebf",
   "metadata": {},
   "outputs": [
    {
     "data": {
      "text/plain": [
       "True"
      ]
     },
     "execution_count": 36,
     "metadata": {},
     "output_type": "execute_result"
    }
   ],
   "source": [
    "3 > 5 or 7 < 6 or 10 == 10"
   ]
  },
  {
   "cell_type": "code",
   "execution_count": 37,
   "id": "3fc3339f",
   "metadata": {},
   "outputs": [
    {
     "data": {
      "text/plain": [
       "False"
      ]
     },
     "execution_count": 37,
     "metadata": {},
     "output_type": "execute_result"
    }
   ],
   "source": [
    "not True"
   ]
  },
  {
   "cell_type": "code",
   "execution_count": 38,
   "id": "023426de",
   "metadata": {},
   "outputs": [
    {
     "data": {
      "text/plain": [
       "True"
      ]
     },
     "execution_count": 38,
     "metadata": {},
     "output_type": "execute_result"
    }
   ],
   "source": [
    "not False"
   ]
  },
  {
   "cell_type": "markdown",
   "id": "b8760d27",
   "metadata": {},
   "source": [
    "# General operations"
   ]
  },
  {
   "cell_type": "code",
   "execution_count": 40,
   "id": "ed3efec9",
   "metadata": {},
   "outputs": [
    {
     "data": {
      "text/plain": [
       "'Hello Pythonista'"
      ]
     },
     "execution_count": 40,
     "metadata": {},
     "output_type": "execute_result"
    }
   ],
   "source": [
    "'Hello '+ 'Pythonista'  # (+) symbol can be use to concatenate strings"
   ]
  },
  {
   "cell_type": "code",
   "execution_count": 41,
   "id": "d6a7949f",
   "metadata": {},
   "outputs": [
    {
     "data": {
      "text/plain": [
       "12.0"
      ]
     },
     "execution_count": 41,
     "metadata": {},
     "output_type": "execute_result"
    }
   ],
   "source": [
    "4 + 8.0     # Adding an integer and a float gives a float number "
   ]
  },
  {
   "cell_type": "code",
   "execution_count": 42,
   "id": "a0cf6747",
   "metadata": {},
   "outputs": [
    {
     "name": "stdout",
     "output_type": "stream",
     "text": [
      "32 , <class 'int'>\n"
     ]
    }
   ],
   "source": [
    "Res = 4*8  # Multiplication of an integer and a float gives a float\n",
    "print(Res,',',type(Res))"
   ]
  },
  {
   "cell_type": "code",
   "execution_count": 44,
   "id": "39354555",
   "metadata": {},
   "outputs": [
    {
     "data": {
      "text/plain": [
       "'EuropeEuropeEuropeEuropeEurope'"
      ]
     },
     "execution_count": 44,
     "metadata": {},
     "output_type": "execute_result"
    }
   ],
   "source": [
    "'Europe'*5   # multiplication polymorphism       "
   ]
  },
  {
   "cell_type": "code",
   "execution_count": 45,
   "id": "2a4a4af5",
   "metadata": {},
   "outputs": [
    {
     "name": "stdout",
     "output_type": "stream",
     "text": [
      "2.545454545454545\n",
      "2.545455\n"
     ]
    }
   ],
   "source": [
    "# round function\n",
    "m = 2.8/1.1\n",
    "print(m)\n",
    "print(round(m,6))"
   ]
  },
  {
   "cell_type": "markdown",
   "id": "0e774ef4",
   "metadata": {},
   "source": [
    "# Conversion"
   ]
  },
  {
   "cell_type": "code",
   "execution_count": 47,
   "id": "80e03512",
   "metadata": {},
   "outputs": [
    {
     "data": {
      "text/plain": [
       "5.0"
      ]
     },
     "execution_count": 47,
     "metadata": {},
     "output_type": "execute_result"
    }
   ],
   "source": [
    "float(5)   # Conversion integer into float"
   ]
  },
  {
   "cell_type": "code",
   "execution_count": 46,
   "id": "517016d1",
   "metadata": {},
   "outputs": [
    {
     "data": {
      "text/plain": [
       "3"
      ]
     },
     "execution_count": 46,
     "metadata": {},
     "output_type": "execute_result"
    }
   ],
   "source": [
    "int(3.8)   # Conversion float into integer"
   ]
  },
  {
   "cell_type": "code",
   "execution_count": 48,
   "id": "dae47be7",
   "metadata": {},
   "outputs": [
    {
     "data": {
      "text/plain": [
       "'456'"
      ]
     },
     "execution_count": 48,
     "metadata": {},
     "output_type": "execute_result"
    }
   ],
   "source": [
    "str(456)   # Conversion ingeter into string"
   ]
  },
  {
   "cell_type": "code",
   "execution_count": 49,
   "id": "913244f8",
   "metadata": {},
   "outputs": [
    {
     "name": "stdout",
     "output_type": "stream",
     "text": [
      "<class 'str'>\n"
     ]
    }
   ],
   "source": [
    "# input function to ask the user a value\n",
    "n = input('type a number: ')\n",
    "print(type(n))"
   ]
  },
  {
   "cell_type": "code",
   "execution_count": 51,
   "id": "a5a0b871",
   "metadata": {},
   "outputs": [
    {
     "name": "stdout",
     "output_type": "stream",
     "text": [
      "<class 'int'>\n"
     ]
    }
   ],
   "source": [
    "# changing the string into an integer\n",
    "n_2 = int(input('type a number: '))\n",
    "print(type(n_2))"
   ]
  },
  {
   "cell_type": "markdown",
   "id": "a2018f1c",
   "metadata": {},
   "source": [
    "# Declaring variables"
   ]
  },
  {
   "cell_type": "code",
   "execution_count": null,
   "id": "fed8d4fd",
   "metadata": {},
   "outputs": [],
   "source": [
    "# Python is a dynamically typed language. It is not necessary to declare the type of variable. "
   ]
  },
  {
   "cell_type": "code",
   "execution_count": 52,
   "id": "60b4f258",
   "metadata": {},
   "outputs": [],
   "source": [
    "a = 10"
   ]
  },
  {
   "cell_type": "code",
   "execution_count": 53,
   "id": "f1d63d9c",
   "metadata": {},
   "outputs": [],
   "source": [
    "b= 3.4"
   ]
  },
  {
   "cell_type": "code",
   "execution_count": 55,
   "id": "2c17d848",
   "metadata": {},
   "outputs": [
    {
     "data": {
      "text/plain": [
       "13.4"
      ]
     },
     "execution_count": 55,
     "metadata": {},
     "output_type": "execute_result"
    }
   ],
   "source": [
    "c= a + b\n",
    "c"
   ]
  },
  {
   "cell_type": "code",
   "execution_count": 56,
   "id": "16509dca",
   "metadata": {},
   "outputs": [
    {
     "name": "stdout",
     "output_type": "stream",
     "text": [
      "5\n",
      "7.89\n",
      "(1+3j)\n"
     ]
    }
   ],
   "source": [
    "# Assigning multiple variables in one-line\n",
    "var0, var1, var2 = 5, 7.89, 1+3j\n",
    "print(var0)\n",
    "print(var1)\n",
    "print(var2)"
   ]
  },
  {
   "cell_type": "code",
   "execution_count": 58,
   "id": "d13c4f3a",
   "metadata": {},
   "outputs": [
    {
     "data": {
      "text/plain": [
       "('France', 'Italy', 'Germany', 'England')"
      ]
     },
     "execution_count": 58,
     "metadata": {},
     "output_type": "execute_result"
    }
   ],
   "source": [
    "Tuple = ('France','Italy', 'Germany', 'England')\n",
    "Tuple"
   ]
  },
  {
   "cell_type": "code",
   "execution_count": 59,
   "id": "4c00afab",
   "metadata": {},
   "outputs": [
    {
     "data": {
      "text/plain": [
       "[1, 2, 3, 4, 5, 6, 7, 8, 9, 10]"
      ]
     },
     "execution_count": 59,
     "metadata": {},
     "output_type": "execute_result"
    }
   ],
   "source": [
    "List = [1,2,3,4,5,6,7,8,9,10] \n",
    "List"
   ]
  },
  {
   "cell_type": "code",
   "execution_count": 60,
   "id": "bcc6a30b",
   "metadata": {},
   "outputs": [
    {
     "data": {
      "text/plain": [
       "{'Y': 'B-22', 'C': 'E-32', 'S': 'T-22'}"
      ]
     },
     "execution_count": 60,
     "metadata": {},
     "output_type": "execute_result"
    }
   ],
   "source": [
    "Dict = {'Y':'B-22', 'C':'E-32', 'S':'T-22'}\n",
    "Dict"
   ]
  }
 ],
 "metadata": {
  "kernelspec": {
   "display_name": "Python 3 (ipykernel)",
   "language": "python",
   "name": "python3"
  },
  "language_info": {
   "codemirror_mode": {
    "name": "ipython",
    "version": 3
   },
   "file_extension": ".py",
   "mimetype": "text/x-python",
   "name": "python",
   "nbconvert_exporter": "python",
   "pygments_lexer": "ipython3",
   "version": "3.11.5"
  }
 },
 "nbformat": 4,
 "nbformat_minor": 5
}
